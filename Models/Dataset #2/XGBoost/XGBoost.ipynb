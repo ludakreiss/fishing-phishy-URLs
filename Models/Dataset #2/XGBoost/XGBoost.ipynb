{
 "cells": [
  {
   "cell_type": "code",
   "execution_count": 6,
   "metadata": {},
   "outputs": [
    {
     "name": "stdout",
     "output_type": "stream",
     "text": [
      "Requirement already satisfied: xgboost in /system/conda/miniconda3/envs/cloudspace/lib/python3.10/site-packages (3.0.0)\n",
      "Requirement already satisfied: numpy in /system/conda/miniconda3/envs/cloudspace/lib/python3.10/site-packages (from xgboost) (1.26.4)\n",
      "Requirement already satisfied: nvidia-nccl-cu12 in /system/conda/miniconda3/envs/cloudspace/lib/python3.10/site-packages (from xgboost) (2.23.4)\n",
      "Requirement already satisfied: scipy in /system/conda/miniconda3/envs/cloudspace/lib/python3.10/site-packages (from xgboost) (1.11.4)\n"
     ]
    }
   ],
   "source": [
    "!pip install xgboost"
   ]
  },
  {
   "cell_type": "code",
   "execution_count": 7,
   "metadata": {},
   "outputs": [],
   "source": [
    "import pandas as pd\n",
    "from xgboost import XGBClassifier\n",
    "from sklearn import metrics\n",
    "from sklearn.metrics import ConfusionMatrixDisplay\n",
    "from joblib import dump\n"
   ]
  },
  {
   "cell_type": "code",
   "execution_count": 8,
   "metadata": {},
   "outputs": [],
   "source": [
    "X_train = pd.read_csv(\"../../Split Data/Training Dataset/X_train #2.csv\").drop(columns=[\"Unnamed: 0\"])\n",
    "y_train = pd.read_csv(\"../../Split Data/Training Dataset/y_train #2.csv\", index_col=0)\n",
    "X_val = pd.read_csv(\"../../Split Data/Validation Dataset/X_val #2.csv\").drop(columns=[\"Unnamed: 0\"])\n",
    "y_val = pd.read_csv(\"../../Split Data/Validation Dataset/y_val #2.csv\", index_col=0)\n",
    "X_test = pd.read_csv(\"../../Split Data/Testing Dataset/X_test #2.csv\").drop(columns=[\"Unnamed: 0\"])\n",
    "y_test = pd.read_csv(\"../../Split Data/Testing Dataset/y_test #2.csv\", index_col=0)"
   ]
  },
  {
   "cell_type": "code",
   "execution_count": 9,
   "metadata": {},
   "outputs": [],
   "source": [
    "model = XGBClassifier(objective='binary:logistic', max_depth = 3, n_estimators = 1000, early_stopping_rounds=5,)"
   ]
  },
  {
   "cell_type": "code",
   "execution_count": 10,
   "metadata": {},
   "outputs": [
    {
     "name": "stdout",
     "output_type": "stream",
     "text": [
      "[0]\tvalidation_0-logloss:0.54345\n",
      "[1]\tvalidation_0-logloss:0.46334\n",
      "[2]\tvalidation_0-logloss:0.41770\n",
      "[3]\tvalidation_0-logloss:0.38749\n",
      "[4]\tvalidation_0-logloss:0.36903\n",
      "[5]\tvalidation_0-logloss:0.35646\n",
      "[6]\tvalidation_0-logloss:0.34693\n",
      "[7]\tvalidation_0-logloss:0.34122\n",
      "[8]\tvalidation_0-logloss:0.33539\n",
      "[9]\tvalidation_0-logloss:0.32786\n",
      "[10]\tvalidation_0-logloss:0.32438\n",
      "[11]\tvalidation_0-logloss:0.32127\n",
      "[12]\tvalidation_0-logloss:0.31892\n",
      "[13]\tvalidation_0-logloss:0.31540\n",
      "[14]\tvalidation_0-logloss:0.31280\n",
      "[15]\tvalidation_0-logloss:0.30887\n",
      "[16]\tvalidation_0-logloss:0.30698\n",
      "[17]\tvalidation_0-logloss:0.30465\n",
      "[18]\tvalidation_0-logloss:0.30227\n",
      "[19]\tvalidation_0-logloss:0.30102\n",
      "[20]\tvalidation_0-logloss:0.29948\n",
      "[21]\tvalidation_0-logloss:0.29839\n",
      "[22]\tvalidation_0-logloss:0.29556\n",
      "[23]\tvalidation_0-logloss:0.29473\n",
      "[24]\tvalidation_0-logloss:0.29323\n",
      "[25]\tvalidation_0-logloss:0.29266\n",
      "[26]\tvalidation_0-logloss:0.29115\n",
      "[27]\tvalidation_0-logloss:0.29013\n",
      "[28]\tvalidation_0-logloss:0.28923\n",
      "[29]\tvalidation_0-logloss:0.28897\n",
      "[30]\tvalidation_0-logloss:0.28885\n",
      "[31]\tvalidation_0-logloss:0.28712\n",
      "[32]\tvalidation_0-logloss:0.28685\n",
      "[33]\tvalidation_0-logloss:0.28683\n",
      "[34]\tvalidation_0-logloss:0.28535\n",
      "[35]\tvalidation_0-logloss:0.28493\n",
      "[36]\tvalidation_0-logloss:0.28283\n",
      "[37]\tvalidation_0-logloss:0.28242\n",
      "[38]\tvalidation_0-logloss:0.28153\n",
      "[39]\tvalidation_0-logloss:0.28054\n",
      "[40]\tvalidation_0-logloss:0.27971\n",
      "[41]\tvalidation_0-logloss:0.27960\n",
      "[42]\tvalidation_0-logloss:0.27942\n",
      "[43]\tvalidation_0-logloss:0.27930\n",
      "[44]\tvalidation_0-logloss:0.27937\n",
      "[45]\tvalidation_0-logloss:0.27889\n",
      "[46]\tvalidation_0-logloss:0.27843\n",
      "[47]\tvalidation_0-logloss:0.27790\n",
      "[48]\tvalidation_0-logloss:0.27785\n",
      "[49]\tvalidation_0-logloss:0.27765\n",
      "[50]\tvalidation_0-logloss:0.27757\n",
      "[51]\tvalidation_0-logloss:0.27675\n",
      "[52]\tvalidation_0-logloss:0.27654\n",
      "[53]\tvalidation_0-logloss:0.27649\n",
      "[54]\tvalidation_0-logloss:0.27558\n",
      "[55]\tvalidation_0-logloss:0.27454\n",
      "[56]\tvalidation_0-logloss:0.27448\n",
      "[57]\tvalidation_0-logloss:0.27409\n",
      "[58]\tvalidation_0-logloss:0.27354\n",
      "[59]\tvalidation_0-logloss:0.27358\n",
      "[60]\tvalidation_0-logloss:0.27226\n",
      "[61]\tvalidation_0-logloss:0.27216\n",
      "[62]\tvalidation_0-logloss:0.27167\n",
      "[63]\tvalidation_0-logloss:0.27144\n",
      "[64]\tvalidation_0-logloss:0.27152\n",
      "[65]\tvalidation_0-logloss:0.27141\n",
      "[66]\tvalidation_0-logloss:0.27130\n",
      "[67]\tvalidation_0-logloss:0.27090\n",
      "[68]\tvalidation_0-logloss:0.27044\n",
      "[69]\tvalidation_0-logloss:0.27061\n",
      "[70]\tvalidation_0-logloss:0.27013\n",
      "[71]\tvalidation_0-logloss:0.26967\n",
      "[72]\tvalidation_0-logloss:0.26920\n",
      "[73]\tvalidation_0-logloss:0.26902\n",
      "[74]\tvalidation_0-logloss:0.26868\n",
      "[75]\tvalidation_0-logloss:0.26809\n",
      "[76]\tvalidation_0-logloss:0.26794\n",
      "[77]\tvalidation_0-logloss:0.26747\n",
      "[78]\tvalidation_0-logloss:0.26745\n",
      "[79]\tvalidation_0-logloss:0.26746\n",
      "[80]\tvalidation_0-logloss:0.26667\n",
      "[81]\tvalidation_0-logloss:0.26579\n",
      "[82]\tvalidation_0-logloss:0.26566\n",
      "[83]\tvalidation_0-logloss:0.26569\n",
      "[84]\tvalidation_0-logloss:0.26616\n",
      "[85]\tvalidation_0-logloss:0.26593\n",
      "[86]\tvalidation_0-logloss:0.26597\n"
     ]
    },
    {
     "data": {
      "text/html": [
       "<style>#sk-container-id-1 {color: black;}#sk-container-id-1 pre{padding: 0;}#sk-container-id-1 div.sk-toggleable {background-color: white;}#sk-container-id-1 label.sk-toggleable__label {cursor: pointer;display: block;width: 100%;margin-bottom: 0;padding: 0.3em;box-sizing: border-box;text-align: center;}#sk-container-id-1 label.sk-toggleable__label-arrow:before {content: \"▸\";float: left;margin-right: 0.25em;color: #696969;}#sk-container-id-1 label.sk-toggleable__label-arrow:hover:before {color: black;}#sk-container-id-1 div.sk-estimator:hover label.sk-toggleable__label-arrow:before {color: black;}#sk-container-id-1 div.sk-toggleable__content {max-height: 0;max-width: 0;overflow: hidden;text-align: left;background-color: #f0f8ff;}#sk-container-id-1 div.sk-toggleable__content pre {margin: 0.2em;color: black;border-radius: 0.25em;background-color: #f0f8ff;}#sk-container-id-1 input.sk-toggleable__control:checked~div.sk-toggleable__content {max-height: 200px;max-width: 100%;overflow: auto;}#sk-container-id-1 input.sk-toggleable__control:checked~label.sk-toggleable__label-arrow:before {content: \"▾\";}#sk-container-id-1 div.sk-estimator input.sk-toggleable__control:checked~label.sk-toggleable__label {background-color: #d4ebff;}#sk-container-id-1 div.sk-label input.sk-toggleable__control:checked~label.sk-toggleable__label {background-color: #d4ebff;}#sk-container-id-1 input.sk-hidden--visually {border: 0;clip: rect(1px 1px 1px 1px);clip: rect(1px, 1px, 1px, 1px);height: 1px;margin: -1px;overflow: hidden;padding: 0;position: absolute;width: 1px;}#sk-container-id-1 div.sk-estimator {font-family: monospace;background-color: #f0f8ff;border: 1px dotted black;border-radius: 0.25em;box-sizing: border-box;margin-bottom: 0.5em;}#sk-container-id-1 div.sk-estimator:hover {background-color: #d4ebff;}#sk-container-id-1 div.sk-parallel-item::after {content: \"\";width: 100%;border-bottom: 1px solid gray;flex-grow: 1;}#sk-container-id-1 div.sk-label:hover label.sk-toggleable__label {background-color: #d4ebff;}#sk-container-id-1 div.sk-serial::before {content: \"\";position: absolute;border-left: 1px solid gray;box-sizing: border-box;top: 0;bottom: 0;left: 50%;z-index: 0;}#sk-container-id-1 div.sk-serial {display: flex;flex-direction: column;align-items: center;background-color: white;padding-right: 0.2em;padding-left: 0.2em;position: relative;}#sk-container-id-1 div.sk-item {position: relative;z-index: 1;}#sk-container-id-1 div.sk-parallel {display: flex;align-items: stretch;justify-content: center;background-color: white;position: relative;}#sk-container-id-1 div.sk-item::before, #sk-container-id-1 div.sk-parallel-item::before {content: \"\";position: absolute;border-left: 1px solid gray;box-sizing: border-box;top: 0;bottom: 0;left: 50%;z-index: -1;}#sk-container-id-1 div.sk-parallel-item {display: flex;flex-direction: column;z-index: 1;position: relative;background-color: white;}#sk-container-id-1 div.sk-parallel-item:first-child::after {align-self: flex-end;width: 50%;}#sk-container-id-1 div.sk-parallel-item:last-child::after {align-self: flex-start;width: 50%;}#sk-container-id-1 div.sk-parallel-item:only-child::after {width: 0;}#sk-container-id-1 div.sk-dashed-wrapped {border: 1px dashed gray;margin: 0 0.4em 0.5em 0.4em;box-sizing: border-box;padding-bottom: 0.4em;background-color: white;}#sk-container-id-1 div.sk-label label {font-family: monospace;font-weight: bold;display: inline-block;line-height: 1.2em;}#sk-container-id-1 div.sk-label-container {text-align: center;}#sk-container-id-1 div.sk-container {/* jupyter's `normalize.less` sets `[hidden] { display: none; }` but bootstrap.min.css set `[hidden] { display: none !important; }` so we also need the `!important` here to be able to override the default hidden behavior on the sphinx rendered scikit-learn.org. See: https://github.com/scikit-learn/scikit-learn/issues/21755 */display: inline-block !important;position: relative;}#sk-container-id-1 div.sk-text-repr-fallback {display: none;}</style><div id=\"sk-container-id-1\" class=\"sk-top-container\"><div class=\"sk-text-repr-fallback\"><pre>XGBClassifier(base_score=None, booster=None, callbacks=None,\n",
       "              colsample_bylevel=None, colsample_bynode=None,\n",
       "              colsample_bytree=None, device=None, early_stopping_rounds=5,\n",
       "              enable_categorical=False, eval_metric=None, feature_types=None,\n",
       "              feature_weights=None, gamma=None, grow_policy=None,\n",
       "              importance_type=None, interaction_constraints=None,\n",
       "              learning_rate=None, max_bin=None, max_cat_threshold=None,\n",
       "              max_cat_to_onehot=None, max_delta_step=None, max_depth=3,\n",
       "              max_leaves=None, min_child_weight=None, missing=nan,\n",
       "              monotone_constraints=None, multi_strategy=None, n_estimators=1000,\n",
       "              n_jobs=None, num_parallel_tree=None, ...)</pre><b>In a Jupyter environment, please rerun this cell to show the HTML representation or trust the notebook. <br />On GitHub, the HTML representation is unable to render, please try loading this page with nbviewer.org.</b></div><div class=\"sk-container\" hidden><div class=\"sk-item\"><div class=\"sk-estimator sk-toggleable\"><input class=\"sk-toggleable__control sk-hidden--visually\" id=\"sk-estimator-id-1\" type=\"checkbox\" checked><label for=\"sk-estimator-id-1\" class=\"sk-toggleable__label sk-toggleable__label-arrow\">XGBClassifier</label><div class=\"sk-toggleable__content\"><pre>XGBClassifier(base_score=None, booster=None, callbacks=None,\n",
       "              colsample_bylevel=None, colsample_bynode=None,\n",
       "              colsample_bytree=None, device=None, early_stopping_rounds=5,\n",
       "              enable_categorical=False, eval_metric=None, feature_types=None,\n",
       "              feature_weights=None, gamma=None, grow_policy=None,\n",
       "              importance_type=None, interaction_constraints=None,\n",
       "              learning_rate=None, max_bin=None, max_cat_threshold=None,\n",
       "              max_cat_to_onehot=None, max_delta_step=None, max_depth=3,\n",
       "              max_leaves=None, min_child_weight=None, missing=nan,\n",
       "              monotone_constraints=None, multi_strategy=None, n_estimators=1000,\n",
       "              n_jobs=None, num_parallel_tree=None, ...)</pre></div></div></div></div></div>"
      ],
      "text/plain": [
       "XGBClassifier(base_score=None, booster=None, callbacks=None,\n",
       "              colsample_bylevel=None, colsample_bynode=None,\n",
       "              colsample_bytree=None, device=None, early_stopping_rounds=5,\n",
       "              enable_categorical=False, eval_metric=None, feature_types=None,\n",
       "              feature_weights=None, gamma=None, grow_policy=None,\n",
       "              importance_type=None, interaction_constraints=None,\n",
       "              learning_rate=None, max_bin=None, max_cat_threshold=None,\n",
       "              max_cat_to_onehot=None, max_delta_step=None, max_depth=3,\n",
       "              max_leaves=None, min_child_weight=None, missing=nan,\n",
       "              monotone_constraints=None, multi_strategy=None, n_estimators=1000,\n",
       "              n_jobs=None, num_parallel_tree=None, ...)"
      ]
     },
     "execution_count": 10,
     "metadata": {},
     "output_type": "execute_result"
    }
   ],
   "source": [
    "model.fit(X_train, y_train,  verbose = True, eval_set=[(X_val,y_val)])"
   ]
  },
  {
   "cell_type": "code",
   "execution_count": 11,
   "metadata": {},
   "outputs": [],
   "source": [
    "y_pred = model.predict(X_test)"
   ]
  },
  {
   "cell_type": "code",
   "execution_count": 12,
   "metadata": {},
   "outputs": [
    {
     "data": {
      "text/plain": [
       "<sklearn.metrics._plot.confusion_matrix.ConfusionMatrixDisplay at 0x74e61c6e7cd0>"
      ]
     },
     "execution_count": 12,
     "metadata": {},
     "output_type": "execute_result"
    },
    {
     "data": {
      "image/png": "[encoded data removed]",
      "text/plain": [
       "<Figure size 640x480 with 2 Axes>"
      ]
     },
     "metadata": {},
     "output_type": "display_data"
    }
   ],
   "source": [
    "confusion_matrix = metrics.confusion_matrix(y_test, y_pred)\n",
    "matrix = ConfusionMatrixDisplay(confusion_matrix = confusion_matrix, display_labels = [\"benign\", \"phishing\"])                            \n",
    "matrix.plot()"
   ]
  },
  {
   "cell_type": "code",
   "execution_count": 13,
   "metadata": {},
   "outputs": [],
   "source": [
    "Accuracy = metrics.accuracy_score(y_test, y_pred)\n",
    "Precision = metrics.precision_score(y_test, y_pred)\n",
    "Recall = metrics.recall_score(y_test, y_pred)\n",
    "F1_score = metrics.f1_score(y_test, y_pred)"
   ]
  },
  {
   "cell_type": "code",
   "execution_count": 14,
   "metadata": {},
   "outputs": [
    {
     "name": "stdout",
     "output_type": "stream",
     "text": [
      "{'Accuracy': 0.8950437317784257, 'Precision': 0.8926174496644296, 'Recall': 0.9047619047619048, 'F1_score': 0.8986486486486487}\n"
     ]
    }
   ],
   "source": [
    "print({\"Accuracy\":Accuracy,\"Precision\":Precision,\"Recall\":Recall,\"F1_score\":F1_score})"
   ]
  },
  {
   "cell_type": "code",
   "execution_count": 15,
   "metadata": {},
   "outputs": [],
   "source": [
    "df = pd.read_csv(\"Metrics of Dataset #2.csv\")"
   ]
  },
  {
   "cell_type": "code",
   "execution_count": 16,
   "metadata": {},
   "outputs": [],
   "source": [
    "metrics = pd.DataFrame({\"Model\": \"XGBoost\", \"Accuracy\": [Accuracy], \"Precision\":[Precision], \"Recall\": [Recall], \"F1_score\": [F1_score]})"
   ]
  },
  {
   "cell_type": "code",
   "execution_count": 17,
   "metadata": {},
   "outputs": [],
   "source": [
    "df = pd.concat([df, metrics], ignore_index=True)"
   ]
  },
  {
   "cell_type": "code",
   "execution_count": 18,
   "metadata": {},
   "outputs": [
    {
     "data": {
      "text/html": [
       "<div>\n",
       "<style scoped>\n",
       "    .dataframe tbody tr th:only-of-type {\n",
       "        vertical-align: middle;\n",
       "    }\n",
       "\n",
       "    .dataframe tbody tr th {\n",
       "        vertical-align: top;\n",
       "    }\n",
       "\n",
       "    .dataframe thead th {\n",
       "        text-align: right;\n",
       "    }\n",
       "</style>\n",
       "<table border=\"1\" class=\"dataframe\">\n",
       "  <thead>\n",
       "    <tr style=\"text-align: right;\">\n",
       "      <th></th>\n",
       "      <th>Model</th>\n",
       "      <th>Accuracy</th>\n",
       "      <th>Precision</th>\n",
       "      <th>Recall</th>\n",
       "      <th>F1_score</th>\n",
       "    </tr>\n",
       "  </thead>\n",
       "  <tbody>\n",
       "    <tr>\n",
       "      <th>0</th>\n",
       "      <td>LinearSVC</td>\n",
       "      <td>0.869388</td>\n",
       "      <td>0.859170</td>\n",
       "      <td>0.892290</td>\n",
       "      <td>0.875417</td>\n",
       "    </tr>\n",
       "    <tr>\n",
       "      <th>1</th>\n",
       "      <td>Random Forest</td>\n",
       "      <td>0.900875</td>\n",
       "      <td>0.913953</td>\n",
       "      <td>0.891156</td>\n",
       "      <td>0.902411</td>\n",
       "    </tr>\n",
       "    <tr>\n",
       "      <th>2</th>\n",
       "      <td>XGBoost</td>\n",
       "      <td>0.895044</td>\n",
       "      <td>0.892617</td>\n",
       "      <td>0.904762</td>\n",
       "      <td>0.898649</td>\n",
       "    </tr>\n",
       "  </tbody>\n",
       "</table>\n",
       "</div>"
      ],
      "text/plain": [
       "           Model  Accuracy  Precision    Recall  F1_score\n",
       "0      LinearSVC  0.869388   0.859170  0.892290  0.875417\n",
       "1  Random Forest  0.900875   0.913953  0.891156  0.902411\n",
       "2        XGBoost  0.895044   0.892617  0.904762  0.898649"
      ]
     },
     "execution_count": 18,
     "metadata": {},
     "output_type": "execute_result"
    }
   ],
   "source": [
    "df.head()"
   ]
  },
  {
   "cell_type": "code",
   "execution_count": 19,
   "metadata": {},
   "outputs": [],
   "source": [
    "df.to_csv(\"Metrics of Dataset #2.csv\", index=False)"
   ]
  },
  {
   "cell_type": "code",
   "execution_count": 20,
   "metadata": {},
   "outputs": [
    {
     "data": {
      "text/plain": [
       "['XGBoost #2.joblib']"
      ]
     },
     "execution_count": 20,
     "metadata": {},
     "output_type": "execute_result"
    }
   ],
   "source": [
    "dump(model, 'XGBoost #2.joblib')"
   ]
  }
 ],
 "metadata": {
  "language_info": {
   "name": "python"
  }
 },
 "nbformat": 4,
 "nbformat_minor": 2
}
