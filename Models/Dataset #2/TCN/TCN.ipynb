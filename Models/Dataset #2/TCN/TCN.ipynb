{
 "cells": [
  {
   "cell_type": "code",
   "execution_count": 1,
   "metadata": {},
   "outputs": [
    {
     "name": "stdout",
     "output_type": "stream",
     "text": [
      "Requirement already satisfied: keras-tcn in /system/conda/miniconda3/envs/cloudspace/lib/python3.10/site-packages (3.5.6)\n",
      "Requirement already satisfied: numpy in /system/conda/miniconda3/envs/cloudspace/lib/python3.10/site-packages (from keras-tcn) (1.26.4)\n",
      "Requirement already satisfied: tensorflow in /system/conda/miniconda3/envs/cloudspace/lib/python3.10/site-packages (from keras-tcn) (2.15.0)\n",
      "Requirement already satisfied: absl-py>=1.0.0 in /system/conda/miniconda3/envs/cloudspace/lib/python3.10/site-packages (from tensorflow->keras-tcn) (2.2.2)\n",
      "Requirement already satisfied: astunparse>=1.6.0 in /system/conda/miniconda3/envs/cloudspace/lib/python3.10/site-packages (from tensorflow->keras-tcn) (1.6.3)\n",
      "Requirement already satisfied: flatbuffers>=23.5.26 in /system/conda/miniconda3/envs/cloudspace/lib/python3.10/site-packages (from tensorflow->keras-tcn) (25.2.10)\n",
      "Requirement already satisfied: gast!=0.5.0,!=0.5.1,!=0.5.2,>=0.2.1 in /system/conda/miniconda3/envs/cloudspace/lib/python3.10/site-packages (from tensorflow->keras-tcn) (0.6.0)\n",
      "Requirement already satisfied: google-pasta>=0.1.1 in /system/conda/miniconda3/envs/cloudspace/lib/python3.10/site-packages (from tensorflow->keras-tcn) (0.2.0)\n",
      "Requirement already satisfied: h5py>=2.9.0 in /system/conda/miniconda3/envs/cloudspace/lib/python3.10/site-packages (from tensorflow->keras-tcn) (3.13.0)\n",
      "Requirement already satisfied: libclang>=13.0.0 in /system/conda/miniconda3/envs/cloudspace/lib/python3.10/site-packages (from tensorflow->keras-tcn) (18.1.1)\n",
      "Requirement already satisfied: ml-dtypes~=0.2.0 in /system/conda/miniconda3/envs/cloudspace/lib/python3.10/site-packages (from tensorflow->keras-tcn) (0.2.0)\n",
      "Requirement already satisfied: opt-einsum>=2.3.2 in /system/conda/miniconda3/envs/cloudspace/lib/python3.10/site-packages (from tensorflow->keras-tcn) (3.4.0)\n",
      "Requirement already satisfied: packaging in /system/conda/miniconda3/envs/cloudspace/lib/python3.10/site-packages (from tensorflow->keras-tcn) (24.2)\n",
      "Requirement already satisfied: protobuf!=4.21.0,!=4.21.1,!=4.21.2,!=4.21.3,!=4.21.4,!=4.21.5,<5.0.0dev,>=3.20.3 in /system/conda/miniconda3/envs/cloudspace/lib/python3.10/site-packages (from tensorflow->keras-tcn) (4.23.4)\n",
      "Requirement already satisfied: setuptools in /system/conda/miniconda3/envs/cloudspace/lib/python3.10/site-packages (from tensorflow->keras-tcn) (75.8.0)\n",
      "Requirement already satisfied: six>=1.12.0 in /system/conda/miniconda3/envs/cloudspace/lib/python3.10/site-packages (from tensorflow->keras-tcn) (1.17.0)\n",
      "Requirement already satisfied: termcolor>=1.1.0 in /system/conda/miniconda3/envs/cloudspace/lib/python3.10/site-packages (from tensorflow->keras-tcn) (3.0.1)\n",
      "Requirement already satisfied: typing-extensions>=3.6.6 in /system/conda/miniconda3/envs/cloudspace/lib/python3.10/site-packages (from tensorflow->keras-tcn) (4.13.2)\n",
      "Requirement already satisfied: wrapt<1.15,>=1.11.0 in /system/conda/miniconda3/envs/cloudspace/lib/python3.10/site-packages (from tensorflow->keras-tcn) (1.14.1)\n",
      "Requirement already satisfied: tensorflow-io-gcs-filesystem>=0.23.1 in /system/conda/miniconda3/envs/cloudspace/lib/python3.10/site-packages (from tensorflow->keras-tcn) (0.37.1)\n",
      "Requirement already satisfied: grpcio<2.0,>=1.24.3 in /system/conda/miniconda3/envs/cloudspace/lib/python3.10/site-packages (from tensorflow->keras-tcn) (1.71.0)\n",
      "Requirement already satisfied: tensorboard<2.16,>=2.15 in /system/conda/miniconda3/envs/cloudspace/lib/python3.10/site-packages (from tensorflow->keras-tcn) (2.15.2)\n",
      "Requirement already satisfied: tensorflow-estimator<2.16,>=2.15.0 in /system/conda/miniconda3/envs/cloudspace/lib/python3.10/site-packages (from tensorflow->keras-tcn) (2.15.0)\n",
      "Requirement already satisfied: keras<2.16,>=2.15.0 in /system/conda/miniconda3/envs/cloudspace/lib/python3.10/site-packages (from tensorflow->keras-tcn) (2.15.0)\n",
      "Requirement already satisfied: wheel<1.0,>=0.23.0 in /system/conda/miniconda3/envs/cloudspace/lib/python3.10/site-packages (from astunparse>=1.6.0->tensorflow->keras-tcn) (0.45.1)\n",
      "Requirement already satisfied: google-auth<3,>=1.6.3 in /system/conda/miniconda3/envs/cloudspace/lib/python3.10/site-packages (from tensorboard<2.16,>=2.15->tensorflow->keras-tcn) (2.39.0)\n",
      "Requirement already satisfied: google-auth-oauthlib<2,>=0.5 in /system/conda/miniconda3/envs/cloudspace/lib/python3.10/site-packages (from tensorboard<2.16,>=2.15->tensorflow->keras-tcn) (1.2.1)\n",
      "Requirement already satisfied: markdown>=2.6.8 in /system/conda/miniconda3/envs/cloudspace/lib/python3.10/site-packages (from tensorboard<2.16,>=2.15->tensorflow->keras-tcn) (3.8)\n",
      "Requirement already satisfied: requests<3,>=2.21.0 in /system/conda/miniconda3/envs/cloudspace/lib/python3.10/site-packages (from tensorboard<2.16,>=2.15->tensorflow->keras-tcn) (2.32.3)\n",
      "Requirement already satisfied: tensorboard-data-server<0.8.0,>=0.7.0 in /system/conda/miniconda3/envs/cloudspace/lib/python3.10/site-packages (from tensorboard<2.16,>=2.15->tensorflow->keras-tcn) (0.7.2)\n",
      "Requirement already satisfied: werkzeug>=1.0.1 in /system/conda/miniconda3/envs/cloudspace/lib/python3.10/site-packages (from tensorboard<2.16,>=2.15->tensorflow->keras-tcn) (3.1.3)\n",
      "Requirement already satisfied: cachetools<6.0,>=2.0.0 in /system/conda/miniconda3/envs/cloudspace/lib/python3.10/site-packages (from google-auth<3,>=1.6.3->tensorboard<2.16,>=2.15->tensorflow->keras-tcn) (5.5.2)\n",
      "Requirement already satisfied: pyasn1-modules>=0.2.1 in /system/conda/miniconda3/envs/cloudspace/lib/python3.10/site-packages (from google-auth<3,>=1.6.3->tensorboard<2.16,>=2.15->tensorflow->keras-tcn) (0.4.2)\n",
      "Requirement already satisfied: rsa<5,>=3.1.4 in /system/conda/miniconda3/envs/cloudspace/lib/python3.10/site-packages (from google-auth<3,>=1.6.3->tensorboard<2.16,>=2.15->tensorflow->keras-tcn) (4.9)\n",
      "Requirement already satisfied: requests-oauthlib>=0.7.0 in /system/conda/miniconda3/envs/cloudspace/lib/python3.10/site-packages (from google-auth-oauthlib<2,>=0.5->tensorboard<2.16,>=2.15->tensorflow->keras-tcn) (2.0.0)\n",
      "Requirement already satisfied: charset-normalizer<4,>=2 in /system/conda/miniconda3/envs/cloudspace/lib/python3.10/site-packages (from requests<3,>=2.21.0->tensorboard<2.16,>=2.15->tensorflow->keras-tcn) (3.4.1)\n",
      "Requirement already satisfied: idna<4,>=2.5 in /system/conda/miniconda3/envs/cloudspace/lib/python3.10/site-packages (from requests<3,>=2.21.0->tensorboard<2.16,>=2.15->tensorflow->keras-tcn) (3.10)\n",
      "Requirement already satisfied: urllib3<3,>=1.21.1 in /system/conda/miniconda3/envs/cloudspace/lib/python3.10/site-packages (from requests<3,>=2.21.0->tensorboard<2.16,>=2.15->tensorflow->keras-tcn) (2.4.0)\n",
      "Requirement already satisfied: certifi>=2017.4.17 in /system/conda/miniconda3/envs/cloudspace/lib/python3.10/site-packages (from requests<3,>=2.21.0->tensorboard<2.16,>=2.15->tensorflow->keras-tcn) (2025.1.31)\n",
      "Requirement already satisfied: MarkupSafe>=2.1.1 in /system/conda/miniconda3/envs/cloudspace/lib/python3.10/site-packages (from werkzeug>=1.0.1->tensorboard<2.16,>=2.15->tensorflow->keras-tcn) (3.0.2)\n",
      "Requirement already satisfied: pyasn1<0.7.0,>=0.6.1 in /system/conda/miniconda3/envs/cloudspace/lib/python3.10/site-packages (from pyasn1-modules>=0.2.1->google-auth<3,>=1.6.3->tensorboard<2.16,>=2.15->tensorflow->keras-tcn) (0.6.1)\n",
      "Requirement already satisfied: oauthlib>=3.0.0 in /system/conda/miniconda3/envs/cloudspace/lib/python3.10/site-packages (from requests-oauthlib>=0.7.0->google-auth-oauthlib<2,>=0.5->tensorboard<2.16,>=2.15->tensorflow->keras-tcn) (3.2.2)\n"
     ]
    }
   ],
   "source": [
    "!pip install keras-tcn"
   ]
  },
  {
   "cell_type": "code",
   "execution_count": 28,
   "metadata": {},
   "outputs": [],
   "source": [
    "from tcn import TCN\n",
    "from tensorflow.keras.models import Model, load_model, model_from_json\n",
    "from tensorflow.keras.layers import Input, Dense, GlobalMaxPooling1D, GlobalAveragePooling1D, Concatenate, Dropout\n",
    "from tensorflow.keras.optimizers import Adam\n",
    "from keras.callbacks import EarlyStopping\n",
    "from tensorflow.keras.utils import to_categorical\n",
    "from sklearn.preprocessing import StandardScaler\n",
    "import pandas as pd\n",
    "import numpy as np\n",
    "from tensorflow.keras import Sequential\n",
    "from sklearn import metrics\n",
    "from sklearn.metrics import ConfusionMatrixDisplay\n",
    "from joblib import dump\n",
    "from tensorflow.keras.callbacks import ModelCheckpoint\n",
    "from tensorflow.keras import backend as K\n",
    "import joblib"
   ]
  },
  {
   "cell_type": "code",
   "execution_count": 32,
   "metadata": {},
   "outputs": [
    {
     "name": "stdout",
     "output_type": "stream",
     "text": [
      "Collecting tensorflow==2.15.0\n",
      "  Downloading tensorflow-2.15.0-cp310-cp310-manylinux_2_17_x86_64.manylinux2014_x86_64.whl.metadata (4.4 kB)\n",
      "Requirement already satisfied: absl-py>=1.0.0 in /system/conda/miniconda3/envs/cloudspace/lib/python3.10/site-packages (from tensorflow==2.15.0) (2.2.2)\n",
      "Requirement already satisfied: astunparse>=1.6.0 in /system/conda/miniconda3/envs/cloudspace/lib/python3.10/site-packages (from tensorflow==2.15.0) (1.6.3)\n",
      "Requirement already satisfied: flatbuffers>=23.5.26 in /system/conda/miniconda3/envs/cloudspace/lib/python3.10/site-packages (from tensorflow==2.15.0) (25.2.10)\n",
      "Requirement already satisfied: gast!=0.5.0,!=0.5.1,!=0.5.2,>=0.2.1 in /system/conda/miniconda3/envs/cloudspace/lib/python3.10/site-packages (from tensorflow==2.15.0) (0.6.0)\n",
      "Requirement already satisfied: google-pasta>=0.1.1 in /system/conda/miniconda3/envs/cloudspace/lib/python3.10/site-packages (from tensorflow==2.15.0) (0.2.0)\n",
      "Requirement already satisfied: h5py>=2.9.0 in /system/conda/miniconda3/envs/cloudspace/lib/python3.10/site-packages (from tensorflow==2.15.0) (3.13.0)\n",
      "Requirement already satisfied: libclang>=13.0.0 in /system/conda/miniconda3/envs/cloudspace/lib/python3.10/site-packages (from tensorflow==2.15.0) (18.1.1)\n",
      "Collecting ml-dtypes~=0.2.0 (from tensorflow==2.15.0)\n",
      "  Downloading ml_dtypes-0.2.0-cp310-cp310-manylinux_2_17_x86_64.manylinux2014_x86_64.whl.metadata (20 kB)\n",
      "Requirement already satisfied: numpy<2.0.0,>=1.23.5 in /system/conda/miniconda3/envs/cloudspace/lib/python3.10/site-packages (from tensorflow==2.15.0) (1.26.4)\n",
      "Requirement already satisfied: opt-einsum>=2.3.2 in /system/conda/miniconda3/envs/cloudspace/lib/python3.10/site-packages (from tensorflow==2.15.0) (3.4.0)\n",
      "Requirement already satisfied: packaging in /system/conda/miniconda3/envs/cloudspace/lib/python3.10/site-packages (from tensorflow==2.15.0) (24.2)\n",
      "Requirement already satisfied: protobuf!=4.21.0,!=4.21.1,!=4.21.2,!=4.21.3,!=4.21.4,!=4.21.5,<5.0.0dev,>=3.20.3 in /system/conda/miniconda3/envs/cloudspace/lib/python3.10/site-packages (from tensorflow==2.15.0) (4.23.4)\n",
      "Requirement already satisfied: setuptools in /system/conda/miniconda3/envs/cloudspace/lib/python3.10/site-packages (from tensorflow==2.15.0) (75.8.0)\n",
      "Requirement already satisfied: six>=1.12.0 in /system/conda/miniconda3/envs/cloudspace/lib/python3.10/site-packages (from tensorflow==2.15.0) (1.17.0)\n",
      "Requirement already satisfied: termcolor>=1.1.0 in /system/conda/miniconda3/envs/cloudspace/lib/python3.10/site-packages (from tensorflow==2.15.0) (3.0.1)\n",
      "Requirement already satisfied: typing-extensions>=3.6.6 in /system/conda/miniconda3/envs/cloudspace/lib/python3.10/site-packages (from tensorflow==2.15.0) (4.13.2)\n",
      "Collecting wrapt<1.15,>=1.11.0 (from tensorflow==2.15.0)\n",
      "  Downloading wrapt-1.14.1-cp310-cp310-manylinux_2_5_x86_64.manylinux1_x86_64.manylinux_2_17_x86_64.manylinux2014_x86_64.whl.metadata (6.7 kB)\n",
      "Requirement already satisfied: tensorflow-io-gcs-filesystem>=0.23.1 in /system/conda/miniconda3/envs/cloudspace/lib/python3.10/site-packages (from tensorflow==2.15.0) (0.37.1)\n",
      "Requirement already satisfied: grpcio<2.0,>=1.24.3 in /system/conda/miniconda3/envs/cloudspace/lib/python3.10/site-packages (from tensorflow==2.15.0) (1.71.0)\n",
      "Collecting tensorboard<2.16,>=2.15 (from tensorflow==2.15.0)\n",
      "  Downloading tensorboard-2.15.2-py3-none-any.whl.metadata (1.7 kB)\n",
      "Collecting tensorflow-estimator<2.16,>=2.15.0 (from tensorflow==2.15.0)\n",
      "  Downloading tensorflow_estimator-2.15.0-py2.py3-none-any.whl.metadata (1.3 kB)\n",
      "Collecting keras<2.16,>=2.15.0 (from tensorflow==2.15.0)\n",
      "  Downloading keras-2.15.0-py3-none-any.whl.metadata (2.4 kB)\n",
      "Requirement already satisfied: wheel<1.0,>=0.23.0 in /system/conda/miniconda3/envs/cloudspace/lib/python3.10/site-packages (from astunparse>=1.6.0->tensorflow==2.15.0) (0.45.1)\n",
      "Requirement already satisfied: google-auth<3,>=1.6.3 in /system/conda/miniconda3/envs/cloudspace/lib/python3.10/site-packages (from tensorboard<2.16,>=2.15->tensorflow==2.15.0) (2.39.0)\n",
      "Requirement already satisfied: google-auth-oauthlib<2,>=0.5 in /system/conda/miniconda3/envs/cloudspace/lib/python3.10/site-packages (from tensorboard<2.16,>=2.15->tensorflow==2.15.0) (1.2.1)\n",
      "Requirement already satisfied: markdown>=2.6.8 in /system/conda/miniconda3/envs/cloudspace/lib/python3.10/site-packages (from tensorboard<2.16,>=2.15->tensorflow==2.15.0) (3.8)\n",
      "Requirement already satisfied: requests<3,>=2.21.0 in /system/conda/miniconda3/envs/cloudspace/lib/python3.10/site-packages (from tensorboard<2.16,>=2.15->tensorflow==2.15.0) (2.32.3)\n",
      "Requirement already satisfied: tensorboard-data-server<0.8.0,>=0.7.0 in /system/conda/miniconda3/envs/cloudspace/lib/python3.10/site-packages (from tensorboard<2.16,>=2.15->tensorflow==2.15.0) (0.7.2)\n",
      "Requirement already satisfied: werkzeug>=1.0.1 in /system/conda/miniconda3/envs/cloudspace/lib/python3.10/site-packages (from tensorboard<2.16,>=2.15->tensorflow==2.15.0) (3.1.3)\n",
      "Requirement already satisfied: cachetools<6.0,>=2.0.0 in /system/conda/miniconda3/envs/cloudspace/lib/python3.10/site-packages (from google-auth<3,>=1.6.3->tensorboard<2.16,>=2.15->tensorflow==2.15.0) (5.5.2)\n",
      "Requirement already satisfied: pyasn1-modules>=0.2.1 in /system/conda/miniconda3/envs/cloudspace/lib/python3.10/site-packages (from google-auth<3,>=1.6.3->tensorboard<2.16,>=2.15->tensorflow==2.15.0) (0.4.2)\n",
      "Requirement already satisfied: rsa<5,>=3.1.4 in /system/conda/miniconda3/envs/cloudspace/lib/python3.10/site-packages (from google-auth<3,>=1.6.3->tensorboard<2.16,>=2.15->tensorflow==2.15.0) (4.9)\n",
      "Requirement already satisfied: requests-oauthlib>=0.7.0 in /system/conda/miniconda3/envs/cloudspace/lib/python3.10/site-packages (from google-auth-oauthlib<2,>=0.5->tensorboard<2.16,>=2.15->tensorflow==2.15.0) (2.0.0)\n",
      "Requirement already satisfied: charset-normalizer<4,>=2 in /system/conda/miniconda3/envs/cloudspace/lib/python3.10/site-packages (from requests<3,>=2.21.0->tensorboard<2.16,>=2.15->tensorflow==2.15.0) (3.4.1)\n",
      "Requirement already satisfied: idna<4,>=2.5 in /system/conda/miniconda3/envs/cloudspace/lib/python3.10/site-packages (from requests<3,>=2.21.0->tensorboard<2.16,>=2.15->tensorflow==2.15.0) (3.10)\n",
      "Requirement already satisfied: urllib3<3,>=1.21.1 in /system/conda/miniconda3/envs/cloudspace/lib/python3.10/site-packages (from requests<3,>=2.21.0->tensorboard<2.16,>=2.15->tensorflow==2.15.0) (2.4.0)\n",
      "Requirement already satisfied: certifi>=2017.4.17 in /system/conda/miniconda3/envs/cloudspace/lib/python3.10/site-packages (from requests<3,>=2.21.0->tensorboard<2.16,>=2.15->tensorflow==2.15.0) (2025.1.31)\n",
      "Requirement already satisfied: MarkupSafe>=2.1.1 in /system/conda/miniconda3/envs/cloudspace/lib/python3.10/site-packages (from werkzeug>=1.0.1->tensorboard<2.16,>=2.15->tensorflow==2.15.0) (3.0.2)\n",
      "Requirement already satisfied: pyasn1<0.7.0,>=0.6.1 in /system/conda/miniconda3/envs/cloudspace/lib/python3.10/site-packages (from pyasn1-modules>=0.2.1->google-auth<3,>=1.6.3->tensorboard<2.16,>=2.15->tensorflow==2.15.0) (0.6.1)\n",
      "Requirement already satisfied: oauthlib>=3.0.0 in /system/conda/miniconda3/envs/cloudspace/lib/python3.10/site-packages (from requests-oauthlib>=0.7.0->google-auth-oauthlib<2,>=0.5->tensorboard<2.16,>=2.15->tensorflow==2.15.0) (3.2.2)\n",
      "Downloading tensorflow-2.15.0-cp310-cp310-manylinux_2_17_x86_64.manylinux2014_x86_64.whl (475.2 MB)\n",
      "\u001b[2K   \u001b[90m━━━━━━━━━━━━━━━━━━━━━━━━━━━━━━━━━━━━━━━━\u001b[0m \u001b[32m475.2/475.2 MB\u001b[0m \u001b[31m93.4 MB/s\u001b[0m eta \u001b[36m0:00:00\u001b[0m00:01\u001b[0m00:01\u001b[0m\n",
      "\u001b[?25hDownloading keras-2.15.0-py3-none-any.whl (1.7 MB)\n",
      "\u001b[2K   \u001b[90m━━━━━━━━━━━━━━━━━━━━━━━━━━━━━━━━━━━━━━━━\u001b[0m \u001b[32m1.7/1.7 MB\u001b[0m \u001b[31m98.4 MB/s\u001b[0m eta \u001b[36m0:00:00\u001b[0m\n",
      "\u001b[?25hDownloading ml_dtypes-0.2.0-cp310-cp310-manylinux_2_17_x86_64.manylinux2014_x86_64.whl (1.0 MB)\n",
      "\u001b[2K   \u001b[90m━━━━━━━━━━━━━━━━━━━━━━━━━━━━━━━━━━━━━━━━\u001b[0m \u001b[32m1.0/1.0 MB\u001b[0m \u001b[31m71.7 MB/s\u001b[0m eta \u001b[36m0:00:00\u001b[0m\n",
      "\u001b[?25hDownloading tensorboard-2.15.2-py3-none-any.whl (5.5 MB)\n",
      "\u001b[2K   \u001b[90m━━━━━━━━━━━━━━━━━━━━━━━━━━━━━━━━━━━━━━━━\u001b[0m \u001b[32m5.5/5.5 MB\u001b[0m \u001b[31m148.1 MB/s\u001b[0m eta \u001b[36m0:00:00\u001b[0m\n",
      "\u001b[?25hDownloading tensorflow_estimator-2.15.0-py2.py3-none-any.whl (441 kB)\n",
      "Downloading wrapt-1.14.1-cp310-cp310-manylinux_2_5_x86_64.manylinux1_x86_64.manylinux_2_17_x86_64.manylinux2014_x86_64.whl (77 kB)\n",
      "Installing collected packages: wrapt, tensorflow-estimator, ml-dtypes, keras, tensorboard, tensorflow\n",
      "  Attempting uninstall: wrapt\n",
      "    Found existing installation: wrapt 1.17.2\n",
      "    Uninstalling wrapt-1.17.2:\n",
      "      Successfully uninstalled wrapt-1.17.2\n",
      "  Attempting uninstall: ml-dtypes\n",
      "    Found existing installation: ml_dtypes 0.5.1\n",
      "    Uninstalling ml_dtypes-0.5.1:\n",
      "      Successfully uninstalled ml_dtypes-0.5.1\n",
      "  Attempting uninstall: keras\n",
      "    Found existing installation: keras 3.5.0\n",
      "    Uninstalling keras-3.5.0:\n",
      "      Successfully uninstalled keras-3.5.0\n",
      "  Attempting uninstall: tensorboard\n",
      "    Found existing installation: tensorboard 2.19.0\n",
      "    Uninstalling tensorboard-2.19.0:\n",
      "      Successfully uninstalled tensorboard-2.19.0\n",
      "  Attempting uninstall: tensorflow\n",
      "    Found existing installation: tensorflow 2.19.0\n",
      "    Uninstalling tensorflow-2.19.0:\n",
      "      Successfully uninstalled tensorflow-2.19.0\n",
      "Successfully installed keras-2.15.0 ml-dtypes-0.2.0 tensorboard-2.15.2 tensorflow-2.15.0 tensorflow-estimator-2.15.0 wrapt-1.14.1\n",
      "Note: you may need to restart the kernel to use updated packages.\n"
     ]
    }
   ],
   "source": [
    "pip install tensorflow==2.15.0"
   ]
  },
  {
   "cell_type": "code",
   "execution_count": 3,
   "metadata": {},
   "outputs": [],
   "source": [
    "X_train = pd.read_csv(\"../../../Split Data/Training Dataset/X_train #2.csv\").drop(columns=[\"Unnamed: 0\"])\n",
    "y_train = pd.read_csv(\"../../../Split Data/Training Dataset/y_train #2.csv\", index_col=0)\n",
    "X_val = pd.read_csv(\"../../../Split Data/Validation Dataset/X_val #2.csv\").drop(columns=[\"Unnamed: 0\"])\n",
    "y_val = pd.read_csv(\"../../../Split Data/Validation Dataset/y_val #2.csv\", index_col=0)\n",
    "X_test = pd.read_csv(\"../../../Split Data/Testing Dataset/X_test #2.csv\").drop(columns=[\"Unnamed: 0\"])\n",
    "y_test = pd.read_csv(\"../../../Split Data/Testing Dataset/y_test #2.csv\", index_col=0)"
   ]
  },
  {
   "cell_type": "code",
   "execution_count": 5,
   "metadata": {},
   "outputs": [
    {
     "data": {
      "text/plain": [
       "['scaler.joblib']"
      ]
     },
     "execution_count": 5,
     "metadata": {},
     "output_type": "execute_result"
    }
   ],
   "source": [
    "scaler = StandardScaler()\n",
    "\n",
    "X_train_scaled = scaler.fit_transform(X_train)  \n",
    "X_val_scaled = scaler.transform(X_val)   \n",
    "X_test_scaled = scaler.transform(X_test) \n",
    "\n",
    "joblib.dump(scaler, \"scaler.joblib\")"
   ]
  },
  {
   "cell_type": "code",
   "execution_count": 6,
   "metadata": {},
   "outputs": [],
   "source": [
    "X_train = np.array(X_train_scaled).reshape(X_train_scaled.shape[0], X_train_scaled.shape[1], 1)  \n",
    "X_val = np.array(X_val_scaled).reshape(X_val_scaled.shape[0], X_val_scaled.shape[1], 1)  \n",
    "X_test = np.array(X_test_scaled).reshape(X_test_scaled.shape[0], X_test_scaled.shape[1], 1)  "
   ]
  },
  {
   "cell_type": "code",
   "execution_count": 7,
   "metadata": {},
   "outputs": [],
   "source": [
    "num_classes = 2   \n",
    "kernel_size = 5\n",
    "dilations = [4, 8, 16, 32, 64] \n",
    "max_len = X_train.shape[1] \n",
    "dropout_rate = 0.05"
   ]
  },
  {
   "cell_type": "code",
   "execution_count": 8,
   "metadata": {},
   "outputs": [],
   "source": [
    "inputs = Input(shape=(max_len, 1))"
   ]
  },
  {
   "cell_type": "code",
   "execution_count": 10,
   "metadata": {},
   "outputs": [],
   "source": [
    "tcn = TCN(\n",
    "    nb_filters= 128,\n",
    "    nb_stacks = 2,\n",
    "    kernel_size=kernel_size,\n",
    "    dilations=dilations,\n",
    "    dropout_rate=dropout_rate,\n",
    "    use_layer_norm=True,\n",
    "    return_sequences = True\n",
    ")(inputs)"
   ]
  },
  {
   "cell_type": "code",
   "execution_count": 12,
   "metadata": {},
   "outputs": [],
   "source": [
    "y_train = to_categorical(y_train, num_classes)\n",
    "y_val = to_categorical(y_val, num_classes)"
   ]
  },
  {
   "cell_type": "code",
   "execution_count": 13,
   "metadata": {},
   "outputs": [],
   "source": [
    "max_pooling = GlobalMaxPooling1D()(tcn)"
   ]
  },
  {
   "cell_type": "code",
   "execution_count": 14,
   "metadata": {},
   "outputs": [],
   "source": [
    "avg_pooling = GlobalAveragePooling1D()(tcn)"
   ]
  },
  {
   "cell_type": "code",
   "execution_count": 15,
   "metadata": {},
   "outputs": [],
   "source": [
    "pooling = Concatenate()([max_pooling, avg_pooling])"
   ]
  },
  {
   "cell_type": "code",
   "execution_count": 16,
   "metadata": {},
   "outputs": [],
   "source": [
    "dense1 = Dense(64, activation= 'relu')(pooling)"
   ]
  },
  {
   "cell_type": "code",
   "execution_count": 17,
   "metadata": {},
   "outputs": [],
   "source": [
    "dropout1 = Dropout(0.2)(dense1)"
   ]
  },
  {
   "cell_type": "code",
   "execution_count": 18,
   "metadata": {},
   "outputs": [],
   "source": [
    "outputs = Dense(2, activation='softmax')(dropout1)"
   ]
  },
  {
   "cell_type": "code",
   "execution_count": 19,
   "metadata": {},
   "outputs": [],
   "source": [
    "def f1(y_true, y_pred):\n",
    "    true_positives = K.sum(K.round(K.clip(y_true * y_pred, 0, 1)))\n",
    "    possible_positives = K.sum(K.round(K.clip(y_true, 0, 1)))\n",
    "    predicted_positives = K.sum(K.round(K.clip(y_pred, 0, 1)))\n",
    "    p = true_positives / (predicted_positives + K.epsilon())\n",
    "    r = true_positives / (possible_positives + K.epsilon())\n",
    "    return 2 * ((p * r) / (p + r + K.epsilon()))"
   ]
  },
  {
   "cell_type": "code",
   "execution_count": 20,
   "metadata": {},
   "outputs": [
    {
     "name": "stdout",
     "output_type": "stream",
     "text": [
      "Model: \"model\"\n",
      "__________________________________________________________________________________________________\n",
      " Layer (type)                Output Shape                 Param #   Connected to                  \n",
      "==================================================================================================\n",
      " input_1 (InputLayer)        [(None, 15, 1)]              0         []                            \n",
      "                                                                                                  \n",
      " tcn_1 (TCN)                 (None, 15, 128)              1565056   ['input_1[0][0]']             \n",
      "                                                                                                  \n",
      " global_max_pooling1d (Glob  (None, 128)                  0         ['tcn_1[0][0]']               \n",
      " alMaxPooling1D)                                                                                  \n",
      "                                                                                                  \n",
      " global_average_pooling1d (  (None, 128)                  0         ['tcn_1[0][0]']               \n",
      " GlobalAveragePooling1D)                                                                          \n",
      "                                                                                                  \n",
      " concatenate (Concatenate)   (None, 256)                  0         ['global_max_pooling1d[0][0]',\n",
      "                                                                     'global_average_pooling1d[0][\n",
      "                                                                    0]']                          \n",
      "                                                                                                  \n",
      " dense (Dense)               (None, 64)                   16448     ['concatenate[0][0]']         \n",
      "                                                                                                  \n",
      " dropout (Dropout)           (None, 64)                   0         ['dense[0][0]']               \n",
      "                                                                                                  \n",
      " dense_1 (Dense)             (None, 2)                    130       ['dropout[0][0]']             \n",
      "                                                                                                  \n",
      "==================================================================================================\n",
      "Total params: 1581634 (6.03 MB)\n",
      "Trainable params: 1581634 (6.03 MB)\n",
      "Non-trainable params: 0 (0.00 Byte)\n",
      "__________________________________________________________________________________________________\n"
     ]
    }
   ],
   "source": [
    "model = Model(inputs=inputs, outputs=outputs)\n",
    "\n",
    "model.compile(\n",
    "    optimizer=Adam(learning_rate = 0.001),\n",
    "    loss='binary_crossentropy',\n",
    "    metrics=['accuracy', f1]\n",
    ")\n",
    "\n",
    "model.summary()"
   ]
  },
  {
   "cell_type": "code",
   "execution_count": 21,
   "metadata": {},
   "outputs": [
    {
     "name": "stdout",
     "output_type": "stream",
     "text": [
      "y_train shape: (8001, 2)\n",
      "y_val shape: (1714, 2)\n"
     ]
    }
   ],
   "source": [
    "print(\"y_train shape:\", y_train.shape)\n",
    "print(\"y_val shape:\", y_val.shape)"
   ]
  },
  {
   "cell_type": "code",
   "execution_count": 22,
   "metadata": {},
   "outputs": [],
   "source": [
    "json_string = model.to_json()\n",
    "with open('tcn_model_architecture.json', 'w') as json_file:\n",
    "    json_file.write(json_string)\n"
   ]
  },
  {
   "cell_type": "code",
   "execution_count": 23,
   "metadata": {},
   "outputs": [
    {
     "name": "stdout",
     "output_type": "stream",
     "text": [
      "Epoch 1/100\n"
     ]
    },
    {
     "name": "stderr",
     "output_type": "stream",
     "text": [
      "2025-04-24 20:49:11.311062: I external/local_xla/xla/stream_executor/cuda/cuda_dnn.cc:454] Loaded cuDNN version 8902\n",
      "2025-04-24 20:49:13.867126: I external/local_xla/xla/service/service.cc:168] XLA service 0x7226e2ff7680 initialized for platform CUDA (this does not guarantee that XLA will be used). Devices:\n",
      "2025-04-24 20:49:13.867170: I external/local_xla/xla/service/service.cc:176]   StreamExecutor device (0): Tesla T4, Compute Capability 7.5\n",
      "2025-04-24 20:49:13.909903: I tensorflow/compiler/mlir/tensorflow/utils/dump_mlir_util.cc:269] disabling MLIR crash reproducer, set env var `MLIR_CRASH_REPRODUCER_DIRECTORY` to enable.\n",
      "WARNING: All log messages before absl::InitializeLog() is called are written to STDERR\n",
      "I0000 00:00:1745527754.121001    4096 device_compiler.h:186] Compiled cluster using XLA!  This line is logged at most once for the lifetime of the process.\n"
     ]
    },
    {
     "name": "stdout",
     "output_type": "stream",
     "text": [
      "251/251 [==============================] - 30s 43ms/step - loss: 0.5427 - accuracy: 0.7995 - f1: 0.8003 - val_loss: 0.3545 - val_accuracy: 0.8670 - val_f1: 0.8672\n",
      "Epoch 2/100\n",
      "251/251 [==============================] - 9s 36ms/step - loss: 0.3817 - accuracy: 0.8650 - f1: 0.8655 - val_loss: 0.3379 - val_accuracy: 0.8862 - val_f1: 0.8863\n",
      "Epoch 3/100\n",
      "251/251 [==============================] - 9s 36ms/step - loss: 0.3604 - accuracy: 0.8726 - f1: 0.8693 - val_loss: 0.3275 - val_accuracy: 0.8897 - val_f1: 0.8897\n",
      "Epoch 4/100\n",
      "251/251 [==============================] - 9s 34ms/step - loss: 0.3574 - accuracy: 0.8743 - f1: 0.8748 - val_loss: 0.3300 - val_accuracy: 0.8874 - val_f1: 0.8874\n",
      "Epoch 5/100\n",
      "251/251 [==============================] - 9s 34ms/step - loss: 0.3369 - accuracy: 0.8793 - f1: 0.8797 - val_loss: 0.3090 - val_accuracy: 0.8903 - val_f1: 0.8903\n",
      "Epoch 6/100\n",
      "251/251 [==============================] - 9s 34ms/step - loss: 0.3360 - accuracy: 0.8808 - f1: 0.8812 - val_loss: 0.3241 - val_accuracy: 0.8891 - val_f1: 0.8891\n",
      "Epoch 7/100\n",
      "251/251 [==============================] - 9s 34ms/step - loss: 0.3321 - accuracy: 0.8801 - f1: 0.8767 - val_loss: 0.3078 - val_accuracy: 0.8938 - val_f1: 0.8938\n",
      "Epoch 8/100\n",
      "251/251 [==============================] - 9s 36ms/step - loss: 0.3345 - accuracy: 0.8806 - f1: 0.8811 - val_loss: 0.3046 - val_accuracy: 0.8985 - val_f1: 0.8984\n",
      "Epoch 9/100\n",
      "251/251 [==============================] - 9s 34ms/step - loss: 0.3227 - accuracy: 0.8845 - f1: 0.8850 - val_loss: 0.3057 - val_accuracy: 0.8891 - val_f1: 0.8891\n",
      "Epoch 10/100\n",
      "251/251 [==============================] - 8s 33ms/step - loss: 0.3300 - accuracy: 0.8830 - f1: 0.8796 - val_loss: 0.2986 - val_accuracy: 0.8979 - val_f1: 0.8978\n",
      "Epoch 11/100\n",
      "251/251 [==============================] - 8s 32ms/step - loss: 0.3287 - accuracy: 0.8831 - f1: 0.8836 - val_loss: 0.3010 - val_accuracy: 0.8932 - val_f1: 0.8932\n",
      "Epoch 12/100\n",
      "251/251 [==============================] - 8s 32ms/step - loss: 0.3205 - accuracy: 0.8844 - f1: 0.8810 - val_loss: 0.2957 - val_accuracy: 0.8903 - val_f1: 0.8903\n",
      "Epoch 13/100\n",
      "251/251 [==============================] - 8s 32ms/step - loss: 0.3439 - accuracy: 0.8723 - f1: 0.8728 - val_loss: 0.2922 - val_accuracy: 0.8915 - val_f1: 0.8915\n",
      "Epoch 14/100\n",
      "251/251 [==============================] - 8s 32ms/step - loss: 0.3222 - accuracy: 0.8824 - f1: 0.8828 - val_loss: 0.2996 - val_accuracy: 0.8938 - val_f1: 0.8938\n",
      "Epoch 15/100\n",
      "251/251 [==============================] - 8s 33ms/step - loss: 0.3124 - accuracy: 0.8881 - f1: 0.8886 - val_loss: 0.2915 - val_accuracy: 0.8932 - val_f1: 0.8932\n",
      "Epoch 16/100\n",
      "251/251 [==============================] - 8s 34ms/step - loss: 0.3126 - accuracy: 0.8864 - f1: 0.8868 - val_loss: 0.2891 - val_accuracy: 0.8915 - val_f1: 0.8915\n",
      "Epoch 17/100\n",
      "251/251 [==============================] - 8s 33ms/step - loss: 0.3123 - accuracy: 0.8899 - f1: 0.8903 - val_loss: 0.2923 - val_accuracy: 0.8932 - val_f1: 0.8932\n",
      "Epoch 18/100\n",
      "251/251 [==============================] - 8s 32ms/step - loss: 0.3074 - accuracy: 0.8886 - f1: 0.8891 - val_loss: 0.2867 - val_accuracy: 0.8967 - val_f1: 0.8967\n",
      "Epoch 19/100\n",
      "251/251 [==============================] - 8s 32ms/step - loss: 0.3110 - accuracy: 0.8875 - f1: 0.8879 - val_loss: 0.2888 - val_accuracy: 0.8938 - val_f1: 0.8938\n",
      "Epoch 20/100\n",
      "251/251 [==============================] - 8s 32ms/step - loss: 0.3075 - accuracy: 0.8884 - f1: 0.8888 - val_loss: 0.2837 - val_accuracy: 0.8956 - val_f1: 0.8955\n",
      "Epoch 21/100\n",
      "251/251 [==============================] - 8s 32ms/step - loss: 0.3049 - accuracy: 0.8898 - f1: 0.8902 - val_loss: 0.2982 - val_accuracy: 0.8950 - val_f1: 0.8949\n",
      "Epoch 22/100\n",
      "251/251 [==============================] - 8s 32ms/step - loss: 0.3061 - accuracy: 0.8911 - f1: 0.8916 - val_loss: 0.2873 - val_accuracy: 0.8944 - val_f1: 0.8944\n",
      "Epoch 23/100\n",
      "251/251 [==============================] - 8s 33ms/step - loss: 0.2996 - accuracy: 0.8924 - f1: 0.8928 - val_loss: 0.2959 - val_accuracy: 0.8903 - val_f1: 0.8903\n",
      "Epoch 24/100\n",
      "251/251 [==============================] - 8s 32ms/step - loss: 0.2994 - accuracy: 0.8930 - f1: 0.8934 - val_loss: 0.2857 - val_accuracy: 0.8926 - val_f1: 0.8926\n",
      "Epoch 25/100\n",
      "251/251 [==============================] - 8s 32ms/step - loss: 0.2970 - accuracy: 0.8900 - f1: 0.8904 - val_loss: 0.2849 - val_accuracy: 0.8967 - val_f1: 0.8967\n",
      "Epoch 26/100\n",
      "251/251 [==============================] - 8s 32ms/step - loss: 0.2917 - accuracy: 0.8959 - f1: 0.8963 - val_loss: 0.2980 - val_accuracy: 0.8985 - val_f1: 0.8984\n",
      "Epoch 27/100\n",
      "251/251 [==============================] - 8s 32ms/step - loss: 0.2961 - accuracy: 0.8945 - f1: 0.8949 - val_loss: 0.2848 - val_accuracy: 0.8956 - val_f1: 0.8955\n",
      "Epoch 28/100\n",
      "251/251 [==============================] - 8s 32ms/step - loss: 0.2936 - accuracy: 0.8924 - f1: 0.8928 - val_loss: 0.2816 - val_accuracy: 0.8973 - val_f1: 0.8972\n",
      "Epoch 29/100\n",
      "251/251 [==============================] - 8s 32ms/step - loss: 0.2922 - accuracy: 0.8970 - f1: 0.8974 - val_loss: 0.2832 - val_accuracy: 0.8979 - val_f1: 0.8974\n",
      "Epoch 30/100\n",
      "251/251 [==============================] - 9s 34ms/step - loss: 0.2917 - accuracy: 0.8960 - f1: 0.8964 - val_loss: 0.2838 - val_accuracy: 0.8973 - val_f1: 0.8968\n",
      "Epoch 31/100\n",
      "251/251 [==============================] - 9s 34ms/step - loss: 0.2889 - accuracy: 0.8974 - f1: 0.8978 - val_loss: 0.2867 - val_accuracy: 0.8944 - val_f1: 0.8944\n",
      "Epoch 32/100\n",
      "251/251 [==============================] - 9s 34ms/step - loss: 0.2902 - accuracy: 0.8950 - f1: 0.8954 - val_loss: 0.2833 - val_accuracy: 0.8961 - val_f1: 0.8961\n",
      "Epoch 33/100\n",
      "251/251 [==============================] - 9s 36ms/step - loss: 0.2875 - accuracy: 0.8954 - f1: 0.8958 - val_loss: 0.2760 - val_accuracy: 0.9014 - val_f1: 0.9013\n",
      "Epoch 34/100\n",
      "251/251 [==============================] - 9s 38ms/step - loss: 0.2881 - accuracy: 0.8959 - f1: 0.8963 - val_loss: 0.2914 - val_accuracy: 0.8991 - val_f1: 0.8985\n",
      "Epoch 35/100\n",
      "251/251 [==============================] - 9s 34ms/step - loss: 0.2852 - accuracy: 0.8974 - f1: 0.8978 - val_loss: 0.2784 - val_accuracy: 0.8979 - val_f1: 0.8974\n",
      "Epoch 36/100\n",
      "251/251 [==============================] - 8s 34ms/step - loss: 0.2841 - accuracy: 0.8943 - f1: 0.8947 - val_loss: 0.2763 - val_accuracy: 0.8991 - val_f1: 0.8990\n",
      "Epoch 37/100\n",
      "251/251 [==============================] - 9s 36ms/step - loss: 0.2801 - accuracy: 0.8993 - f1: 0.8997 - val_loss: 0.2979 - val_accuracy: 0.8956 - val_f1: 0.8955\n",
      "Epoch 38/100\n",
      "251/251 [==============================] - 8s 34ms/step - loss: 0.2793 - accuracy: 0.8999 - f1: 0.9003 - val_loss: 0.2788 - val_accuracy: 0.8979 - val_f1: 0.8978\n",
      "Epoch 39/100\n",
      "251/251 [==============================] - 9s 35ms/step - loss: 0.2805 - accuracy: 0.8994 - f1: 0.8998 - val_loss: 0.2781 - val_accuracy: 0.9055 - val_f1: 0.9053\n",
      "Epoch 40/100\n",
      "251/251 [==============================] - 9s 36ms/step - loss: 0.2802 - accuracy: 0.8978 - f1: 0.8943 - val_loss: 0.2769 - val_accuracy: 0.8996 - val_f1: 0.8996\n",
      "Epoch 41/100\n",
      "251/251 [==============================] - 8s 34ms/step - loss: 0.2842 - accuracy: 0.8973 - f1: 0.8977 - val_loss: 0.2874 - val_accuracy: 0.8979 - val_f1: 0.8974\n",
      "Epoch 42/100\n",
      "251/251 [==============================] - 9s 34ms/step - loss: 0.2838 - accuracy: 0.8976 - f1: 0.8980 - val_loss: 0.2895 - val_accuracy: 0.8985 - val_f1: 0.8984\n",
      "Epoch 43/100\n",
      "251/251 [==============================] - 9s 34ms/step - loss: 0.2772 - accuracy: 0.9001 - f1: 0.9005 - val_loss: 0.2723 - val_accuracy: 0.9020 - val_f1: 0.9019\n",
      "Epoch 44/100\n",
      "251/251 [==============================] - 8s 34ms/step - loss: 0.2744 - accuracy: 0.8998 - f1: 0.9001 - val_loss: 0.2728 - val_accuracy: 0.8979 - val_f1: 0.8978\n",
      "Epoch 45/100\n",
      "251/251 [==============================] - 8s 34ms/step - loss: 0.2745 - accuracy: 0.9004 - f1: 0.9008 - val_loss: 0.2892 - val_accuracy: 0.9026 - val_f1: 0.9025\n",
      "Epoch 46/100\n",
      "251/251 [==============================] - 8s 33ms/step - loss: 0.2752 - accuracy: 0.8993 - f1: 0.8958 - val_loss: 0.2864 - val_accuracy: 0.8996 - val_f1: 0.8996\n",
      "Epoch 47/100\n",
      "251/251 [==============================] - 8s 34ms/step - loss: 0.2729 - accuracy: 0.8985 - f1: 0.8950 - val_loss: 0.2872 - val_accuracy: 0.8921 - val_f1: 0.8920\n",
      "Epoch 48/100\n",
      "251/251 [==============================] - 8s 34ms/step - loss: 0.2847 - accuracy: 0.8951 - f1: 0.8955 - val_loss: 0.2775 - val_accuracy: 0.8967 - val_f1: 0.8962\n",
      "Epoch 49/100\n",
      "251/251 [==============================] - 9s 34ms/step - loss: 0.2716 - accuracy: 0.9005 - f1: 0.9009 - val_loss: 0.2803 - val_accuracy: 0.9020 - val_f1: 0.9014\n",
      "Epoch 50/100\n",
      "251/251 [==============================] - 8s 34ms/step - loss: 0.2718 - accuracy: 0.9040 - f1: 0.9044 - val_loss: 0.2749 - val_accuracy: 0.8961 - val_f1: 0.8961\n",
      "Epoch 51/100\n",
      "251/251 [==============================] - 8s 33ms/step - loss: 0.2688 - accuracy: 0.9023 - f1: 0.9026 - val_loss: 0.2750 - val_accuracy: 0.8996 - val_f1: 0.8996\n",
      "Epoch 52/100\n",
      "251/251 [==============================] - 8s 33ms/step - loss: 0.2697 - accuracy: 0.9025 - f1: 0.9029 - val_loss: 0.2755 - val_accuracy: 0.8996 - val_f1: 0.8996\n",
      "Epoch 53/100\n",
      "251/251 [==============================] - 8s 33ms/step - loss: 0.2748 - accuracy: 0.8994 - f1: 0.8998 - val_loss: 0.2751 - val_accuracy: 0.8996 - val_f1: 0.8996\n",
      "Epoch 54/100\n",
      "251/251 [==============================] - 8s 33ms/step - loss: 0.2690 - accuracy: 0.9031 - f1: 0.8997 - val_loss: 0.2853 - val_accuracy: 0.8926 - val_f1: 0.8922\n",
      "Epoch 55/100\n",
      "251/251 [==============================] - 8s 33ms/step - loss: 0.2749 - accuracy: 0.9035 - f1: 0.9039 - val_loss: 0.2722 - val_accuracy: 0.8991 - val_f1: 0.8990\n",
      "Epoch 56/100\n",
      "251/251 [==============================] - 8s 33ms/step - loss: 0.2673 - accuracy: 0.9025 - f1: 0.9029 - val_loss: 0.2820 - val_accuracy: 0.9026 - val_f1: 0.9025\n",
      "Epoch 57/100\n",
      "251/251 [==============================] - 8s 32ms/step - loss: 0.2697 - accuracy: 0.9039 - f1: 0.9004 - val_loss: 0.2785 - val_accuracy: 0.8938 - val_f1: 0.8933\n",
      "Epoch 58/100\n",
      "251/251 [==============================] - 9s 34ms/step - loss: 0.2936 - accuracy: 0.8988 - f1: 0.8992 - val_loss: 0.2733 - val_accuracy: 0.8996 - val_f1: 0.8996\n",
      "Epoch 59/100\n",
      "251/251 [==============================] - 8s 33ms/step - loss: 0.2692 - accuracy: 0.9010 - f1: 0.9014 - val_loss: 0.2770 - val_accuracy: 0.8991 - val_f1: 0.8990\n",
      "Epoch 60/100\n",
      "251/251 [==============================] - 8s 33ms/step - loss: 0.2667 - accuracy: 0.9025 - f1: 0.9029 - val_loss: 0.2766 - val_accuracy: 0.9014 - val_f1: 0.9013\n",
      "Epoch 61/100\n",
      "251/251 [==============================] - 8s 33ms/step - loss: 0.2642 - accuracy: 0.8996 - f1: 0.9000 - val_loss: 0.2726 - val_accuracy: 0.8973 - val_f1: 0.8972\n",
      "Epoch 62/100\n",
      "251/251 [==============================] - 9s 34ms/step - loss: 0.2660 - accuracy: 0.9015 - f1: 0.9019 - val_loss: 0.2892 - val_accuracy: 0.8926 - val_f1: 0.8922\n",
      "Epoch 63/100\n",
      "251/251 [==============================] - 8s 33ms/step - loss: 0.2618 - accuracy: 0.9050 - f1: 0.9054 - val_loss: 0.2812 - val_accuracy: 0.9002 - val_f1: 0.8997\n",
      "Epoch 64/100\n",
      "251/251 [==============================] - 8s 33ms/step - loss: 0.2586 - accuracy: 0.9025 - f1: 0.9029 - val_loss: 0.2729 - val_accuracy: 0.8932 - val_f1: 0.8932\n",
      "Epoch 65/100\n",
      "251/251 [==============================] - 8s 32ms/step - loss: 0.2633 - accuracy: 0.9025 - f1: 0.9029 - val_loss: 0.2821 - val_accuracy: 0.8979 - val_f1: 0.8974\n",
      "Epoch 66/100\n",
      "251/251 [==============================] - 8s 32ms/step - loss: 0.2595 - accuracy: 0.9055 - f1: 0.9059 - val_loss: 0.2761 - val_accuracy: 0.8991 - val_f1: 0.8990\n",
      "Epoch 67/100\n",
      "251/251 [==============================] - 8s 32ms/step - loss: 0.2589 - accuracy: 0.9049 - f1: 0.9053 - val_loss: 0.2798 - val_accuracy: 0.8961 - val_f1: 0.8961\n",
      "Epoch 68/100\n",
      "251/251 [==============================] - 8s 32ms/step - loss: 0.2589 - accuracy: 0.9059 - f1: 0.9062 - val_loss: 0.2785 - val_accuracy: 0.8991 - val_f1: 0.8990\n",
      "Epoch 69/100\n",
      "251/251 [==============================] - 8s 32ms/step - loss: 0.2541 - accuracy: 0.9056 - f1: 0.9060 - val_loss: 0.2745 - val_accuracy: 0.8985 - val_f1: 0.8984\n",
      "Epoch 70/100\n",
      "251/251 [==============================] - 8s 32ms/step - loss: 0.2559 - accuracy: 0.9056 - f1: 0.9060 - val_loss: 0.2761 - val_accuracy: 0.9026 - val_f1: 0.9025\n",
      "Epoch 71/100\n",
      "251/251 [==============================] - 8s 32ms/step - loss: 0.2553 - accuracy: 0.9041 - f1: 0.9045 - val_loss: 0.2741 - val_accuracy: 0.9055 - val_f1: 0.9053\n",
      "Epoch 72/100\n",
      "251/251 [==============================] - 8s 32ms/step - loss: 0.2539 - accuracy: 0.9078 - f1: 0.9081 - val_loss: 0.2742 - val_accuracy: 0.8979 - val_f1: 0.8978\n",
      "Epoch 73/100\n",
      "251/251 [==============================] - 8s 32ms/step - loss: 0.2551 - accuracy: 0.9075 - f1: 0.9079 - val_loss: 0.2688 - val_accuracy: 0.9032 - val_f1: 0.9026\n",
      "Epoch 74/100\n",
      "251/251 [==============================] - 8s 32ms/step - loss: 0.2529 - accuracy: 0.9064 - f1: 0.9067 - val_loss: 0.2721 - val_accuracy: 0.9008 - val_f1: 0.9007\n",
      "Epoch 75/100\n",
      "251/251 [==============================] - 8s 32ms/step - loss: 0.2514 - accuracy: 0.9103 - f1: 0.9106 - val_loss: 0.2807 - val_accuracy: 0.9002 - val_f1: 0.9001\n",
      "Epoch 76/100\n",
      "251/251 [==============================] - 8s 32ms/step - loss: 0.2505 - accuracy: 0.9100 - f1: 0.9104 - val_loss: 0.2759 - val_accuracy: 0.9008 - val_f1: 0.9007\n",
      "Epoch 77/100\n",
      "251/251 [==============================] - 8s 32ms/step - loss: 0.2519 - accuracy: 0.9075 - f1: 0.9079 - val_loss: 0.2797 - val_accuracy: 0.9020 - val_f1: 0.9019\n",
      "Epoch 78/100\n",
      "251/251 [==============================] - 8s 33ms/step - loss: 0.2504 - accuracy: 0.9064 - f1: 0.9067 - val_loss: 0.2790 - val_accuracy: 0.8956 - val_f1: 0.8955\n",
      "Epoch 79/100\n",
      "251/251 [==============================] - 8s 33ms/step - loss: 0.2549 - accuracy: 0.9048 - f1: 0.9051 - val_loss: 0.2704 - val_accuracy: 0.8961 - val_f1: 0.8956\n",
      "Epoch 80/100\n",
      "251/251 [==============================] - 8s 32ms/step - loss: 0.2495 - accuracy: 0.9103 - f1: 0.9106 - val_loss: 0.2670 - val_accuracy: 0.9032 - val_f1: 0.9030\n",
      "Epoch 81/100\n",
      "251/251 [==============================] - 9s 34ms/step - loss: 0.2516 - accuracy: 0.9091 - f1: 0.9095 - val_loss: 0.2697 - val_accuracy: 0.8985 - val_f1: 0.8984\n",
      "Epoch 82/100\n",
      "251/251 [==============================] - 8s 34ms/step - loss: 0.2475 - accuracy: 0.9094 - f1: 0.9059 - val_loss: 0.3039 - val_accuracy: 0.8816 - val_f1: 0.8816\n",
      "Epoch 83/100\n",
      "251/251 [==============================] - 8s 32ms/step - loss: 0.2730 - accuracy: 0.9005 - f1: 0.9009 - val_loss: 0.2700 - val_accuracy: 0.9014 - val_f1: 0.9008\n",
      "Epoch 84/100\n",
      "251/251 [==============================] - 8s 33ms/step - loss: 0.2455 - accuracy: 0.9075 - f1: 0.9079 - val_loss: 0.2662 - val_accuracy: 0.9002 - val_f1: 0.9001\n",
      "Epoch 85/100\n",
      "251/251 [==============================] - 8s 32ms/step - loss: 0.2465 - accuracy: 0.9094 - f1: 0.9059 - val_loss: 0.2870 - val_accuracy: 0.9026 - val_f1: 0.9020\n",
      "Epoch 86/100\n",
      "251/251 [==============================] - 8s 32ms/step - loss: 0.2520 - accuracy: 0.9058 - f1: 0.9061 - val_loss: 0.2763 - val_accuracy: 0.9020 - val_f1: 0.9014\n",
      "Epoch 87/100\n",
      "251/251 [==============================] - 8s 32ms/step - loss: 0.2446 - accuracy: 0.9083 - f1: 0.9086 - val_loss: 0.2733 - val_accuracy: 0.8979 - val_f1: 0.8978\n",
      "Epoch 88/100\n",
      "251/251 [==============================] - 8s 33ms/step - loss: 0.2441 - accuracy: 0.9105 - f1: 0.9109 - val_loss: 0.3062 - val_accuracy: 0.8961 - val_f1: 0.8956\n",
      "Epoch 89/100\n",
      "251/251 [==============================] - 8s 32ms/step - loss: 0.2424 - accuracy: 0.9083 - f1: 0.9086 - val_loss: 0.2772 - val_accuracy: 0.9037 - val_f1: 0.9032\n",
      "Epoch 90/100\n",
      "251/251 [==============================] - 8s 32ms/step - loss: 0.2482 - accuracy: 0.9081 - f1: 0.9085 - val_loss: 0.2746 - val_accuracy: 0.8996 - val_f1: 0.8996\n",
      "Epoch 91/100\n",
      "251/251 [==============================] - 8s 32ms/step - loss: 0.2440 - accuracy: 0.9108 - f1: 0.9111 - val_loss: 0.2746 - val_accuracy: 0.9020 - val_f1: 0.9014\n",
      "Epoch 92/100\n",
      "251/251 [==============================] - 8s 32ms/step - loss: 0.2413 - accuracy: 0.9096 - f1: 0.9100 - val_loss: 0.2739 - val_accuracy: 0.8985 - val_f1: 0.8984\n",
      "Epoch 93/100\n",
      "251/251 [==============================] - 8s 32ms/step - loss: 0.2445 - accuracy: 0.9108 - f1: 0.9111 - val_loss: 0.2736 - val_accuracy: 0.9008 - val_f1: 0.9007\n",
      "Epoch 94/100\n",
      "251/251 [==============================] - 8s 32ms/step - loss: 0.2427 - accuracy: 0.9103 - f1: 0.9106 - val_loss: 0.2700 - val_accuracy: 0.9020 - val_f1: 0.9019\n",
      "Epoch 95/100\n",
      "251/251 [==============================] - 8s 32ms/step - loss: 0.2401 - accuracy: 0.9109 - f1: 0.9074 - val_loss: 0.2854 - val_accuracy: 0.9032 - val_f1: 0.9030\n",
      "Epoch 96/100\n",
      "251/251 [==============================] - 8s 32ms/step - loss: 0.2534 - accuracy: 0.9070 - f1: 0.9074 - val_loss: 0.2723 - val_accuracy: 0.8979 - val_f1: 0.8974\n",
      "Epoch 97/100\n",
      "251/251 [==============================] - 8s 32ms/step - loss: 0.2391 - accuracy: 0.9105 - f1: 0.9109 - val_loss: 0.2818 - val_accuracy: 0.8996 - val_f1: 0.8996\n",
      "Epoch 98/100\n",
      "251/251 [==============================] - 8s 32ms/step - loss: 0.2368 - accuracy: 0.9109 - f1: 0.9112 - val_loss: 0.2796 - val_accuracy: 0.9014 - val_f1: 0.9008\n",
      "Epoch 99/100\n",
      "251/251 [==============================] - 8s 32ms/step - loss: 0.2412 - accuracy: 0.9139 - f1: 0.9142 - val_loss: 0.2735 - val_accuracy: 0.9014 - val_f1: 0.9013\n",
      "Epoch 100/100\n",
      "251/251 [==============================] - 8s 32ms/step - loss: 0.2359 - accuracy: 0.9118 - f1: 0.9121 - val_loss: 0.2771 - val_accuracy: 0.9008 - val_f1: 0.9007\n"
     ]
    }
   ],
   "source": [
    "history = model.fit(X_train, y_train, epochs=100,\n",
    "          validation_data=(X_val, y_val), verbose = 1, \n",
    "          callbacks = \n",
    "          ModelCheckpoint(filepath=\"TCN #2.weights.h5\", \n",
    "          monitor='val_f1', mode='max',save_best_only=True, save_weights_only = True))"
   ]
  },
  {
   "cell_type": "code",
   "execution_count": 30,
   "metadata": {},
   "outputs": [],
   "source": [
    "with open(\"tcn_model_architecture.json\", \"r\") as f:\n",
    "    TCN_model = model_from_json(f.read(), custom_objects={\"f1\": f1})\n",
    "\n",
    "TCN_model.load_weights(\"TCN #2.weights.h5\")"
   ]
  },
  {
   "cell_type": "code",
   "execution_count": 31,
   "metadata": {},
   "outputs": [],
   "source": [
    "y_test = to_categorical(y_test, 2)"
   ]
  },
  {
   "cell_type": "code",
   "execution_count": 33,
   "metadata": {},
   "outputs": [],
   "source": [
    "TCN_model.compile(\n",
    "    optimizer=Adam(learning_rate = 0.001),\n",
    "    loss='binary_crossentropy',\n",
    "    metrics=['accuracy', f1]\n",
    ")"
   ]
  },
  {
   "cell_type": "code",
   "execution_count": 34,
   "metadata": {},
   "outputs": [
    {
     "name": "stdout",
     "output_type": "stream",
     "text": [
      "54/54 [==============================] - 3s 22ms/step - loss: 0.2932 - accuracy: 0.8997 - f1: 0.8997\n"
     ]
    }
   ],
   "source": [
    "results = TCN_model.evaluate(X_test, y_test, verbose = 1)"
   ]
  },
  {
   "cell_type": "code",
   "execution_count": 35,
   "metadata": {},
   "outputs": [
    {
     "name": "stdout",
     "output_type": "stream",
     "text": [
      "54/54 [==============================] - 2s 16ms/step\n"
     ]
    }
   ],
   "source": [
    "y_pred = TCN_model.predict(X_test)"
   ]
  },
  {
   "cell_type": "code",
   "execution_count": 36,
   "metadata": {},
   "outputs": [],
   "source": [
    "y_test = y_test.argmax(axis=1)\n",
    "y_pred = y_pred.argmax(axis=1)"
   ]
  },
  {
   "cell_type": "code",
   "execution_count": 37,
   "metadata": {},
   "outputs": [
    {
     "data": {
      "text/plain": [
       "<sklearn.metrics._plot.confusion_matrix.ConfusionMatrixDisplay at 0x72273ab83d30>"
      ]
     },
     "execution_count": 37,
     "metadata": {},
     "output_type": "execute_result"
    },
    {
     "data": {
      "image/png": "[encoded data removed]",
      "text/plain": [
       "<Figure size 640x480 with 2 Axes>"
      ]
     },
     "metadata": {},
     "output_type": "display_data"
    }
   ],
   "source": [
    "confusion_matrix = metrics.confusion_matrix(y_test, y_pred)\n",
    "matrix = ConfusionMatrixDisplay(confusion_matrix = confusion_matrix, display_labels = [\"benign\", \"phishing\"])                            \n",
    "matrix.plot()"
   ]
  },
  {
   "cell_type": "code",
   "execution_count": 38,
   "metadata": {},
   "outputs": [],
   "source": [
    "Accuracy = metrics.accuracy_score(y_test, y_pred)\n",
    "Precision = metrics.precision_score(y_test, y_pred)\n",
    "Recall = metrics.recall_score(y_test, y_pred)\n",
    "F1_score = metrics.f1_score(y_test, y_pred)"
   ]
  },
  {
   "cell_type": "code",
   "execution_count": 39,
   "metadata": {},
   "outputs": [
    {
     "name": "stdout",
     "output_type": "stream",
     "text": [
      "{'Accuracy': 0.8997084548104957, 'Precision': 0.9137529137529138, 'Recall': 0.8888888888888888, 'F1_score': 0.9011494252873563}\n"
     ]
    }
   ],
   "source": [
    "print({\"Accuracy\":Accuracy,\"Precision\":Precision,\"Recall\":Recall,\"F1_score\":F1_score})"
   ]
  },
  {
   "cell_type": "code",
   "execution_count": 2,
   "metadata": {},
   "outputs": [],
   "source": [
    "df = pd.read_csv(\"../Metrics of Dataset #2.csv\")"
   ]
  },
  {
   "cell_type": "code",
   "execution_count": 41,
   "metadata": {},
   "outputs": [],
   "source": [
    "metrics = pd.DataFrame({\"Model\": \"TCN\", \"Accuracy\": [Accuracy], \"Precision\":[Precision], \"Recall\": [Recall], \"F1_score\": [F1_score]})"
   ]
  },
  {
   "cell_type": "code",
   "execution_count": 44,
   "metadata": {},
   "outputs": [],
   "source": [
    "df = pd.concat([df, metrics], ignore_index=True)"
   ]
  },
  {
   "cell_type": "code",
   "execution_count": 3,
   "metadata": {},
   "outputs": [
    {
     "data": {
      "text/html": [
       "<div>\n",
       "<style scoped>\n",
       "    .dataframe tbody tr th:only-of-type {\n",
       "        vertical-align: middle;\n",
       "    }\n",
       "\n",
       "    .dataframe tbody tr th {\n",
       "        vertical-align: top;\n",
       "    }\n",
       "\n",
       "    .dataframe thead th {\n",
       "        text-align: right;\n",
       "    }\n",
       "</style>\n",
       "<table border=\"1\" class=\"dataframe\">\n",
       "  <thead>\n",
       "    <tr style=\"text-align: right;\">\n",
       "      <th></th>\n",
       "      <th>Model</th>\n",
       "      <th>Accuracy</th>\n",
       "      <th>Precision</th>\n",
       "      <th>Recall</th>\n",
       "      <th>F1_score</th>\n",
       "    </tr>\n",
       "  </thead>\n",
       "  <tbody>\n",
       "    <tr>\n",
       "      <th>0</th>\n",
       "      <td>LinearSVC</td>\n",
       "      <td>0.869388</td>\n",
       "      <td>0.859956</td>\n",
       "      <td>0.891156</td>\n",
       "      <td>0.875278</td>\n",
       "    </tr>\n",
       "    <tr>\n",
       "      <th>1</th>\n",
       "      <td>Random Forest</td>\n",
       "      <td>0.900875</td>\n",
       "      <td>0.913953</td>\n",
       "      <td>0.891156</td>\n",
       "      <td>0.902411</td>\n",
       "    </tr>\n",
       "    <tr>\n",
       "      <th>2</th>\n",
       "      <td>XGBoost</td>\n",
       "      <td>0.895044</td>\n",
       "      <td>0.892617</td>\n",
       "      <td>0.904762</td>\n",
       "      <td>0.898649</td>\n",
       "    </tr>\n",
       "    <tr>\n",
       "      <th>3</th>\n",
       "      <td>MLP</td>\n",
       "      <td>0.896210</td>\n",
       "      <td>0.893736</td>\n",
       "      <td>0.905896</td>\n",
       "      <td>0.899775</td>\n",
       "    </tr>\n",
       "    <tr>\n",
       "      <th>4</th>\n",
       "      <td>TCN</td>\n",
       "      <td>0.899708</td>\n",
       "      <td>0.913753</td>\n",
       "      <td>0.888889</td>\n",
       "      <td>0.901149</td>\n",
       "    </tr>\n",
       "  </tbody>\n",
       "</table>\n",
       "</div>"
      ],
      "text/plain": [
       "           Model  Accuracy  Precision    Recall  F1_score\n",
       "0      LinearSVC  0.869388   0.859956  0.891156  0.875278\n",
       "1  Random Forest  0.900875   0.913953  0.891156  0.902411\n",
       "2        XGBoost  0.895044   0.892617  0.904762  0.898649\n",
       "3            MLP  0.896210   0.893736  0.905896  0.899775\n",
       "4            TCN  0.899708   0.913753  0.888889  0.901149"
      ]
     },
     "execution_count": 3,
     "metadata": {},
     "output_type": "execute_result"
    }
   ],
   "source": [
    "df.head()"
   ]
  },
  {
   "cell_type": "code",
   "execution_count": 46,
   "metadata": {},
   "outputs": [],
   "source": [
    "df.to_csv(\"../Metrics of Dataset #2.csv\", index=False)"
   ]
  }
 ],
 "metadata": {
  "kernelspec": {
   "display_name": "base",
   "language": "python",
   "name": "python3"
  },
  "language_info": {
   "codemirror_mode": {
    "name": "ipython",
    "version": 3
   },
   "file_extension": ".py",
   "mimetype": "text/x-python",
   "name": "python",
   "nbconvert_exporter": "python",
   "pygments_lexer": "ipython3",
   "version": "3.12.4"
  }
 },
 "nbformat": 4,
 "nbformat_minor": 2
}
