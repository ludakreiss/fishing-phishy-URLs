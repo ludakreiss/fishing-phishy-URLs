{
 "cells": [
  {
   "cell_type": "code",
   "execution_count": 4,
   "metadata": {},
   "outputs": [
    {
     "name": "stdout",
     "output_type": "stream",
     "text": [
      "Collecting keras-tcn\n",
      "  Downloading keras_tcn-3.5.6-py3-none-any.whl.metadata (13 kB)\n",
      "Requirement already satisfied: numpy in /system/conda/miniconda3/envs/cloudspace/lib/python3.10/site-packages (from keras-tcn) (1.26.4)\n",
      "Collecting tensorflow (from keras-tcn)\n",
      "  Downloading tensorflow-2.19.0-cp310-cp310-manylinux_2_17_x86_64.manylinux2014_x86_64.whl.metadata (4.1 kB)\n",
      "Requirement already satisfied: absl-py>=1.0.0 in /system/conda/miniconda3/envs/cloudspace/lib/python3.10/site-packages (from tensorflow->keras-tcn) (2.2.2)\n",
      "Collecting astunparse>=1.6.0 (from tensorflow->keras-tcn)\n",
      "  Downloading astunparse-1.6.3-py2.py3-none-any.whl.metadata (4.4 kB)\n",
      "Collecting flatbuffers>=24.3.25 (from tensorflow->keras-tcn)\n",
      "  Downloading flatbuffers-25.2.10-py2.py3-none-any.whl.metadata (875 bytes)\n",
      "Collecting gast!=0.5.0,!=0.5.1,!=0.5.2,>=0.2.1 (from tensorflow->keras-tcn)\n",
      "  Downloading gast-0.6.0-py3-none-any.whl.metadata (1.3 kB)\n",
      "Collecting google-pasta>=0.1.1 (from tensorflow->keras-tcn)\n",
      "  Downloading google_pasta-0.2.0-py3-none-any.whl.metadata (814 bytes)\n",
      "Collecting libclang>=13.0.0 (from tensorflow->keras-tcn)\n",
      "  Downloading libclang-18.1.1-py2.py3-none-manylinux2010_x86_64.whl.metadata (5.2 kB)\n",
      "Collecting opt-einsum>=2.3.2 (from tensorflow->keras-tcn)\n",
      "  Downloading opt_einsum-3.4.0-py3-none-any.whl.metadata (6.3 kB)\n",
      "Requirement already satisfied: packaging in /system/conda/miniconda3/envs/cloudspace/lib/python3.10/site-packages (from tensorflow->keras-tcn) (24.2)\n",
      "Requirement already satisfied: protobuf!=4.21.0,!=4.21.1,!=4.21.2,!=4.21.3,!=4.21.4,!=4.21.5,<6.0.0dev,>=3.20.3 in /system/conda/miniconda3/envs/cloudspace/lib/python3.10/site-packages (from tensorflow->keras-tcn) (4.23.4)\n",
      "Requirement already satisfied: requests<3,>=2.21.0 in /system/conda/miniconda3/envs/cloudspace/lib/python3.10/site-packages (from tensorflow->keras-tcn) (2.32.3)\n",
      "Requirement already satisfied: setuptools in /system/conda/miniconda3/envs/cloudspace/lib/python3.10/site-packages (from tensorflow->keras-tcn) (75.8.0)\n",
      "Requirement already satisfied: six>=1.12.0 in /system/conda/miniconda3/envs/cloudspace/lib/python3.10/site-packages (from tensorflow->keras-tcn) (1.17.0)\n",
      "Collecting termcolor>=1.1.0 (from tensorflow->keras-tcn)\n",
      "  Downloading termcolor-3.0.1-py3-none-any.whl.metadata (6.1 kB)\n",
      "Requirement already satisfied: typing-extensions>=3.6.6 in /system/conda/miniconda3/envs/cloudspace/lib/python3.10/site-packages (from tensorflow->keras-tcn) (4.13.2)\n",
      "Collecting wrapt>=1.11.0 (from tensorflow->keras-tcn)\n",
      "  Downloading wrapt-1.17.2-cp310-cp310-manylinux_2_5_x86_64.manylinux1_x86_64.manylinux_2_17_x86_64.manylinux2014_x86_64.whl.metadata (6.4 kB)\n",
      "Requirement already satisfied: grpcio<2.0,>=1.24.3 in /system/conda/miniconda3/envs/cloudspace/lib/python3.10/site-packages (from tensorflow->keras-tcn) (1.71.0)\n",
      "Collecting tensorboard~=2.19.0 (from tensorflow->keras-tcn)\n",
      "  Downloading tensorboard-2.19.0-py3-none-any.whl.metadata (1.8 kB)\n",
      "Collecting keras>=3.5.0 (from tensorflow->keras-tcn)\n",
      "  Downloading keras-3.9.2-py3-none-any.whl.metadata (6.1 kB)\n",
      "Collecting h5py>=3.11.0 (from tensorflow->keras-tcn)\n",
      "  Downloading h5py-3.13.0-cp310-cp310-manylinux_2_17_x86_64.manylinux2014_x86_64.whl.metadata (2.5 kB)\n",
      "Collecting ml-dtypes<1.0.0,>=0.5.1 (from tensorflow->keras-tcn)\n",
      "  Downloading ml_dtypes-0.5.1-cp310-cp310-manylinux_2_17_x86_64.manylinux2014_x86_64.whl.metadata (21 kB)\n",
      "Collecting tensorflow-io-gcs-filesystem>=0.23.1 (from tensorflow->keras-tcn)\n",
      "  Downloading tensorflow_io_gcs_filesystem-0.37.1-cp310-cp310-manylinux_2_17_x86_64.manylinux2014_x86_64.whl.metadata (14 kB)\n",
      "Requirement already satisfied: wheel<1.0,>=0.23.0 in /system/conda/miniconda3/envs/cloudspace/lib/python3.10/site-packages (from astunparse>=1.6.0->tensorflow->keras-tcn) (0.45.1)\n",
      "Requirement already satisfied: rich in /system/conda/miniconda3/envs/cloudspace/lib/python3.10/site-packages (from keras>=3.5.0->tensorflow->keras-tcn) (14.0.0)\n",
      "Collecting namex (from keras>=3.5.0->tensorflow->keras-tcn)\n",
      "  Downloading namex-0.0.8-py3-none-any.whl.metadata (246 bytes)\n",
      "Collecting optree (from keras>=3.5.0->tensorflow->keras-tcn)\n",
      "  Downloading optree-0.15.0-cp310-cp310-manylinux_2_17_x86_64.manylinux2014_x86_64.whl.metadata (48 kB)\n",
      "Requirement already satisfied: charset-normalizer<4,>=2 in /system/conda/miniconda3/envs/cloudspace/lib/python3.10/site-packages (from requests<3,>=2.21.0->tensorflow->keras-tcn) (3.4.1)\n",
      "Requirement already satisfied: idna<4,>=2.5 in /system/conda/miniconda3/envs/cloudspace/lib/python3.10/site-packages (from requests<3,>=2.21.0->tensorflow->keras-tcn) (3.10)\n",
      "Requirement already satisfied: urllib3<3,>=1.21.1 in /system/conda/miniconda3/envs/cloudspace/lib/python3.10/site-packages (from requests<3,>=2.21.0->tensorflow->keras-tcn) (2.4.0)\n",
      "Requirement already satisfied: certifi>=2017.4.17 in /system/conda/miniconda3/envs/cloudspace/lib/python3.10/site-packages (from requests<3,>=2.21.0->tensorflow->keras-tcn) (2025.1.31)\n",
      "Requirement already satisfied: markdown>=2.6.8 in /system/conda/miniconda3/envs/cloudspace/lib/python3.10/site-packages (from tensorboard~=2.19.0->tensorflow->keras-tcn) (3.8)\n",
      "Requirement already satisfied: tensorboard-data-server<0.8.0,>=0.7.0 in /system/conda/miniconda3/envs/cloudspace/lib/python3.10/site-packages (from tensorboard~=2.19.0->tensorflow->keras-tcn) (0.7.2)\n",
      "Requirement already satisfied: werkzeug>=1.0.1 in /system/conda/miniconda3/envs/cloudspace/lib/python3.10/site-packages (from tensorboard~=2.19.0->tensorflow->keras-tcn) (3.1.3)\n",
      "Requirement already satisfied: MarkupSafe>=2.1.1 in /system/conda/miniconda3/envs/cloudspace/lib/python3.10/site-packages (from werkzeug>=1.0.1->tensorboard~=2.19.0->tensorflow->keras-tcn) (3.0.2)\n",
      "Requirement already satisfied: markdown-it-py>=2.2.0 in /system/conda/miniconda3/envs/cloudspace/lib/python3.10/site-packages (from rich->keras>=3.5.0->tensorflow->keras-tcn) (3.0.0)\n",
      "Requirement already satisfied: pygments<3.0.0,>=2.13.0 in /system/conda/miniconda3/envs/cloudspace/lib/python3.10/site-packages (from rich->keras>=3.5.0->tensorflow->keras-tcn) (2.19.1)\n",
      "Requirement already satisfied: mdurl~=0.1 in /system/conda/miniconda3/envs/cloudspace/lib/python3.10/site-packages (from markdown-it-py>=2.2.0->rich->keras>=3.5.0->tensorflow->keras-tcn) (0.1.2)\n",
      "Downloading keras_tcn-3.5.6-py3-none-any.whl (12 kB)\n",
      "Downloading tensorflow-2.19.0-cp310-cp310-manylinux_2_17_x86_64.manylinux2014_x86_64.whl (644.8 MB)\n",
      "\u001b[2K   \u001b[90m━━━━━━━━━━━━━━━━━━━━━━━━━━━━━━━━━━━━━━━━\u001b[0m \u001b[32m644.8/644.8 MB\u001b[0m \u001b[31m83.7 MB/s\u001b[0m eta \u001b[36m0:00:00\u001b[0m00:01\u001b[0m00:01\u001b[0m\n",
      "\u001b[?25hDownloading astunparse-1.6.3-py2.py3-none-any.whl (12 kB)\n",
      "Downloading flatbuffers-25.2.10-py2.py3-none-any.whl (30 kB)\n",
      "Downloading gast-0.6.0-py3-none-any.whl (21 kB)\n",
      "Downloading google_pasta-0.2.0-py3-none-any.whl (57 kB)\n",
      "Downloading h5py-3.13.0-cp310-cp310-manylinux_2_17_x86_64.manylinux2014_x86_64.whl (4.5 MB)\n",
      "\u001b[2K   \u001b[90m━━━━━━━━━━━━━━━━━━━━━━━━━━━━━━━━━━━━━━━━\u001b[0m \u001b[32m4.5/4.5 MB\u001b[0m \u001b[31m148.3 MB/s\u001b[0m eta \u001b[36m0:00:00\u001b[0m\n",
      "\u001b[?25hDownloading keras-3.9.2-py3-none-any.whl (1.3 MB)\n",
      "\u001b[2K   \u001b[90m━━━━━━━━━━━━━━━━━━━━━━━━━━━━━━━━━━━━━━━━\u001b[0m \u001b[32m1.3/1.3 MB\u001b[0m \u001b[31m129.2 MB/s\u001b[0m eta \u001b[36m0:00:00\u001b[0m\n",
      "\u001b[?25hDownloading libclang-18.1.1-py2.py3-none-manylinux2010_x86_64.whl (24.5 MB)\n",
      "\u001b[2K   \u001b[90m━━━━━━━━━━━━━━━━━━━━━━━━━━━━━━━━━━━━━━━━\u001b[0m \u001b[32m24.5/24.5 MB\u001b[0m \u001b[31m148.2 MB/s\u001b[0m eta \u001b[36m0:00:00\u001b[0m\n",
      "\u001b[?25hDownloading ml_dtypes-0.5.1-cp310-cp310-manylinux_2_17_x86_64.manylinux2014_x86_64.whl (4.7 MB)\n",
      "\u001b[2K   \u001b[90m━━━━━━━━━━━━━━━━━━━━━━━━━━━━━━━━━━━━━━━━\u001b[0m \u001b[32m4.7/4.7 MB\u001b[0m \u001b[31m143.9 MB/s\u001b[0m eta \u001b[36m0:00:00\u001b[0m\n",
      "\u001b[?25hDownloading opt_einsum-3.4.0-py3-none-any.whl (71 kB)\n",
      "Downloading tensorboard-2.19.0-py3-none-any.whl (5.5 MB)\n",
      "\u001b[2K   \u001b[90m━━━━━━━━━━━━━━━━━━━━━━━━━━━━━━━━━━━━━━━━\u001b[0m \u001b[32m5.5/5.5 MB\u001b[0m \u001b[31m130.3 MB/s\u001b[0m eta \u001b[36m0:00:00\u001b[0m\n",
      "\u001b[?25hDownloading tensorflow_io_gcs_filesystem-0.37.1-cp310-cp310-manylinux_2_17_x86_64.manylinux2014_x86_64.whl (5.1 MB)\n",
      "\u001b[2K   \u001b[90m━━━━━━━━━━━━━━━━━━━━━━━━━━━━━━━━━━━━━━━━\u001b[0m \u001b[32m5.1/5.1 MB\u001b[0m \u001b[31m161.0 MB/s\u001b[0m eta \u001b[36m0:00:00\u001b[0m\n",
      "\u001b[?25hDownloading termcolor-3.0.1-py3-none-any.whl (7.2 kB)\n",
      "Downloading wrapt-1.17.2-cp310-cp310-manylinux_2_5_x86_64.manylinux1_x86_64.manylinux_2_17_x86_64.manylinux2014_x86_64.whl (82 kB)\n",
      "Downloading namex-0.0.8-py3-none-any.whl (5.8 kB)\n",
      "Downloading optree-0.15.0-cp310-cp310-manylinux_2_17_x86_64.manylinux2014_x86_64.whl (397 kB)\n",
      "Installing collected packages: namex, libclang, flatbuffers, wrapt, termcolor, tensorflow-io-gcs-filesystem, optree, opt-einsum, ml-dtypes, h5py, google-pasta, gast, astunparse, tensorboard, keras, tensorflow, keras-tcn\n",
      "  Attempting uninstall: tensorboard\n",
      "    Found existing installation: tensorboard 2.15.1\n",
      "    Uninstalling tensorboard-2.15.1:\n",
      "      Successfully uninstalled tensorboard-2.15.1\n",
      "Successfully installed astunparse-1.6.3 flatbuffers-25.2.10 gast-0.6.0 google-pasta-0.2.0 h5py-3.13.0 keras-3.9.2 keras-tcn-3.5.6 libclang-18.1.1 ml-dtypes-0.5.1 namex-0.0.8 opt-einsum-3.4.0 optree-0.15.0 tensorboard-2.19.0 tensorflow-2.19.0 tensorflow-io-gcs-filesystem-0.37.1 termcolor-3.0.1 wrapt-1.17.2\n"
     ]
    }
   ],
   "source": [
    "!pip install keras-tcn"
   ]
  },
  {
   "cell_type": "code",
   "execution_count": 8,
   "metadata": {},
   "outputs": [],
   "source": [
    "from tcn import TCN\n",
    "from tensorflow.keras.models import Model, load_model\n",
    "from tensorflow.keras.layers import Input, Dense, GlobalMaxPooling1D, GlobalAveragePooling1D, Concatenate, Dropout\n",
    "from tensorflow.keras.optimizers import Adam\n",
    "from keras.callbacks import EarlyStopping\n",
    "from tensorflow.keras.utils import to_categorical\n",
    "from sklearn.preprocessing import StandardScaler\n",
    "import pandas as pd\n",
    "import numpy as np\n",
    "from tensorflow.keras import Sequential\n",
    "from sklearn import metrics\n",
    "from sklearn.metrics import ConfusionMatrixDisplay\n",
    "from joblib import dump\n",
    "from tensorflow.keras.callbacks import ModelCheckpoint\n",
    "from keras import backend as K"
   ]
  },
  {
   "cell_type": "code",
   "execution_count": 3,
   "metadata": {},
   "outputs": [],
   "source": [
    "X_train = pd.read_csv(\"../../../Split Data/Training Dataset/X_train #2.csv\").drop(columns=[\"Unnamed: 0\"])\n",
    "y_train = pd.read_csv(\"../../../Split Data/Training Dataset/y_train #2.csv\", index_col=0)\n",
    "X_val = pd.read_csv(\"../../../Split Data/Validation Dataset/X_val #2.csv\").drop(columns=[\"Unnamed: 0\"])\n",
    "y_val = pd.read_csv(\"../../../Split Data/Validation Dataset/y_val #2.csv\", index_col=0)\n",
    "X_test = pd.read_csv(\"../../../Split Data/Testing Dataset/X_test #2.csv\").drop(columns=[\"Unnamed: 0\"])\n",
    "y_test = pd.read_csv(\"../../../Split Data/Testing Dataset/y_test #2.csv\", index_col=0)"
   ]
  },
  {
   "cell_type": "code",
   "execution_count": null,
   "metadata": {},
   "outputs": [
    {
     "data": {
      "text/plain": [
       "['scaler.joblib']"
      ]
     },
     "execution_count": 6,
     "metadata": {},
     "output_type": "execute_result"
    }
   ],
   "source": [
    "scaler = StandardScaler()\n",
    "\n",
    "X_train_scaled = scaler.fit_transform(X_train)  \n",
    "X_val_scaled = scaler.transform(X_val)   \n",
    "X_test_scaled = scaler.transform(X_test) \n",
    "\n",
    "joblib.dump(scaler, \"scaler.joblib\")"
   ]
  },
  {
   "cell_type": "code",
   "execution_count": 60,
   "metadata": {},
   "outputs": [],
   "source": [
    "X_train = np.array(X_train_scaled).reshape(X_train_scaled.shape[0], X_train_scaled.shape[1], 1)  \n",
    "X_val = np.array(X_val_scaled).reshape(X_val_scaled.shape[0], X_val_scaled.shape[1], 1)  \n",
    "X_test = np.array(X_test_scaled).reshape(X_test_scaled.shape[0], X_test_scaled.shape[1], 1)  "
   ]
  },
  {
   "cell_type": "code",
   "execution_count": 27,
   "metadata": {},
   "outputs": [],
   "source": [
    "num_classes = 2   \n",
    "kernel_size = 5\n",
    "dilations = [4, 8, 16, 32, 64] \n",
    "max_len = X_train.shape[1] \n",
    "dropout_rate = 0.05"
   ]
  },
  {
   "cell_type": "code",
   "execution_count": 28,
   "metadata": {},
   "outputs": [],
   "source": [
    "inputs = Input(shape=(max_len, 1))"
   ]
  },
  {
   "cell_type": "code",
   "execution_count": 29,
   "metadata": {},
   "outputs": [],
   "source": [
    "tcn = TCN(\n",
    "    nb_filters= 128,\n",
    "    nb_stacks = 2,\n",
    "    kernel_size=kernel_size,\n",
    "    dilations=dilations,\n",
    "    dropout_rate=dropout_rate,\n",
    "    use_layer_norm=True,\n",
    "    return_sequences = True\n",
    ")(inputs)"
   ]
  },
  {
   "cell_type": "code",
   "execution_count": 61,
   "metadata": {},
   "outputs": [],
   "source": [
    "y_train = to_categorical(y_train, num_classes)\n",
    "y_val = to_categorical(y_val, num_classes)"
   ]
  },
  {
   "cell_type": "code",
   "execution_count": 31,
   "metadata": {},
   "outputs": [],
   "source": [
    "max_pooling = GlobalMaxPooling1D()(tcn)"
   ]
  },
  {
   "cell_type": "code",
   "execution_count": 32,
   "metadata": {},
   "outputs": [],
   "source": [
    "avg_pooling = GlobalAveragePooling1D()(tcn)"
   ]
  },
  {
   "cell_type": "code",
   "execution_count": 33,
   "metadata": {},
   "outputs": [],
   "source": [
    "pooling = Concatenate()([max_pooling, avg_pooling])"
   ]
  },
  {
   "cell_type": "code",
   "execution_count": 34,
   "metadata": {},
   "outputs": [],
   "source": [
    "dense1 = Dense(64, activation= 'relu')(pooling)"
   ]
  },
  {
   "cell_type": "code",
   "execution_count": 35,
   "metadata": {},
   "outputs": [],
   "source": [
    "dropout1 = Dropout(0.2)(dense1)"
   ]
  },
  {
   "cell_type": "code",
   "execution_count": 36,
   "metadata": {},
   "outputs": [],
   "source": [
    "outputs = Dense(2, activation='softmax')(dropout1)"
   ]
  },
  {
   "cell_type": "code",
   "execution_count": 4,
   "metadata": {},
   "outputs": [],
   "source": [
    "def f1(y_true, y_pred):\n",
    "    true_positives = K.sum(K.round(K.clip(y_true * y_pred, 0, 1)))\n",
    "    possible_positives = K.sum(K.round(K.clip(y_true, 0, 1)))\n",
    "    predicted_positives = K.sum(K.round(K.clip(y_pred, 0, 1)))\n",
    "    p = true_positives / (predicted_positives + K.epsilon())\n",
    "    r = true_positives / (possible_positives + K.epsilon())\n",
    "    return 2 * ((p * r) / (p + r + K.epsilon()))"
   ]
  },
  {
   "cell_type": "code",
   "execution_count": 38,
   "metadata": {},
   "outputs": [
    {
     "name": "stdout",
     "output_type": "stream",
     "text": [
      "Model: \"model_1\"\n",
      "__________________________________________________________________________________________________\n",
      " Layer (type)                Output Shape                 Param #   Connected to                  \n",
      "==================================================================================================\n",
      " input_2 (InputLayer)        [(None, 15, 1)]              0         []                            \n",
      "                                                                                                  \n",
      " tcn_2 (TCN)                 (None, 15, 128)              1565056   ['input_2[0][0]']             \n",
      "                                                                                                  \n",
      " global_max_pooling1d_1 (Gl  (None, 128)                  0         ['tcn_2[0][0]']               \n",
      " obalMaxPooling1D)                                                                                \n",
      "                                                                                                  \n",
      " global_average_pooling1d_1  (None, 128)                  0         ['tcn_2[0][0]']               \n",
      "  (GlobalAveragePooling1D)                                                                        \n",
      "                                                                                                  \n",
      " concatenate_1 (Concatenate  (None, 256)                  0         ['global_max_pooling1d_1[0][0]\n",
      " )                                                                  ',                            \n",
      "                                                                     'global_average_pooling1d_1[0\n",
      "                                                                    ][0]']                        \n",
      "                                                                                                  \n",
      " dense_2 (Dense)             (None, 64)                   16448     ['concatenate_1[0][0]']       \n",
      "                                                                                                  \n",
      " dropout_1 (Dropout)         (None, 64)                   0         ['dense_2[0][0]']             \n",
      "                                                                                                  \n",
      " dense_3 (Dense)             (None, 2)                    130       ['dropout_1[0][0]']           \n",
      "                                                                                                  \n",
      "==================================================================================================\n",
      "Total params: 1581634 (6.03 MB)\n",
      "Trainable params: 1581634 (6.03 MB)\n",
      "Non-trainable params: 0 (0.00 Byte)\n",
      "__________________________________________________________________________________________________\n"
     ]
    }
   ],
   "source": [
    "model = Model(inputs=inputs, outputs=outputs)\n",
    "\n",
    "model.compile(\n",
    "    optimizer=Adam(learning_rate = 0.001),\n",
    "    loss='binary_crossentropy',\n",
    "    metrics=['accuracy', f1]\n",
    ")\n",
    "\n",
    "model.summary()"
   ]
  },
  {
   "cell_type": "code",
   "execution_count": 62,
   "metadata": {},
   "outputs": [
    {
     "name": "stdout",
     "output_type": "stream",
     "text": [
      "y_train shape: (8001, 2)\n",
      "y_val shape: (1714, 2)\n"
     ]
    }
   ],
   "source": [
    "print(\"y_train shape:\", y_train.shape)\n",
    "print(\"y_val shape:\", y_val.shape)"
   ]
  },
  {
   "cell_type": "code",
   "execution_count": 63,
   "metadata": {},
   "outputs": [
    {
     "name": "stdout",
     "output_type": "stream",
     "text": [
      "Epoch 1/100\n",
      "  1/251 [..............................] - ETA: 11s - loss: 0.3662 - accuracy: 0.8125 - f1: 0.8125"
     ]
    },
    {
     "name": "stdout",
     "output_type": "stream",
     "text": [
      "251/251 [==============================] - ETA: 0s - loss: 0.2410 - accuracy: 0.9100 - f1: 0.9104"
     ]
    },
    {
     "name": "stderr",
     "output_type": "stream",
     "text": [
      "/home/zeus/miniconda3/envs/cloudspace/lib/python3.10/site-packages/keras/src/engine/training.py:3103: UserWarning: You are saving your model as an HDF5 file via `model.save()`. This file format is considered legacy. We recommend using instead the native Keras format, e.g. `model.save('my_model.keras')`.\n",
      "  saving_api.save_model(\n"
     ]
    },
    {
     "name": "stdout",
     "output_type": "stream",
     "text": [
      "251/251 [==============================] - 10s 38ms/step - loss: 0.2410 - accuracy: 0.9100 - f1: 0.9104 - val_loss: 0.2837 - val_accuracy: 0.9037 - val_f1: 0.9036\n",
      "Epoch 2/100\n",
      "251/251 [==============================] - 9s 38ms/step - loss: 0.2397 - accuracy: 0.9116 - f1: 0.9120 - val_loss: 0.2723 - val_accuracy: 0.9067 - val_f1: 0.9065\n",
      "Epoch 3/100\n",
      "251/251 [==============================] - 9s 37ms/step - loss: 0.2336 - accuracy: 0.9124 - f1: 0.9127 - val_loss: 0.2798 - val_accuracy: 0.9049 - val_f1: 0.9048\n",
      "Epoch 4/100\n",
      "251/251 [==============================] - 9s 35ms/step - loss: 0.2378 - accuracy: 0.9126 - f1: 0.9130 - val_loss: 0.2684 - val_accuracy: 0.9043 - val_f1: 0.9042\n",
      "Epoch 5/100\n",
      "251/251 [==============================] - 9s 36ms/step - loss: 0.2367 - accuracy: 0.9124 - f1: 0.9127 - val_loss: 0.3030 - val_accuracy: 0.9026 - val_f1: 0.9025\n",
      "Epoch 6/100\n",
      "251/251 [==============================] - 9s 36ms/step - loss: 0.2368 - accuracy: 0.9146 - f1: 0.9150 - val_loss: 0.2718 - val_accuracy: 0.9055 - val_f1: 0.9053\n",
      "Epoch 7/100\n",
      "251/251 [==============================] - 9s 36ms/step - loss: 0.2381 - accuracy: 0.9078 - f1: 0.9081 - val_loss: 0.2595 - val_accuracy: 0.9067 - val_f1: 0.9065\n",
      "Epoch 8/100\n",
      "251/251 [==============================] - 9s 36ms/step - loss: 0.2312 - accuracy: 0.9143 - f1: 0.9146 - val_loss: 0.2696 - val_accuracy: 0.9078 - val_f1: 0.9077\n",
      "Epoch 9/100\n",
      "251/251 [==============================] - 9s 35ms/step - loss: 0.2289 - accuracy: 0.9125 - f1: 0.9128 - val_loss: 0.2734 - val_accuracy: 0.9061 - val_f1: 0.9059\n",
      "Epoch 10/100\n",
      "251/251 [==============================] - 9s 35ms/step - loss: 0.2349 - accuracy: 0.9134 - f1: 0.9137 - val_loss: 0.2777 - val_accuracy: 0.8991 - val_f1: 0.8990\n",
      "Epoch 11/100\n",
      "251/251 [==============================] - 9s 35ms/step - loss: 0.2323 - accuracy: 0.9121 - f1: 0.9125 - val_loss: 0.2710 - val_accuracy: 0.9055 - val_f1: 0.9053\n",
      "Epoch 12/100\n",
      "251/251 [==============================] - 9s 36ms/step - loss: 0.2312 - accuracy: 0.9166 - f1: 0.9170 - val_loss: 0.2939 - val_accuracy: 0.8985 - val_f1: 0.8980\n",
      "Epoch 13/100\n",
      "251/251 [==============================] - 9s 35ms/step - loss: 0.2333 - accuracy: 0.9100 - f1: 0.9104 - val_loss: 0.2744 - val_accuracy: 0.9037 - val_f1: 0.9036\n",
      "Epoch 14/100\n",
      "251/251 [==============================] - 9s 37ms/step - loss: 0.2359 - accuracy: 0.9131 - f1: 0.9135 - val_loss: 0.2723 - val_accuracy: 0.9090 - val_f1: 0.9088\n",
      "Epoch 15/100\n",
      "251/251 [==============================] - 9s 34ms/step - loss: 0.2293 - accuracy: 0.9125 - f1: 0.9128 - val_loss: 0.2856 - val_accuracy: 0.9020 - val_f1: 0.9019\n",
      "Epoch 16/100\n",
      "251/251 [==============================] - 9s 36ms/step - loss: 0.2298 - accuracy: 0.9125 - f1: 0.9128 - val_loss: 0.2859 - val_accuracy: 0.9049 - val_f1: 0.9048\n",
      "Epoch 17/100\n",
      "251/251 [==============================] - 9s 34ms/step - loss: 0.2290 - accuracy: 0.9143 - f1: 0.9107 - val_loss: 0.2791 - val_accuracy: 0.9014 - val_f1: 0.9013\n",
      "Epoch 18/100\n",
      "251/251 [==============================] - 9s 35ms/step - loss: 0.2361 - accuracy: 0.9141 - f1: 0.9145 - val_loss: 0.2764 - val_accuracy: 0.9032 - val_f1: 0.9030\n",
      "Epoch 19/100\n",
      "251/251 [==============================] - 9s 34ms/step - loss: 0.2309 - accuracy: 0.9154 - f1: 0.9157 - val_loss: 0.2739 - val_accuracy: 0.8985 - val_f1: 0.8984\n",
      "Epoch 20/100\n",
      "251/251 [==============================] - 8s 31ms/step - loss: 0.2261 - accuracy: 0.9154 - f1: 0.9157 - val_loss: 0.2749 - val_accuracy: 0.9055 - val_f1: 0.9053\n",
      "Epoch 21/100\n",
      "251/251 [==============================] - 8s 31ms/step - loss: 0.2274 - accuracy: 0.9149 - f1: 0.9152 - val_loss: 0.2764 - val_accuracy: 0.9049 - val_f1: 0.9048\n",
      "Epoch 22/100\n",
      "251/251 [==============================] - 8s 31ms/step - loss: 0.2229 - accuracy: 0.9150 - f1: 0.9153 - val_loss: 0.2731 - val_accuracy: 0.9049 - val_f1: 0.9048\n",
      "Epoch 23/100\n",
      "251/251 [==============================] - 8s 30ms/step - loss: 0.2263 - accuracy: 0.9146 - f1: 0.9150 - val_loss: 0.2911 - val_accuracy: 0.9037 - val_f1: 0.9036\n",
      "Epoch 24/100\n",
      "251/251 [==============================] - 8s 31ms/step - loss: 0.2225 - accuracy: 0.9169 - f1: 0.9172 - val_loss: 0.2752 - val_accuracy: 0.9049 - val_f1: 0.9048\n",
      "Epoch 25/100\n",
      "251/251 [==============================] - 8s 31ms/step - loss: 0.2252 - accuracy: 0.9149 - f1: 0.9152 - val_loss: 0.2853 - val_accuracy: 0.9043 - val_f1: 0.9042\n",
      "Epoch 26/100\n",
      "251/251 [==============================] - 8s 30ms/step - loss: 0.2286 - accuracy: 0.9161 - f1: 0.9165 - val_loss: 0.2755 - val_accuracy: 0.9061 - val_f1: 0.9055\n",
      "Epoch 27/100\n",
      "251/251 [==============================] - 8s 31ms/step - loss: 0.2263 - accuracy: 0.9156 - f1: 0.9160 - val_loss: 0.2692 - val_accuracy: 0.8985 - val_f1: 0.8984\n",
      "Epoch 28/100\n",
      "251/251 [==============================] - 8s 30ms/step - loss: 0.2252 - accuracy: 0.9153 - f1: 0.9156 - val_loss: 0.2851 - val_accuracy: 0.9049 - val_f1: 0.9048\n",
      "Epoch 29/100\n",
      "251/251 [==============================] - 8s 30ms/step - loss: 0.2231 - accuracy: 0.9158 - f1: 0.9161 - val_loss: 0.2730 - val_accuracy: 0.9067 - val_f1: 0.9065\n",
      "Epoch 30/100\n",
      "251/251 [==============================] - 8s 31ms/step - loss: 0.2241 - accuracy: 0.9129 - f1: 0.9132 - val_loss: 0.2938 - val_accuracy: 0.8932 - val_f1: 0.8932\n",
      "Epoch 31/100\n",
      "251/251 [==============================] - 8s 30ms/step - loss: 0.2263 - accuracy: 0.9156 - f1: 0.9121 - val_loss: 0.2806 - val_accuracy: 0.9026 - val_f1: 0.9025\n",
      "Epoch 32/100\n",
      "251/251 [==============================] - 8s 31ms/step - loss: 0.2338 - accuracy: 0.9100 - f1: 0.9104 - val_loss: 0.2795 - val_accuracy: 0.9067 - val_f1: 0.9065\n",
      "Epoch 33/100\n",
      "251/251 [==============================] - 8s 31ms/step - loss: 0.2240 - accuracy: 0.9169 - f1: 0.9172 - val_loss: 0.2854 - val_accuracy: 0.9032 - val_f1: 0.9030\n",
      "Epoch 34/100\n",
      "251/251 [==============================] - 8s 31ms/step - loss: 0.2219 - accuracy: 0.9164 - f1: 0.9167 - val_loss: 0.2750 - val_accuracy: 0.9020 - val_f1: 0.9019\n",
      "Epoch 35/100\n",
      "251/251 [==============================] - 8s 31ms/step - loss: 0.2204 - accuracy: 0.9153 - f1: 0.9156 - val_loss: 0.2722 - val_accuracy: 0.9020 - val_f1: 0.9019\n",
      "Epoch 36/100\n",
      "251/251 [==============================] - 8s 31ms/step - loss: 0.2227 - accuracy: 0.9169 - f1: 0.9172 - val_loss: 0.2758 - val_accuracy: 0.9049 - val_f1: 0.9048\n",
      "Epoch 37/100\n",
      "251/251 [==============================] - 8s 31ms/step - loss: 0.2218 - accuracy: 0.9153 - f1: 0.9117 - val_loss: 0.2784 - val_accuracy: 0.9043 - val_f1: 0.9042\n",
      "Epoch 38/100\n",
      "251/251 [==============================] - 8s 31ms/step - loss: 0.2182 - accuracy: 0.9149 - f1: 0.9152 - val_loss: 0.2858 - val_accuracy: 0.9032 - val_f1: 0.9030\n",
      "Epoch 39/100\n",
      "251/251 [==============================] - 8s 31ms/step - loss: 0.2209 - accuracy: 0.9166 - f1: 0.9170 - val_loss: 0.2784 - val_accuracy: 0.8991 - val_f1: 0.8990\n",
      "Epoch 40/100\n",
      "251/251 [==============================] - 8s 31ms/step - loss: 0.2204 - accuracy: 0.9193 - f1: 0.9196 - val_loss: 0.2820 - val_accuracy: 0.8985 - val_f1: 0.8984\n",
      "Epoch 41/100\n",
      "251/251 [==============================] - 8s 31ms/step - loss: 0.2172 - accuracy: 0.9176 - f1: 0.9180 - val_loss: 0.2789 - val_accuracy: 0.8991 - val_f1: 0.8990\n",
      "Epoch 42/100\n",
      "251/251 [==============================] - 8s 31ms/step - loss: 0.2226 - accuracy: 0.9176 - f1: 0.9180 - val_loss: 0.2838 - val_accuracy: 0.8944 - val_f1: 0.8944\n",
      "Epoch 43/100\n",
      "251/251 [==============================] - 8s 31ms/step - loss: 0.2273 - accuracy: 0.9161 - f1: 0.9165 - val_loss: 0.2875 - val_accuracy: 0.8973 - val_f1: 0.8972\n",
      "Epoch 44/100\n",
      "251/251 [==============================] - 8s 31ms/step - loss: 0.2194 - accuracy: 0.9161 - f1: 0.9165 - val_loss: 0.2805 - val_accuracy: 0.9032 - val_f1: 0.9030\n",
      "Epoch 45/100\n",
      "251/251 [==============================] - 8s 32ms/step - loss: 0.2135 - accuracy: 0.9159 - f1: 0.9162 - val_loss: 0.2722 - val_accuracy: 0.9096 - val_f1: 0.9094\n",
      "Epoch 46/100\n",
      "251/251 [==============================] - 9s 34ms/step - loss: 0.2163 - accuracy: 0.9168 - f1: 0.9171 - val_loss: 0.2819 - val_accuracy: 0.9055 - val_f1: 0.9053\n",
      "Epoch 47/100\n",
      "251/251 [==============================] - 9s 35ms/step - loss: 0.2188 - accuracy: 0.9176 - f1: 0.9180 - val_loss: 0.2741 - val_accuracy: 0.9026 - val_f1: 0.9025\n",
      "Epoch 48/100\n",
      "251/251 [==============================] - 9s 34ms/step - loss: 0.2165 - accuracy: 0.9179 - f1: 0.9182 - val_loss: 0.2868 - val_accuracy: 0.8915 - val_f1: 0.8915\n",
      "Epoch 49/100\n",
      "251/251 [==============================] - 9s 35ms/step - loss: 0.2192 - accuracy: 0.9164 - f1: 0.9167 - val_loss: 0.2953 - val_accuracy: 0.8944 - val_f1: 0.8939\n",
      "Epoch 50/100\n",
      "251/251 [==============================] - 9s 36ms/step - loss: 0.2178 - accuracy: 0.9180 - f1: 0.9183 - val_loss: 0.2699 - val_accuracy: 0.9072 - val_f1: 0.9071\n",
      "Epoch 51/100\n",
      "251/251 [==============================] - 8s 31ms/step - loss: 0.2164 - accuracy: 0.9179 - f1: 0.9182 - val_loss: 0.2820 - val_accuracy: 0.9014 - val_f1: 0.9013\n",
      "Epoch 52/100\n",
      "251/251 [==============================] - 8s 30ms/step - loss: 0.2168 - accuracy: 0.9196 - f1: 0.9161 - val_loss: 0.2922 - val_accuracy: 0.9002 - val_f1: 0.9001\n",
      "Epoch 53/100\n",
      "251/251 [==============================] - 8s 31ms/step - loss: 0.2160 - accuracy: 0.9195 - f1: 0.9198 - val_loss: 0.2907 - val_accuracy: 0.9032 - val_f1: 0.9030\n",
      "Epoch 54/100\n",
      "251/251 [==============================] - 8s 31ms/step - loss: 0.2130 - accuracy: 0.9186 - f1: 0.9189 - val_loss: 0.2779 - val_accuracy: 0.9032 - val_f1: 0.9030\n",
      "Epoch 55/100\n",
      "251/251 [==============================] - 8s 31ms/step - loss: 0.2156 - accuracy: 0.9204 - f1: 0.9207 - val_loss: 0.3043 - val_accuracy: 0.8991 - val_f1: 0.8990\n",
      "Epoch 56/100\n",
      "251/251 [==============================] - 8s 31ms/step - loss: 0.2196 - accuracy: 0.9163 - f1: 0.9166 - val_loss: 0.2836 - val_accuracy: 0.9055 - val_f1: 0.9053\n",
      "Epoch 57/100\n",
      "251/251 [==============================] - 8s 30ms/step - loss: 0.2141 - accuracy: 0.9193 - f1: 0.9196 - val_loss: 0.2879 - val_accuracy: 0.9061 - val_f1: 0.9059\n",
      "Epoch 58/100\n",
      "251/251 [==============================] - 8s 31ms/step - loss: 0.2090 - accuracy: 0.9213 - f1: 0.9216 - val_loss: 0.2949 - val_accuracy: 0.9061 - val_f1: 0.9059\n",
      "Epoch 59/100\n",
      "251/251 [==============================] - 8s 31ms/step - loss: 0.2136 - accuracy: 0.9195 - f1: 0.9198 - val_loss: 0.3093 - val_accuracy: 0.9032 - val_f1: 0.9030\n",
      "Epoch 60/100\n",
      "251/251 [==============================] - 8s 31ms/step - loss: 0.2154 - accuracy: 0.9169 - f1: 0.9172 - val_loss: 0.2910 - val_accuracy: 0.9061 - val_f1: 0.9059\n",
      "Epoch 61/100\n",
      "251/251 [==============================] - 8s 31ms/step - loss: 0.2149 - accuracy: 0.9175 - f1: 0.9178 - val_loss: 0.2931 - val_accuracy: 0.9020 - val_f1: 0.9019\n",
      "Epoch 62/100\n",
      "251/251 [==============================] - 8s 31ms/step - loss: 0.2143 - accuracy: 0.9183 - f1: 0.9186 - val_loss: 0.2874 - val_accuracy: 0.9037 - val_f1: 0.9036\n",
      "Epoch 63/100\n",
      "251/251 [==============================] - 8s 31ms/step - loss: 0.2150 - accuracy: 0.9186 - f1: 0.9151 - val_loss: 0.2913 - val_accuracy: 0.9037 - val_f1: 0.9036\n",
      "Epoch 64/100\n",
      "251/251 [==============================] - 8s 31ms/step - loss: 0.2277 - accuracy: 0.9169 - f1: 0.9172 - val_loss: 0.2845 - val_accuracy: 0.9037 - val_f1: 0.9036\n",
      "Epoch 65/100\n",
      "251/251 [==============================] - 8s 31ms/step - loss: 0.2073 - accuracy: 0.9216 - f1: 0.9219 - val_loss: 0.2872 - val_accuracy: 0.9037 - val_f1: 0.9036\n",
      "Epoch 66/100\n",
      "251/251 [==============================] - 8s 31ms/step - loss: 0.2102 - accuracy: 0.9198 - f1: 0.9201 - val_loss: 0.2975 - val_accuracy: 0.9061 - val_f1: 0.9059\n",
      "Epoch 67/100\n",
      "251/251 [==============================] - 8s 31ms/step - loss: 0.2127 - accuracy: 0.9219 - f1: 0.9183 - val_loss: 0.2870 - val_accuracy: 0.9043 - val_f1: 0.9042\n",
      "Epoch 68/100\n",
      "251/251 [==============================] - 8s 31ms/step - loss: 0.2313 - accuracy: 0.9199 - f1: 0.9202 - val_loss: 0.2921 - val_accuracy: 0.9037 - val_f1: 0.9036\n",
      "Epoch 69/100\n",
      "251/251 [==============================] - 8s 31ms/step - loss: 0.2105 - accuracy: 0.9193 - f1: 0.9196 - val_loss: 0.2859 - val_accuracy: 0.9032 - val_f1: 0.9030\n",
      "Epoch 70/100\n",
      "251/251 [==============================] - 8s 31ms/step - loss: 0.2122 - accuracy: 0.9179 - f1: 0.9182 - val_loss: 0.3049 - val_accuracy: 0.9072 - val_f1: 0.9071\n",
      "Epoch 71/100\n",
      "251/251 [==============================] - 8s 32ms/step - loss: 0.2114 - accuracy: 0.9193 - f1: 0.9157 - val_loss: 0.2882 - val_accuracy: 0.9026 - val_f1: 0.9025\n",
      "Epoch 72/100\n",
      "251/251 [==============================] - 8s 32ms/step - loss: 0.2072 - accuracy: 0.9210 - f1: 0.9213 - val_loss: 0.2928 - val_accuracy: 0.9055 - val_f1: 0.9053\n",
      "Epoch 73/100\n",
      "251/251 [==============================] - 8s 31ms/step - loss: 0.2081 - accuracy: 0.9200 - f1: 0.9203 - val_loss: 0.2959 - val_accuracy: 0.9037 - val_f1: 0.9036\n",
      "Epoch 74/100\n",
      "251/251 [==============================] - 8s 31ms/step - loss: 0.2100 - accuracy: 0.9193 - f1: 0.9196 - val_loss: 0.2946 - val_accuracy: 0.9037 - val_f1: 0.9036\n",
      "Epoch 75/100\n",
      "251/251 [==============================] - 8s 32ms/step - loss: 0.2023 - accuracy: 0.9233 - f1: 0.9197 - val_loss: 0.2921 - val_accuracy: 0.9014 - val_f1: 0.9013\n",
      "Epoch 76/100\n",
      "251/251 [==============================] - 9s 36ms/step - loss: 0.2066 - accuracy: 0.9198 - f1: 0.9201 - val_loss: 0.2816 - val_accuracy: 0.9049 - val_f1: 0.9048\n",
      "Epoch 77/100\n",
      "251/251 [==============================] - 9s 36ms/step - loss: 0.2042 - accuracy: 0.9205 - f1: 0.9208 - val_loss: 0.3000 - val_accuracy: 0.9061 - val_f1: 0.9059\n",
      "Epoch 78/100\n",
      "251/251 [==============================] - 9s 35ms/step - loss: 0.2089 - accuracy: 0.9206 - f1: 0.9209 - val_loss: 0.2972 - val_accuracy: 0.9043 - val_f1: 0.9042\n",
      "Epoch 79/100\n",
      "251/251 [==============================] - 9s 36ms/step - loss: 0.2079 - accuracy: 0.9228 - f1: 0.9231 - val_loss: 0.2942 - val_accuracy: 0.9020 - val_f1: 0.9019\n",
      "Epoch 80/100\n",
      "251/251 [==============================] - 8s 34ms/step - loss: 0.2065 - accuracy: 0.9195 - f1: 0.9198 - val_loss: 0.2992 - val_accuracy: 0.9072 - val_f1: 0.9071\n",
      "Epoch 81/100\n",
      "251/251 [==============================] - 8s 31ms/step - loss: 0.2078 - accuracy: 0.9199 - f1: 0.9202 - val_loss: 0.2995 - val_accuracy: 0.9061 - val_f1: 0.9059\n",
      "Epoch 82/100\n",
      "251/251 [==============================] - 8s 34ms/step - loss: 0.2038 - accuracy: 0.9204 - f1: 0.9207 - val_loss: 0.2881 - val_accuracy: 0.9113 - val_f1: 0.9111\n",
      "Epoch 83/100\n",
      "251/251 [==============================] - 8s 34ms/step - loss: 0.2068 - accuracy: 0.9229 - f1: 0.9232 - val_loss: 0.3160 - val_accuracy: 0.9043 - val_f1: 0.9042\n",
      "Epoch 84/100\n",
      "251/251 [==============================] - 9s 36ms/step - loss: 0.1990 - accuracy: 0.9220 - f1: 0.9223 - val_loss: 0.3338 - val_accuracy: 0.8856 - val_f1: 0.8857\n",
      "Epoch 85/100\n",
      "251/251 [==============================] - 9s 35ms/step - loss: 0.2055 - accuracy: 0.9235 - f1: 0.9238 - val_loss: 0.2948 - val_accuracy: 0.9078 - val_f1: 0.9077\n",
      "Epoch 86/100\n",
      "251/251 [==============================] - 9s 35ms/step - loss: 0.2057 - accuracy: 0.9235 - f1: 0.9238 - val_loss: 0.3087 - val_accuracy: 0.9049 - val_f1: 0.9048\n",
      "Epoch 87/100\n",
      "251/251 [==============================] - 9s 36ms/step - loss: 0.2036 - accuracy: 0.9220 - f1: 0.9223 - val_loss: 0.2992 - val_accuracy: 0.9008 - val_f1: 0.9007\n",
      "Epoch 88/100\n",
      "251/251 [==============================] - 9s 35ms/step - loss: 0.2026 - accuracy: 0.9210 - f1: 0.9213 - val_loss: 0.3171 - val_accuracy: 0.9008 - val_f1: 0.9007\n",
      "Epoch 89/100\n",
      "251/251 [==============================] - 9s 35ms/step - loss: 0.2036 - accuracy: 0.9225 - f1: 0.9228 - val_loss: 0.3095 - val_accuracy: 0.9067 - val_f1: 0.9065\n",
      "Epoch 90/100\n",
      "251/251 [==============================] - 9s 35ms/step - loss: 0.2034 - accuracy: 0.9215 - f1: 0.9218 - val_loss: 0.3266 - val_accuracy: 0.8991 - val_f1: 0.8990\n",
      "Epoch 91/100\n",
      "251/251 [==============================] - 9s 36ms/step - loss: 0.2011 - accuracy: 0.9198 - f1: 0.9201 - val_loss: 0.2977 - val_accuracy: 0.9084 - val_f1: 0.9082\n",
      "Epoch 92/100\n",
      "251/251 [==============================] - 8s 33ms/step - loss: 0.2022 - accuracy: 0.9218 - f1: 0.9221 - val_loss: 0.2999 - val_accuracy: 0.9055 - val_f1: 0.9053\n",
      "Epoch 93/100\n",
      "251/251 [==============================] - 8s 31ms/step - loss: 0.2015 - accuracy: 0.9219 - f1: 0.9222 - val_loss: 0.3007 - val_accuracy: 0.9055 - val_f1: 0.9053\n",
      "Epoch 94/100\n",
      "251/251 [==============================] - 8s 31ms/step - loss: 0.2014 - accuracy: 0.9208 - f1: 0.9211 - val_loss: 0.3142 - val_accuracy: 0.9008 - val_f1: 0.9007\n",
      "Epoch 95/100\n",
      "251/251 [==============================] - 8s 32ms/step - loss: 0.2015 - accuracy: 0.9233 - f1: 0.9236 - val_loss: 0.3099 - val_accuracy: 0.9032 - val_f1: 0.9030\n",
      "Epoch 96/100\n",
      "251/251 [==============================] - 8s 31ms/step - loss: 0.2035 - accuracy: 0.9224 - f1: 0.9227 - val_loss: 0.3030 - val_accuracy: 0.9096 - val_f1: 0.9094\n",
      "Epoch 97/100\n",
      "251/251 [==============================] - 8s 31ms/step - loss: 0.2003 - accuracy: 0.9225 - f1: 0.9228 - val_loss: 0.3090 - val_accuracy: 0.9043 - val_f1: 0.9042\n",
      "Epoch 98/100\n",
      "251/251 [==============================] - 8s 31ms/step - loss: 0.2000 - accuracy: 0.9238 - f1: 0.9241 - val_loss: 0.3115 - val_accuracy: 0.9043 - val_f1: 0.9042\n",
      "Epoch 99/100\n",
      "251/251 [==============================] - 8s 31ms/step - loss: 0.1998 - accuracy: 0.9244 - f1: 0.9247 - val_loss: 0.3125 - val_accuracy: 0.8996 - val_f1: 0.8996\n",
      "Epoch 100/100\n",
      "251/251 [==============================] - 8s 31ms/step - loss: 0.2009 - accuracy: 0.9243 - f1: 0.9246 - val_loss: 0.3165 - val_accuracy: 0.9067 - val_f1: 0.9065\n"
     ]
    }
   ],
   "source": [
    "history = model.fit(X_train, y_train, epochs=100,\n",
    "          validation_data=(X_val, y_val), verbose = 1, \n",
    "          callbacks = \n",
    "          ModelCheckpoint(filepath=\"TCN #2.h5\", \n",
    "          monitor='val_f1', mode='max',save_best_only=True))"
   ]
  },
  {
   "cell_type": "code",
   "execution_count": 7,
   "metadata": {},
   "outputs": [
    {
     "name": "stderr",
     "output_type": "stream",
     "text": [
      "2025-04-24 14:50:08.468290: E external/local_xla/xla/stream_executor/cuda/cuda_platform.cc:51] failed call to cuInit: INTERNAL: CUDA error: Failed call to cuInit: UNKNOWN ERROR (303)\n"
     ]
    },
    {
     "ename": "ValueError",
     "evalue": "Shape mismatch in layer #0 (named tcn_2)for weight tcn_2/residual_block_0/conv1D_0/kernel. Weight expects shape (5, 1, 128). Received saved weight with shape (128,)",
     "output_type": "error",
     "traceback": [
      "\u001b[31m---------------------------------------------------------------------------\u001b[39m",
      "\u001b[31mValueError\u001b[39m                                Traceback (most recent call last)",
      "\u001b[36mCell\u001b[39m\u001b[36m \u001b[39m\u001b[32mIn[7]\u001b[39m\u001b[32m, line 1\u001b[39m\n\u001b[32m----> \u001b[39m\u001b[32m1\u001b[39m TCN_model = \u001b[43mload_model\u001b[49m\u001b[43m(\u001b[49m\u001b[33;43m'\u001b[39;49m\u001b[33;43mTCN #2.h5\u001b[39;49m\u001b[33;43m'\u001b[39;49m\u001b[43m,\u001b[49m\u001b[43m \u001b[49m\u001b[43mcustom_objects\u001b[49m\u001b[43m=\u001b[49m\u001b[43m{\u001b[49m\u001b[33;43m'\u001b[39;49m\u001b[33;43mf1\u001b[39;49m\u001b[33;43m'\u001b[39;49m\u001b[43m:\u001b[49m\u001b[43m \u001b[49m\u001b[43mf1\u001b[49m\u001b[43m}\u001b[49m\u001b[43m)\u001b[49m\n",
      "\u001b[36mFile \u001b[39m\u001b[32m~/.local/lib/python3.11/site-packages/keras/src/saving/saving_api.py:196\u001b[39m, in \u001b[36mload_model\u001b[39m\u001b[34m(filepath, custom_objects, compile, safe_mode)\u001b[39m\n\u001b[32m    189\u001b[39m     \u001b[38;5;28;01mreturn\u001b[39;00m saving_lib.load_model(\n\u001b[32m    190\u001b[39m         filepath,\n\u001b[32m    191\u001b[39m         custom_objects=custom_objects,\n\u001b[32m    192\u001b[39m         \u001b[38;5;28mcompile\u001b[39m=\u001b[38;5;28mcompile\u001b[39m,\n\u001b[32m    193\u001b[39m         safe_mode=safe_mode,\n\u001b[32m    194\u001b[39m     )\n\u001b[32m    195\u001b[39m \u001b[38;5;28;01mif\u001b[39;00m \u001b[38;5;28mstr\u001b[39m(filepath).endswith((\u001b[33m\"\u001b[39m\u001b[33m.h5\u001b[39m\u001b[33m\"\u001b[39m, \u001b[33m\"\u001b[39m\u001b[33m.hdf5\u001b[39m\u001b[33m\"\u001b[39m)):\n\u001b[32m--> \u001b[39m\u001b[32m196\u001b[39m     \u001b[38;5;28;01mreturn\u001b[39;00m \u001b[43mlegacy_h5_format\u001b[49m\u001b[43m.\u001b[49m\u001b[43mload_model_from_hdf5\u001b[49m\u001b[43m(\u001b[49m\n\u001b[32m    197\u001b[39m \u001b[43m        \u001b[49m\u001b[43mfilepath\u001b[49m\u001b[43m,\u001b[49m\u001b[43m \u001b[49m\u001b[43mcustom_objects\u001b[49m\u001b[43m=\u001b[49m\u001b[43mcustom_objects\u001b[49m\u001b[43m,\u001b[49m\u001b[43m \u001b[49m\u001b[38;5;28;43mcompile\u001b[39;49m\u001b[43m=\u001b[49m\u001b[38;5;28;43mcompile\u001b[39;49m\n\u001b[32m    198\u001b[39m \u001b[43m    \u001b[49m\u001b[43m)\u001b[49m\n\u001b[32m    199\u001b[39m \u001b[38;5;28;01melif\u001b[39;00m \u001b[38;5;28mstr\u001b[39m(filepath).endswith(\u001b[33m\"\u001b[39m\u001b[33m.keras\u001b[39m\u001b[33m\"\u001b[39m):\n\u001b[32m    200\u001b[39m     \u001b[38;5;28;01mraise\u001b[39;00m \u001b[38;5;167;01mValueError\u001b[39;00m(\n\u001b[32m    201\u001b[39m         \u001b[33mf\u001b[39m\u001b[33m\"\u001b[39m\u001b[33mFile not found: filepath=\u001b[39m\u001b[38;5;132;01m{\u001b[39;00mfilepath\u001b[38;5;132;01m}\u001b[39;00m\u001b[33m. \u001b[39m\u001b[33m\"\u001b[39m\n\u001b[32m    202\u001b[39m         \u001b[33m\"\u001b[39m\u001b[33mPlease ensure the file is an accessible `.keras` \u001b[39m\u001b[33m\"\u001b[39m\n\u001b[32m    203\u001b[39m         \u001b[33m\"\u001b[39m\u001b[33mzip file.\u001b[39m\u001b[33m\"\u001b[39m\n\u001b[32m    204\u001b[39m     )\n",
      "\u001b[36mFile \u001b[39m\u001b[32m~/.local/lib/python3.11/site-packages/keras/src/legacy/saving/legacy_h5_format.py:138\u001b[39m, in \u001b[36mload_model_from_hdf5\u001b[39m\u001b[34m(filepath, custom_objects, compile)\u001b[39m\n\u001b[32m    133\u001b[39m     model = saving_utils.model_from_config(\n\u001b[32m    134\u001b[39m         model_config, custom_objects=custom_objects\n\u001b[32m    135\u001b[39m     )\n\u001b[32m    137\u001b[39m     \u001b[38;5;66;03m# set weights\u001b[39;00m\n\u001b[32m--> \u001b[39m\u001b[32m138\u001b[39m     \u001b[43mload_weights_from_hdf5_group\u001b[49m\u001b[43m(\u001b[49m\u001b[43mf\u001b[49m\u001b[43m[\u001b[49m\u001b[33;43m\"\u001b[39;49m\u001b[33;43mmodel_weights\u001b[39;49m\u001b[33;43m\"\u001b[39;49m\u001b[43m]\u001b[49m\u001b[43m,\u001b[49m\u001b[43m \u001b[49m\u001b[43mmodel\u001b[49m\u001b[43m)\u001b[49m\n\u001b[32m    140\u001b[39m \u001b[38;5;28;01mif\u001b[39;00m \u001b[38;5;28mcompile\u001b[39m:\n\u001b[32m    141\u001b[39m     \u001b[38;5;66;03m# instantiate optimizer\u001b[39;00m\n\u001b[32m    142\u001b[39m     training_config = f.attrs.get(\u001b[33m\"\u001b[39m\u001b[33mtraining_config\u001b[39m\u001b[33m\"\u001b[39m)\n",
      "\u001b[36mFile \u001b[39m\u001b[32m~/.local/lib/python3.11/site-packages/keras/src/legacy/saving/legacy_h5_format.py:375\u001b[39m, in \u001b[36mload_weights_from_hdf5_group\u001b[39m\u001b[34m(f, model)\u001b[39m\n\u001b[32m    368\u001b[39m     \u001b[38;5;28;01mif\u001b[39;00m \u001b[38;5;28mlen\u001b[39m(weight_values) != \u001b[38;5;28mlen\u001b[39m(symbolic_weights):\n\u001b[32m    369\u001b[39m         \u001b[38;5;28;01mraise\u001b[39;00m \u001b[38;5;167;01mValueError\u001b[39;00m(\n\u001b[32m    370\u001b[39m             \u001b[33mf\u001b[39m\u001b[33m\"\u001b[39m\u001b[33mWeight count mismatch for layer #\u001b[39m\u001b[38;5;132;01m{\u001b[39;00mk\u001b[38;5;132;01m}\u001b[39;00m\u001b[33m (named \u001b[39m\u001b[38;5;132;01m{\u001b[39;00mlayer.name\u001b[38;5;132;01m}\u001b[39;00m\u001b[33m in \u001b[39m\u001b[33m\"\u001b[39m\n\u001b[32m    371\u001b[39m             \u001b[33mf\u001b[39m\u001b[33m\"\u001b[39m\u001b[33mthe current model, \u001b[39m\u001b[38;5;132;01m{\u001b[39;00mname\u001b[38;5;132;01m}\u001b[39;00m\u001b[33m in the save file). \u001b[39m\u001b[33m\"\u001b[39m\n\u001b[32m    372\u001b[39m             \u001b[33mf\u001b[39m\u001b[33m\"\u001b[39m\u001b[33mLayer expects \u001b[39m\u001b[38;5;132;01m{\u001b[39;00m\u001b[38;5;28mlen\u001b[39m(symbolic_weights)\u001b[38;5;132;01m}\u001b[39;00m\u001b[33m weight(s). Received \u001b[39m\u001b[33m\"\u001b[39m\n\u001b[32m    373\u001b[39m             \u001b[33mf\u001b[39m\u001b[33m\"\u001b[39m\u001b[38;5;132;01m{\u001b[39;00m\u001b[38;5;28mlen\u001b[39m(weight_values)\u001b[38;5;132;01m}\u001b[39;00m\u001b[33m saved weight(s)\u001b[39m\u001b[33m\"\u001b[39m\n\u001b[32m    374\u001b[39m         )\n\u001b[32m--> \u001b[39m\u001b[32m375\u001b[39m     \u001b[43m_set_weights\u001b[49m\u001b[43m(\u001b[49m\n\u001b[32m    376\u001b[39m \u001b[43m        \u001b[49m\u001b[43mlayer\u001b[49m\u001b[43m,\u001b[49m\n\u001b[32m    377\u001b[39m \u001b[43m        \u001b[49m\u001b[43msymbolic_weights\u001b[49m\u001b[43m,\u001b[49m\n\u001b[32m    378\u001b[39m \u001b[43m        \u001b[49m\u001b[43mweight_values\u001b[49m\u001b[43m,\u001b[49m\n\u001b[32m    379\u001b[39m \u001b[43m        \u001b[49m\u001b[43mname\u001b[49m\u001b[43m=\u001b[49m\u001b[33;43mf\u001b[39;49m\u001b[33;43m\"\u001b[39;49m\u001b[33;43mlayer #\u001b[39;49m\u001b[38;5;132;43;01m{\u001b[39;49;00m\u001b[43mk\u001b[49m\u001b[38;5;132;43;01m}\u001b[39;49;00m\u001b[33;43m (named \u001b[39;49m\u001b[38;5;132;43;01m{\u001b[39;49;00m\u001b[43mlayer\u001b[49m\u001b[43m.\u001b[49m\u001b[43mname\u001b[49m\u001b[38;5;132;43;01m}\u001b[39;49;00m\u001b[33;43m)\u001b[39;49m\u001b[33;43m\"\u001b[39;49m\u001b[43m,\u001b[49m\n\u001b[32m    380\u001b[39m \u001b[43m    \u001b[49m\u001b[43m)\u001b[49m\n\u001b[32m    382\u001b[39m \u001b[38;5;28;01mif\u001b[39;00m \u001b[33m\"\u001b[39m\u001b[33mtop_level_model_weights\u001b[39m\u001b[33m\"\u001b[39m \u001b[38;5;129;01min\u001b[39;00m f:\n\u001b[32m    383\u001b[39m     symbolic_weights = \u001b[38;5;28mlist\u001b[39m(\n\u001b[32m    384\u001b[39m         \u001b[38;5;66;03m# model.weights\u001b[39;00m\n\u001b[32m    385\u001b[39m         v\n\u001b[32m    386\u001b[39m         \u001b[38;5;28;01mfor\u001b[39;00m v \u001b[38;5;129;01min\u001b[39;00m model._trainable_variables + model._non_trainable_variables\n\u001b[32m    387\u001b[39m         \u001b[38;5;28;01mif\u001b[39;00m v \u001b[38;5;129;01min\u001b[39;00m model.weights\n\u001b[32m    388\u001b[39m     )\n",
      "\u001b[36mFile \u001b[39m\u001b[32m~/.local/lib/python3.11/site-packages/keras/src/legacy/saving/legacy_h5_format.py:440\u001b[39m, in \u001b[36m_set_weights\u001b[39m\u001b[34m(instance, symbolic_weights, weight_values, name, skip_mismatch)\u001b[39m\n\u001b[32m    430\u001b[39m             warnings.warn(\n\u001b[32m    431\u001b[39m                 \u001b[33mf\u001b[39m\u001b[33m\"\u001b[39m\u001b[33mSkipping loading weights for \u001b[39m\u001b[38;5;132;01m{\u001b[39;00mname\u001b[38;5;132;01m}\u001b[39;00m\u001b[33m\"\u001b[39m\n\u001b[32m    432\u001b[39m                 \u001b[33mf\u001b[39m\u001b[33m\"\u001b[39m\u001b[33mdue to mismatch in shape for \u001b[39m\u001b[33m\"\u001b[39m\n\u001b[32m   (...)\u001b[39m\u001b[32m    437\u001b[39m                 stacklevel=\u001b[32m2\u001b[39m,\n\u001b[32m    438\u001b[39m             )\n\u001b[32m    439\u001b[39m             \u001b[38;5;28;01mcontinue\u001b[39;00m\n\u001b[32m--> \u001b[39m\u001b[32m440\u001b[39m         \u001b[38;5;28;01mraise\u001b[39;00m \u001b[38;5;167;01mValueError\u001b[39;00m(\n\u001b[32m    441\u001b[39m             \u001b[33mf\u001b[39m\u001b[33m\"\u001b[39m\u001b[33mShape mismatch in \u001b[39m\u001b[38;5;132;01m{\u001b[39;00mname\u001b[38;5;132;01m}\u001b[39;00m\u001b[33m\"\u001b[39m\n\u001b[32m    442\u001b[39m             \u001b[33mf\u001b[39m\u001b[33m\"\u001b[39m\u001b[33mfor weight \u001b[39m\u001b[38;5;132;01m{\u001b[39;00msymbolic_weights[i].path\u001b[38;5;132;01m}\u001b[39;00m\u001b[33m. \u001b[39m\u001b[33m\"\u001b[39m\n\u001b[32m    443\u001b[39m             \u001b[33mf\u001b[39m\u001b[33m\"\u001b[39m\u001b[33mWeight expects shape \u001b[39m\u001b[38;5;132;01m{\u001b[39;00mexpected_shape\u001b[38;5;132;01m}\u001b[39;00m\u001b[33m. \u001b[39m\u001b[33m\"\u001b[39m\n\u001b[32m    444\u001b[39m             \u001b[33m\"\u001b[39m\u001b[33mReceived saved weight \u001b[39m\u001b[33m\"\u001b[39m\n\u001b[32m    445\u001b[39m             \u001b[33mf\u001b[39m\u001b[33m\"\u001b[39m\u001b[33mwith shape \u001b[39m\u001b[38;5;132;01m{\u001b[39;00mreceived_shape\u001b[38;5;132;01m}\u001b[39;00m\u001b[33m\"\u001b[39m\n\u001b[32m    446\u001b[39m         )\n\u001b[32m    447\u001b[39m     symbolic_weights[i].assign(weight_value)\n\u001b[32m    449\u001b[39m \u001b[38;5;28;01mif\u001b[39;00m \u001b[38;5;28mhasattr\u001b[39m(instance, \u001b[33m\"\u001b[39m\u001b[33mfinalize_state\u001b[39m\u001b[33m\"\u001b[39m) \u001b[38;5;129;01mand\u001b[39;00m symbolic_weights:\n",
      "\u001b[31mValueError\u001b[39m: Shape mismatch in layer #0 (named tcn_2)for weight tcn_2/residual_block_0/conv1D_0/kernel. Weight expects shape (5, 1, 128). Received saved weight with shape (128,)"
     ]
    }
   ],
   "source": [
    "TCN_model = load_model('TCN #2.h5', custom_objects={'f1': f1})"
   ]
  },
  {
   "cell_type": "code",
   "execution_count": 65,
   "metadata": {},
   "outputs": [],
   "source": [
    "y_test = to_categorical(y_test, 2)"
   ]
  },
  {
   "cell_type": "code",
   "execution_count": 66,
   "metadata": {},
   "outputs": [
    {
     "name": "stdout",
     "output_type": "stream",
     "text": [
      "54/54 [==============================] - 2s 17ms/step - loss: 0.3120 - accuracy: 0.8968 - f1: 0.8968\n"
     ]
    }
   ],
   "source": [
    "results = TCN_model.evaluate(X_test, y_test, verbose = 1)"
   ]
  },
  {
   "cell_type": "code",
   "execution_count": 67,
   "metadata": {},
   "outputs": [
    {
     "name": "stdout",
     "output_type": "stream",
     "text": [
      "54/54 [==============================] - 2s 16ms/step\n"
     ]
    }
   ],
   "source": [
    "y_pred = TCN_model.predict(X_test)"
   ]
  },
  {
   "cell_type": "code",
   "execution_count": 68,
   "metadata": {},
   "outputs": [],
   "source": [
    "y_test = y_test.argmax(axis=1)\n",
    "y_pred = y_pred.argmax(axis=1)"
   ]
  },
  {
   "cell_type": "code",
   "execution_count": 71,
   "metadata": {},
   "outputs": [
    {
     "data": {
      "text/plain": [
       "<sklearn.metrics._plot.confusion_matrix.ConfusionMatrixDisplay at 0x7563e4397070>"
      ]
     },
     "execution_count": 71,
     "metadata": {},
     "output_type": "execute_result"
    },
    {
     "data": {
      "image/png": "[encoded data removed]",
      "text/plain": [
       "<Figure size 640x480 with 2 Axes>"
      ]
     },
     "metadata": {},
     "output_type": "display_data"
    }
   ],
   "source": [
    "confusion_matrix = metrics.confusion_matrix(y_test, y_pred)\n",
    "matrix = ConfusionMatrixDisplay(confusion_matrix = confusion_matrix, display_labels = [\"benign\", \"phishing\"])                            \n",
    "matrix.plot()"
   ]
  },
  {
   "cell_type": "code",
   "execution_count": 72,
   "metadata": {},
   "outputs": [],
   "source": [
    "Accuracy = metrics.accuracy_score(y_test, y_pred)\n",
    "Precision = metrics.precision_score(y_test, y_pred)\n",
    "Recall = metrics.recall_score(y_test, y_pred)\n",
    "F1_score = metrics.f1_score(y_test, y_pred)"
   ]
  },
  {
   "cell_type": "code",
   "execution_count": 73,
   "metadata": {},
   "outputs": [
    {
     "name": "stdout",
     "output_type": "stream",
     "text": [
      "{'Accuracy': 0.8967930029154519, 'Precision': 0.9151943462897526, 'Recall': 0.8809523809523809, 'F1_score': 0.8977469670710573}\n"
     ]
    }
   ],
   "source": [
    "print({\"Accuracy\":Accuracy,\"Precision\":Precision,\"Recall\":Recall,\"F1_score\":F1_score})"
   ]
  },
  {
   "cell_type": "code",
   "execution_count": 75,
   "metadata": {},
   "outputs": [],
   "source": [
    "df = pd.read_csv(\"../Metrics of Dataset #2.csv\")"
   ]
  },
  {
   "cell_type": "code",
   "execution_count": 76,
   "metadata": {},
   "outputs": [],
   "source": [
    "metrics = pd.DataFrame({\"Model\": \"TCN\", \"Accuracy\": [Accuracy], \"Precision\":[Precision], \"Recall\": [Recall], \"F1_score\": [F1_score]})"
   ]
  },
  {
   "cell_type": "code",
   "execution_count": 77,
   "metadata": {},
   "outputs": [],
   "source": [
    "df = pd.concat([df, metrics], ignore_index=True)"
   ]
  },
  {
   "cell_type": "code",
   "execution_count": 78,
   "metadata": {},
   "outputs": [
    {
     "data": {
      "text/html": [
       "<div>\n",
       "<style scoped>\n",
       "    .dataframe tbody tr th:only-of-type {\n",
       "        vertical-align: middle;\n",
       "    }\n",
       "\n",
       "    .dataframe tbody tr th {\n",
       "        vertical-align: top;\n",
       "    }\n",
       "\n",
       "    .dataframe thead th {\n",
       "        text-align: right;\n",
       "    }\n",
       "</style>\n",
       "<table border=\"1\" class=\"dataframe\">\n",
       "  <thead>\n",
       "    <tr style=\"text-align: right;\">\n",
       "      <th></th>\n",
       "      <th>Model</th>\n",
       "      <th>Accuracy</th>\n",
       "      <th>Precision</th>\n",
       "      <th>Recall</th>\n",
       "      <th>F1_score</th>\n",
       "    </tr>\n",
       "  </thead>\n",
       "  <tbody>\n",
       "    <tr>\n",
       "      <th>0</th>\n",
       "      <td>LinearSVC</td>\n",
       "      <td>0.869388</td>\n",
       "      <td>0.859170</td>\n",
       "      <td>0.892290</td>\n",
       "      <td>0.875417</td>\n",
       "    </tr>\n",
       "    <tr>\n",
       "      <th>1</th>\n",
       "      <td>Random Forest</td>\n",
       "      <td>0.900875</td>\n",
       "      <td>0.913953</td>\n",
       "      <td>0.891156</td>\n",
       "      <td>0.902411</td>\n",
       "    </tr>\n",
       "    <tr>\n",
       "      <th>2</th>\n",
       "      <td>XGBoost</td>\n",
       "      <td>0.895044</td>\n",
       "      <td>0.892617</td>\n",
       "      <td>0.904762</td>\n",
       "      <td>0.898649</td>\n",
       "    </tr>\n",
       "    <tr>\n",
       "      <th>3</th>\n",
       "      <td>MLP</td>\n",
       "      <td>0.896210</td>\n",
       "      <td>0.893736</td>\n",
       "      <td>0.905896</td>\n",
       "      <td>0.899775</td>\n",
       "    </tr>\n",
       "    <tr>\n",
       "      <th>4</th>\n",
       "      <td>TCN</td>\n",
       "      <td>0.896793</td>\n",
       "      <td>0.915194</td>\n",
       "      <td>0.880952</td>\n",
       "      <td>0.897747</td>\n",
       "    </tr>\n",
       "  </tbody>\n",
       "</table>\n",
       "</div>"
      ],
      "text/plain": [
       "           Model  Accuracy  Precision    Recall  F1_score\n",
       "0      LinearSVC  0.869388   0.859170  0.892290  0.875417\n",
       "1  Random Forest  0.900875   0.913953  0.891156  0.902411\n",
       "2        XGBoost  0.895044   0.892617  0.904762  0.898649\n",
       "3            MLP  0.896210   0.893736  0.905896  0.899775\n",
       "4            TCN  0.896793   0.915194  0.880952  0.897747"
      ]
     },
     "execution_count": 78,
     "metadata": {},
     "output_type": "execute_result"
    }
   ],
   "source": [
    "df.head()"
   ]
  },
  {
   "cell_type": "code",
   "execution_count": 79,
   "metadata": {},
   "outputs": [],
   "source": [
    "df.to_csv(\"../Metrics of Dataset #2.csv\", index=False)"
   ]
  }
 ],
 "metadata": {
  "kernelspec": {
   "display_name": "Python 3",
   "language": "python",
   "name": "python3"
  },
  "language_info": {
   "codemirror_mode": {
    "name": "ipython",
    "version": 3
   },
   "file_extension": ".py",
   "mimetype": "text/x-python",
   "name": "python",
   "nbconvert_exporter": "python",
   "pygments_lexer": "ipython3",
   "version": "3.11.12"
  }
 },
 "nbformat": 4,
 "nbformat_minor": 2
}
