{
 "cells": [
  {
   "cell_type": "code",
   "execution_count": 1,
   "metadata": {},
   "outputs": [],
   "source": [
    "import pandas as pd \n",
    "from sklearn.neural_network import MLPClassifier\n",
    "from sklearn.preprocessing import StandardScaler\n",
    "from sklearn import metrics\n",
    "from joblib import dump\n",
    "from sklearn.metrics import ConfusionMatrixDisplay"
   ]
  },
  {
   "cell_type": "code",
   "execution_count": 2,
   "metadata": {},
   "outputs": [],
   "source": [
    "X_train = pd.read_csv(\"../../../Split Data/Training Dataset/X_train (Undersample)#3.csv\").drop(columns=[\"Unnamed: 0\"])\n",
    "y_train = pd.read_csv(\"../../../Split Data/Training Dataset/y_train (Undersample)#3.csv\", index_col=0)\n",
    "X_test = pd.read_csv(\"../../../Split Data/Testing Dataset/X_test (Undersample)#3.csv\").drop(columns=[\"Unnamed: 0\"])\n",
    "y_test = pd.read_csv(\"../../../Split Data/Testing Dataset/y_test (Undersample)#3.csv\", index_col=0)\n",
    "X_val = pd.read_csv(\"../../../Split Data/Validation Dataset/X_val (Undersample)#3.csv\").drop(columns=[\"Unnamed: 0\"])\n",
    "y_val = pd.read_csv(\"../../../Split Data/Validation Dataset/y_val (Undersample)#3.csv\", index_col=0)"
   ]
  },
  {
   "cell_type": "code",
   "execution_count": 3,
   "metadata": {},
   "outputs": [],
   "source": [
    "scaler = StandardScaler()\n",
    "X_train_scaled = scaler.fit_transform(X_train)  \n",
    "X_val_scaled = scaler.transform(X_val)   \n",
    "X_test_scaled = scaler.transform(X_test) "
   ]
  },
  {
   "cell_type": "code",
   "execution_count": 4,
   "metadata": {},
   "outputs": [],
   "source": [
    "mlp = MLPClassifier(hidden_layer_sizes=(128, 64, 32),\n",
    "                    max_iter=1000, random_state=10, verbose = 1)\n"
   ]
  },
  {
   "cell_type": "code",
   "execution_count": 5,
   "metadata": {},
   "outputs": [
    {
     "name": "stderr",
     "output_type": "stream",
     "text": [
      "/home/zeus/miniconda3/envs/cloudspace/lib/python3.10/site-packages/sklearn/neural_network/_multilayer_perceptron.py:1102: DataConversionWarning: A column-vector y was passed when a 1d array was expected. Please change the shape of y to (n_samples, ), for example using ravel().\n",
      "  y = column_or_1d(y, warn=True)\n"
     ]
    },
    {
     "name": "stdout",
     "output_type": "stream",
     "text": [
      "Iteration 1, loss = 0.50028083\n",
      "Iteration 2, loss = 0.48304863\n",
      "Iteration 3, loss = 0.47971043\n",
      "Iteration 4, loss = 0.47799226\n",
      "Iteration 5, loss = 0.47663553\n",
      "Iteration 6, loss = 0.47562565\n",
      "Iteration 7, loss = 0.47501439\n",
      "Iteration 8, loss = 0.47435348\n",
      "Iteration 9, loss = 0.47372639\n",
      "Iteration 10, loss = 0.47315625\n",
      "Iteration 11, loss = 0.47268566\n",
      "Iteration 12, loss = 0.47261763\n",
      "Iteration 13, loss = 0.47175470\n",
      "Iteration 14, loss = 0.47166614\n",
      "Iteration 15, loss = 0.47106497\n",
      "Iteration 16, loss = 0.47105033\n",
      "Iteration 17, loss = 0.47080405\n",
      "Iteration 18, loss = 0.47029203\n",
      "Iteration 19, loss = 0.47016335\n",
      "Iteration 20, loss = 0.46970840\n",
      "Iteration 21, loss = 0.46963801\n",
      "Iteration 22, loss = 0.46955705\n",
      "Iteration 23, loss = 0.46917384\n",
      "Iteration 24, loss = 0.46920846\n",
      "Iteration 25, loss = 0.46895942\n",
      "Iteration 26, loss = 0.46891450\n",
      "Iteration 27, loss = 0.46880735\n",
      "Iteration 28, loss = 0.46833904\n",
      "Iteration 29, loss = 0.46849346\n",
      "Iteration 30, loss = 0.46797422\n",
      "Iteration 31, loss = 0.46800023\n",
      "Iteration 32, loss = 0.46769026\n",
      "Iteration 33, loss = 0.46774303\n",
      "Iteration 34, loss = 0.46742702\n",
      "Iteration 35, loss = 0.46731973\n",
      "Iteration 36, loss = 0.46715281\n",
      "Iteration 37, loss = 0.46661287\n",
      "Iteration 38, loss = 0.46707360\n",
      "Iteration 39, loss = 0.46700760\n",
      "Iteration 40, loss = 0.46683667\n",
      "Iteration 41, loss = 0.46660879\n",
      "Iteration 42, loss = 0.46631955\n",
      "Iteration 43, loss = 0.46640435\n",
      "Iteration 44, loss = 0.46624012\n",
      "Iteration 45, loss = 0.46605513\n",
      "Iteration 46, loss = 0.46591626\n",
      "Iteration 47, loss = 0.46595506\n",
      "Iteration 48, loss = 0.46591760\n",
      "Iteration 49, loss = 0.46562943\n",
      "Iteration 50, loss = 0.46566373\n",
      "Iteration 51, loss = 0.46550521\n",
      "Iteration 52, loss = 0.46545280\n",
      "Iteration 53, loss = 0.46527598\n",
      "Iteration 54, loss = 0.46518412\n",
      "Iteration 55, loss = 0.46537722\n",
      "Iteration 56, loss = 0.46533268\n",
      "Iteration 57, loss = 0.46516691\n",
      "Iteration 58, loss = 0.46500583\n",
      "Iteration 59, loss = 0.46502689\n",
      "Iteration 60, loss = 0.46479939\n",
      "Iteration 61, loss = 0.46495527\n",
      "Iteration 62, loss = 0.46512826\n",
      "Iteration 63, loss = 0.46474238\n",
      "Iteration 64, loss = 0.46476866\n",
      "Iteration 65, loss = 0.46436075\n",
      "Iteration 66, loss = 0.46448079\n",
      "Iteration 67, loss = 0.46447830\n",
      "Iteration 68, loss = 0.46444003\n",
      "Iteration 69, loss = 0.46425853\n",
      "Iteration 70, loss = 0.46410835\n",
      "Iteration 71, loss = 0.46430679\n",
      "Iteration 72, loss = 0.46409536\n",
      "Iteration 73, loss = 0.46408750\n",
      "Iteration 74, loss = 0.46389150\n",
      "Iteration 75, loss = 0.46400103\n",
      "Iteration 76, loss = 0.46379057\n",
      "Iteration 77, loss = 0.46386935\n",
      "Iteration 78, loss = 0.46370396\n",
      "Iteration 79, loss = 0.46363067\n",
      "Iteration 80, loss = 0.46374607\n",
      "Iteration 81, loss = 0.46349128\n",
      "Iteration 82, loss = 0.46335776\n",
      "Iteration 83, loss = 0.46350749\n",
      "Iteration 84, loss = 0.46336104\n",
      "Iteration 85, loss = 0.46339651\n",
      "Iteration 86, loss = 0.46307963\n",
      "Iteration 87, loss = 0.46334831\n",
      "Iteration 88, loss = 0.46319704\n",
      "Iteration 89, loss = 0.46328163\n",
      "Iteration 90, loss = 0.46313145\n",
      "Iteration 91, loss = 0.46327015\n",
      "Iteration 92, loss = 0.46308250\n",
      "Iteration 93, loss = 0.46316041\n",
      "Iteration 94, loss = 0.46295732\n",
      "Iteration 95, loss = 0.46318722\n",
      "Iteration 96, loss = 0.46283354\n",
      "Iteration 97, loss = 0.46286551\n",
      "Iteration 98, loss = 0.46279798\n",
      "Iteration 99, loss = 0.46278420\n",
      "Iteration 100, loss = 0.46279783\n",
      "Iteration 101, loss = 0.46259092\n",
      "Iteration 102, loss = 0.46247189\n",
      "Iteration 103, loss = 0.46254029\n",
      "Iteration 104, loss = 0.46256913\n",
      "Iteration 105, loss = 0.46264697\n",
      "Iteration 106, loss = 0.46239919\n",
      "Iteration 107, loss = 0.46233147\n",
      "Iteration 108, loss = 0.46240686\n",
      "Iteration 109, loss = 0.46261181\n",
      "Iteration 110, loss = 0.46245585\n",
      "Iteration 111, loss = 0.46225693\n",
      "Iteration 112, loss = 0.46227635\n",
      "Iteration 113, loss = 0.46210785\n",
      "Iteration 114, loss = 0.46202730\n",
      "Iteration 115, loss = 0.46220172\n",
      "Iteration 116, loss = 0.46205646\n",
      "Iteration 117, loss = 0.46227870\n",
      "Iteration 118, loss = 0.46218699\n",
      "Iteration 119, loss = 0.46204824\n",
      "Iteration 120, loss = 0.46201557\n",
      "Iteration 121, loss = 0.46175783\n",
      "Iteration 122, loss = 0.46196480\n",
      "Iteration 123, loss = 0.46185940\n",
      "Iteration 124, loss = 0.46171380\n",
      "Iteration 125, loss = 0.46203280\n",
      "Iteration 126, loss = 0.46165366\n",
      "Iteration 127, loss = 0.46157649\n",
      "Iteration 128, loss = 0.46174764\n",
      "Iteration 129, loss = 0.46166455\n",
      "Iteration 130, loss = 0.46166421\n",
      "Iteration 131, loss = 0.46169469\n",
      "Iteration 132, loss = 0.46160108\n",
      "Training loss did not improve more than tol=0.000100 for 10 consecutive epochs. Stopping.\n"
     ]
    },
    {
     "data": {
      "text/html": [
       "<style>#sk-container-id-1 {color: black;}#sk-container-id-1 pre{padding: 0;}#sk-container-id-1 div.sk-toggleable {background-color: white;}#sk-container-id-1 label.sk-toggleable__label {cursor: pointer;display: block;width: 100%;margin-bottom: 0;padding: 0.3em;box-sizing: border-box;text-align: center;}#sk-container-id-1 label.sk-toggleable__label-arrow:before {content: \"▸\";float: left;margin-right: 0.25em;color: #696969;}#sk-container-id-1 label.sk-toggleable__label-arrow:hover:before {color: black;}#sk-container-id-1 div.sk-estimator:hover label.sk-toggleable__label-arrow:before {color: black;}#sk-container-id-1 div.sk-toggleable__content {max-height: 0;max-width: 0;overflow: hidden;text-align: left;background-color: #f0f8ff;}#sk-container-id-1 div.sk-toggleable__content pre {margin: 0.2em;color: black;border-radius: 0.25em;background-color: #f0f8ff;}#sk-container-id-1 input.sk-toggleable__control:checked~div.sk-toggleable__content {max-height: 200px;max-width: 100%;overflow: auto;}#sk-container-id-1 input.sk-toggleable__control:checked~label.sk-toggleable__label-arrow:before {content: \"▾\";}#sk-container-id-1 div.sk-estimator input.sk-toggleable__control:checked~label.sk-toggleable__label {background-color: #d4ebff;}#sk-container-id-1 div.sk-label input.sk-toggleable__control:checked~label.sk-toggleable__label {background-color: #d4ebff;}#sk-container-id-1 input.sk-hidden--visually {border: 0;clip: rect(1px 1px 1px 1px);clip: rect(1px, 1px, 1px, 1px);height: 1px;margin: -1px;overflow: hidden;padding: 0;position: absolute;width: 1px;}#sk-container-id-1 div.sk-estimator {font-family: monospace;background-color: #f0f8ff;border: 1px dotted black;border-radius: 0.25em;box-sizing: border-box;margin-bottom: 0.5em;}#sk-container-id-1 div.sk-estimator:hover {background-color: #d4ebff;}#sk-container-id-1 div.sk-parallel-item::after {content: \"\";width: 100%;border-bottom: 1px solid gray;flex-grow: 1;}#sk-container-id-1 div.sk-label:hover label.sk-toggleable__label {background-color: #d4ebff;}#sk-container-id-1 div.sk-serial::before {content: \"\";position: absolute;border-left: 1px solid gray;box-sizing: border-box;top: 0;bottom: 0;left: 50%;z-index: 0;}#sk-container-id-1 div.sk-serial {display: flex;flex-direction: column;align-items: center;background-color: white;padding-right: 0.2em;padding-left: 0.2em;position: relative;}#sk-container-id-1 div.sk-item {position: relative;z-index: 1;}#sk-container-id-1 div.sk-parallel {display: flex;align-items: stretch;justify-content: center;background-color: white;position: relative;}#sk-container-id-1 div.sk-item::before, #sk-container-id-1 div.sk-parallel-item::before {content: \"\";position: absolute;border-left: 1px solid gray;box-sizing: border-box;top: 0;bottom: 0;left: 50%;z-index: -1;}#sk-container-id-1 div.sk-parallel-item {display: flex;flex-direction: column;z-index: 1;position: relative;background-color: white;}#sk-container-id-1 div.sk-parallel-item:first-child::after {align-self: flex-end;width: 50%;}#sk-container-id-1 div.sk-parallel-item:last-child::after {align-self: flex-start;width: 50%;}#sk-container-id-1 div.sk-parallel-item:only-child::after {width: 0;}#sk-container-id-1 div.sk-dashed-wrapped {border: 1px dashed gray;margin: 0 0.4em 0.5em 0.4em;box-sizing: border-box;padding-bottom: 0.4em;background-color: white;}#sk-container-id-1 div.sk-label label {font-family: monospace;font-weight: bold;display: inline-block;line-height: 1.2em;}#sk-container-id-1 div.sk-label-container {text-align: center;}#sk-container-id-1 div.sk-container {/* jupyter's `normalize.less` sets `[hidden] { display: none; }` but bootstrap.min.css set `[hidden] { display: none !important; }` so we also need the `!important` here to be able to override the default hidden behavior on the sphinx rendered scikit-learn.org. See: https://github.com/scikit-learn/scikit-learn/issues/21755 */display: inline-block !important;position: relative;}#sk-container-id-1 div.sk-text-repr-fallback {display: none;}</style><div id=\"sk-container-id-1\" class=\"sk-top-container\"><div class=\"sk-text-repr-fallback\"><pre>MLPClassifier(hidden_layer_sizes=(128, 64, 32), max_iter=1000, random_state=10,\n",
       "              verbose=1)</pre><b>In a Jupyter environment, please rerun this cell to show the HTML representation or trust the notebook. <br />On GitHub, the HTML representation is unable to render, please try loading this page with nbviewer.org.</b></div><div class=\"sk-container\" hidden><div class=\"sk-item\"><div class=\"sk-estimator sk-toggleable\"><input class=\"sk-toggleable__control sk-hidden--visually\" id=\"sk-estimator-id-1\" type=\"checkbox\" checked><label for=\"sk-estimator-id-1\" class=\"sk-toggleable__label sk-toggleable__label-arrow\">MLPClassifier</label><div class=\"sk-toggleable__content\"><pre>MLPClassifier(hidden_layer_sizes=(128, 64, 32), max_iter=1000, random_state=10,\n",
       "              verbose=1)</pre></div></div></div></div></div>"
      ],
      "text/plain": [
       "MLPClassifier(hidden_layer_sizes=(128, 64, 32), max_iter=1000, random_state=10,\n",
       "              verbose=1)"
      ]
     },
     "execution_count": 5,
     "metadata": {},
     "output_type": "execute_result"
    }
   ],
   "source": [
    "mlp.fit(X_train_scaled, y_train)\n"
   ]
  },
  {
   "cell_type": "code",
   "execution_count": 6,
   "metadata": {},
   "outputs": [],
   "source": [
    "y_val_pred = mlp.predict(X_val_scaled)"
   ]
  },
  {
   "cell_type": "code",
   "execution_count": 7,
   "metadata": {},
   "outputs": [],
   "source": [
    "Accuracy = metrics.accuracy_score(y_val, y_val_pred)\n",
    "Precision = metrics.precision_score(y_val, y_val_pred)\n",
    "Recall = metrics.recall_score(y_val, y_val_pred)\n",
    "F1_score = metrics.f1_score(y_val, y_val_pred)\n"
   ]
  },
  {
   "cell_type": "code",
   "execution_count": 8,
   "metadata": {},
   "outputs": [
    {
     "name": "stdout",
     "output_type": "stream",
     "text": [
      "{'Accuracy': 0.7328167287953837, 'Precision': 0.3896894530617532, 'Recall': 0.8525077925758006, 'F1_score': 0.5348801031179856}\n"
     ]
    }
   ],
   "source": [
    "print({\"Accuracy\":Accuracy,\"Precision\":Precision,\"Recall\":Recall,\"F1_score\":F1_score})"
   ]
  },
  {
   "cell_type": "code",
   "execution_count": 9,
   "metadata": {},
   "outputs": [],
   "source": [
    "y_pred = mlp.predict(X_test_scaled)"
   ]
  },
  {
   "cell_type": "code",
   "execution_count": 10,
   "metadata": {},
   "outputs": [
    {
     "data": {
      "text/plain": [
       "<sklearn.metrics._plot.confusion_matrix.ConfusionMatrixDisplay at 0x77931bc29b40>"
      ]
     },
     "execution_count": 10,
     "metadata": {},
     "output_type": "execute_result"
    },
    {
     "data": {
      "image/png": "[encoded data removed]",
      "text/plain": [
       "<Figure size 640x480 with 2 Axes>"
      ]
     },
     "metadata": {},
     "output_type": "display_data"
    }
   ],
   "source": [
    "confusion_matrix = metrics.confusion_matrix(y_test, y_pred)\n",
    "matrix = ConfusionMatrixDisplay(confusion_matrix = confusion_matrix, display_labels = [\"benign\", \"phishing\"])                            \n",
    "matrix.plot()"
   ]
  },
  {
   "cell_type": "code",
   "execution_count": 11,
   "metadata": {},
   "outputs": [],
   "source": [
    "Accuracy = metrics.accuracy_score(y_test, y_pred)\n",
    "Precision = metrics.precision_score(y_test, y_pred)\n",
    "Recall = metrics.recall_score(y_test, y_pred)\n",
    "F1_score = metrics.f1_score(y_test, y_pred)"
   ]
  },
  {
   "cell_type": "code",
   "execution_count": 12,
   "metadata": {},
   "outputs": [
    {
     "name": "stdout",
     "output_type": "stream",
     "text": [
      "{'Accuracy': 0.7320286469304125, 'Precision': 0.38924336169115753, 'Recall': 0.8556350499397889, 'F1_score': 0.53507275908658}\n"
     ]
    }
   ],
   "source": [
    "print({\"Accuracy\":Accuracy,\"Precision\":Precision,\"Recall\":Recall,\"F1_score\":F1_score})"
   ]
  },
  {
   "cell_type": "code",
   "execution_count": 13,
   "metadata": {},
   "outputs": [],
   "source": [
    "df = pd.read_csv(\"../Metrics of Dataset (Undersampling)#3.csv\")"
   ]
  },
  {
   "cell_type": "code",
   "execution_count": 15,
   "metadata": {},
   "outputs": [],
   "source": [
    "metrics = pd.DataFrame({\"Model\": \"MLP\", \"Accuracy\": [Accuracy], \"Precision\":[Precision], \"Recall\": [Recall], \"F1_score\": [F1_score]})"
   ]
  },
  {
   "cell_type": "code",
   "execution_count": 16,
   "metadata": {},
   "outputs": [],
   "source": [
    "df = pd.concat([df, metrics], ignore_index=True)"
   ]
  },
  {
   "cell_type": "code",
   "execution_count": 17,
   "metadata": {},
   "outputs": [
    {
     "data": {
      "text/html": [
       "<div>\n",
       "<style scoped>\n",
       "    .dataframe tbody tr th:only-of-type {\n",
       "        vertical-align: middle;\n",
       "    }\n",
       "\n",
       "    .dataframe tbody tr th {\n",
       "        vertical-align: top;\n",
       "    }\n",
       "\n",
       "    .dataframe thead th {\n",
       "        text-align: right;\n",
       "    }\n",
       "</style>\n",
       "<table border=\"1\" class=\"dataframe\">\n",
       "  <thead>\n",
       "    <tr style=\"text-align: right;\">\n",
       "      <th></th>\n",
       "      <th>Model</th>\n",
       "      <th>Accuracy</th>\n",
       "      <th>Precision</th>\n",
       "      <th>Recall</th>\n",
       "      <th>F1_score</th>\n",
       "    </tr>\n",
       "  </thead>\n",
       "  <tbody>\n",
       "    <tr>\n",
       "      <th>0</th>\n",
       "      <td>LinearSVC</td>\n",
       "      <td>0.623415</td>\n",
       "      <td>0.303641</td>\n",
       "      <td>0.842459</td>\n",
       "      <td>0.446392</td>\n",
       "    </tr>\n",
       "    <tr>\n",
       "      <th>1</th>\n",
       "      <td>Random Forest</td>\n",
       "      <td>0.733254</td>\n",
       "      <td>0.390210</td>\n",
       "      <td>0.853227</td>\n",
       "      <td>0.535512</td>\n",
       "    </tr>\n",
       "    <tr>\n",
       "      <th>2</th>\n",
       "      <td>XGBoost</td>\n",
       "      <td>0.730803</td>\n",
       "      <td>0.387978</td>\n",
       "      <td>0.854998</td>\n",
       "      <td>0.533752</td>\n",
       "    </tr>\n",
       "    <tr>\n",
       "      <th>3</th>\n",
       "      <td>MLP</td>\n",
       "      <td>0.732029</td>\n",
       "      <td>0.389243</td>\n",
       "      <td>0.855635</td>\n",
       "      <td>0.535073</td>\n",
       "    </tr>\n",
       "  </tbody>\n",
       "</table>\n",
       "</div>"
      ],
      "text/plain": [
       "           Model  Accuracy  Precision    Recall  F1_score\n",
       "0      LinearSVC  0.623415   0.303641  0.842459  0.446392\n",
       "1  Random Forest  0.733254   0.390210  0.853227  0.535512\n",
       "2        XGBoost  0.730803   0.387978  0.854998  0.533752\n",
       "3            MLP  0.732029   0.389243  0.855635  0.535073"
      ]
     },
     "execution_count": 17,
     "metadata": {},
     "output_type": "execute_result"
    }
   ],
   "source": [
    "df.head()"
   ]
  },
  {
   "cell_type": "code",
   "execution_count": 18,
   "metadata": {},
   "outputs": [],
   "source": [
    "df.to_csv(\"../Metrics of Dataset (Undersampling)#3.csv\", index=False)"
   ]
  },
  {
   "cell_type": "code",
   "execution_count": 19,
   "metadata": {},
   "outputs": [
    {
     "data": {
      "text/plain": [
       "['MLP (Undersampling)#3.joblib']"
      ]
     },
     "execution_count": 19,
     "metadata": {},
     "output_type": "execute_result"
    }
   ],
   "source": [
    "dump(mlp, 'MLP (Undersampling)#3.joblib')"
   ]
  }
 ],
 "metadata": {
  "language_info": {
   "name": "python"
  }
 },
 "nbformat": 4,
 "nbformat_minor": 2
}
