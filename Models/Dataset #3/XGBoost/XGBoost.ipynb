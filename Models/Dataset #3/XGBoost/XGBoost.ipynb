{
 "cells": [
  {
   "cell_type": "code",
   "execution_count": 1,
   "metadata": {},
   "outputs": [
    {
     "name": "stdout",
     "output_type": "stream",
     "text": [
      "Requirement already satisfied: xgboost in /system/conda/miniconda3/envs/cloudspace/lib/python3.10/site-packages (3.0.0)\n",
      "Requirement already satisfied: numpy in /system/conda/miniconda3/envs/cloudspace/lib/python3.10/site-packages (from xgboost) (1.26.4)\n",
      "Requirement already satisfied: nvidia-nccl-cu12 in /system/conda/miniconda3/envs/cloudspace/lib/python3.10/site-packages (from xgboost) (2.23.4)\n",
      "Requirement already satisfied: scipy in /system/conda/miniconda3/envs/cloudspace/lib/python3.10/site-packages (from xgboost) (1.11.4)\n"
     ]
    }
   ],
   "source": [
    "!pip install xgboost"
   ]
  },
  {
   "cell_type": "code",
   "execution_count": 22,
   "metadata": {},
   "outputs": [],
   "source": [
    "import pandas as pd\n",
    "from xgboost import XGBClassifier\n",
    "from sklearn import metrics\n",
    "from sklearn.metrics import ConfusionMatrixDisplay\n",
    "from joblib import dump\n"
   ]
  },
  {
   "cell_type": "code",
   "execution_count": 23,
   "metadata": {},
   "outputs": [],
   "source": [
    "X_train = pd.read_csv(\"../../Split Data/Training Dataset/X_train #3.csv\").drop(columns=[\"Unnamed: 0\"])\n",
    "y_train = pd.read_csv(\"../../Split Data/Training Dataset/y_train #3.csv\", index_col=0)\n",
    "X_test = pd.read_csv(\"../../Split Data/Testing Dataset/X_test #3.csv\").drop(columns=[\"Unnamed: 0\"])\n",
    "y_test = pd.read_csv(\"../../Split Data/Testing Dataset/y_test #3.csv\", index_col=0)\n",
    "X_val = pd.read_csv(\"../../Split Data/Validation Dataset/X_val #3.csv\").drop(columns=[\"Unnamed: 0\"])\n",
    "y_val = pd.read_csv(\"../../Split Data/Validation Dataset/y_val #3.csv\", index_col=0)"
   ]
  },
  {
   "cell_type": "code",
   "execution_count": 96,
   "metadata": {},
   "outputs": [],
   "source": [
    "model = XGBClassifier(objective='binary:logistic', max_depth = 7, n_estimators = 1000, early_stopping_rounds=5)"
   ]
  },
  {
   "cell_type": "code",
   "execution_count": 97,
   "metadata": {},
   "outputs": [
    {
     "name": "stdout",
     "output_type": "stream",
     "text": [
      "[0]\tvalidation_0-logloss:0.60713\n",
      "[1]\tvalidation_0-logloss:0.56184\n",
      "[2]\tvalidation_0-logloss:0.53632\n",
      "[3]\tvalidation_0-logloss:0.52116\n",
      "[4]\tvalidation_0-logloss:0.51000\n",
      "[5]\tvalidation_0-logloss:0.50316\n",
      "[6]\tvalidation_0-logloss:0.49862\n",
      "[7]\tvalidation_0-logloss:0.49505\n",
      "[8]\tvalidation_0-logloss:0.49264\n",
      "[9]\tvalidation_0-logloss:0.49077\n",
      "[10]\tvalidation_0-logloss:0.48938\n",
      "[11]\tvalidation_0-logloss:0.48847\n",
      "[12]\tvalidation_0-logloss:0.48750\n",
      "[13]\tvalidation_0-logloss:0.48607\n",
      "[14]\tvalidation_0-logloss:0.48514\n",
      "[15]\tvalidation_0-logloss:0.48472\n",
      "[16]\tvalidation_0-logloss:0.48443\n",
      "[17]\tvalidation_0-logloss:0.48403\n",
      "[18]\tvalidation_0-logloss:0.48374\n",
      "[19]\tvalidation_0-logloss:0.48345\n",
      "[20]\tvalidation_0-logloss:0.48331\n",
      "[21]\tvalidation_0-logloss:0.48322\n",
      "[22]\tvalidation_0-logloss:0.48261\n",
      "[23]\tvalidation_0-logloss:0.48219\n",
      "[24]\tvalidation_0-logloss:0.48208\n",
      "[25]\tvalidation_0-logloss:0.48113\n",
      "[26]\tvalidation_0-logloss:0.48093\n",
      "[27]\tvalidation_0-logloss:0.48087\n",
      "[28]\tvalidation_0-logloss:0.48044\n",
      "[29]\tvalidation_0-logloss:0.48038\n",
      "[30]\tvalidation_0-logloss:0.48030\n",
      "[31]\tvalidation_0-logloss:0.48028\n",
      "[32]\tvalidation_0-logloss:0.48014\n",
      "[33]\tvalidation_0-logloss:0.48008\n",
      "[34]\tvalidation_0-logloss:0.47982\n",
      "[35]\tvalidation_0-logloss:0.47945\n",
      "[36]\tvalidation_0-logloss:0.47935\n",
      "[37]\tvalidation_0-logloss:0.47929\n",
      "[38]\tvalidation_0-logloss:0.47928\n",
      "[39]\tvalidation_0-logloss:0.47926\n",
      "[40]\tvalidation_0-logloss:0.47909\n",
      "[41]\tvalidation_0-logloss:0.47906\n",
      "[42]\tvalidation_0-logloss:0.47905\n",
      "[43]\tvalidation_0-logloss:0.47903\n",
      "[44]\tvalidation_0-logloss:0.47896\n",
      "[45]\tvalidation_0-logloss:0.47888\n",
      "[46]\tvalidation_0-logloss:0.47882\n",
      "[47]\tvalidation_0-logloss:0.47881\n",
      "[48]\tvalidation_0-logloss:0.47880\n",
      "[49]\tvalidation_0-logloss:0.47876\n",
      "[50]\tvalidation_0-logloss:0.47854\n",
      "[51]\tvalidation_0-logloss:0.47850\n",
      "[52]\tvalidation_0-logloss:0.47839\n",
      "[53]\tvalidation_0-logloss:0.47839\n",
      "[54]\tvalidation_0-logloss:0.47838\n",
      "[55]\tvalidation_0-logloss:0.47833\n",
      "[56]\tvalidation_0-logloss:0.47821\n",
      "[57]\tvalidation_0-logloss:0.47770\n",
      "[58]\tvalidation_0-logloss:0.47770\n",
      "[59]\tvalidation_0-logloss:0.47767\n",
      "[60]\tvalidation_0-logloss:0.47742\n",
      "[61]\tvalidation_0-logloss:0.47738\n",
      "[62]\tvalidation_0-logloss:0.47733\n",
      "[63]\tvalidation_0-logloss:0.47727\n",
      "[64]\tvalidation_0-logloss:0.47715\n",
      "[65]\tvalidation_0-logloss:0.47714\n",
      "[66]\tvalidation_0-logloss:0.47713\n",
      "[67]\tvalidation_0-logloss:0.47710\n",
      "[68]\tvalidation_0-logloss:0.47709\n",
      "[69]\tvalidation_0-logloss:0.47710\n",
      "[70]\tvalidation_0-logloss:0.47709\n",
      "[71]\tvalidation_0-logloss:0.47708\n",
      "[72]\tvalidation_0-logloss:0.47708\n",
      "[73]\tvalidation_0-logloss:0.47699\n",
      "[74]\tvalidation_0-logloss:0.47693\n",
      "[75]\tvalidation_0-logloss:0.47692\n",
      "[76]\tvalidation_0-logloss:0.47692\n",
      "[77]\tvalidation_0-logloss:0.47692\n",
      "[78]\tvalidation_0-logloss:0.47691\n",
      "[79]\tvalidation_0-logloss:0.47691\n",
      "[80]\tvalidation_0-logloss:0.47689\n",
      "[81]\tvalidation_0-logloss:0.47687\n",
      "[82]\tvalidation_0-logloss:0.47684\n",
      "[83]\tvalidation_0-logloss:0.47684\n",
      "[84]\tvalidation_0-logloss:0.47681\n",
      "[85]\tvalidation_0-logloss:0.47679\n",
      "[86]\tvalidation_0-logloss:0.47679\n",
      "[87]\tvalidation_0-logloss:0.47678\n",
      "[88]\tvalidation_0-logloss:0.47678\n",
      "[89]\tvalidation_0-logloss:0.47678\n",
      "[90]\tvalidation_0-logloss:0.47678\n",
      "[91]\tvalidation_0-logloss:0.47678\n",
      "[92]\tvalidation_0-logloss:0.47678\n",
      "[93]\tvalidation_0-logloss:0.47678\n",
      "[94]\tvalidation_0-logloss:0.47678\n",
      "[95]\tvalidation_0-logloss:0.47678\n",
      "[96]\tvalidation_0-logloss:0.47673\n",
      "[97]\tvalidation_0-logloss:0.47652\n",
      "[98]\tvalidation_0-logloss:0.47623\n",
      "[99]\tvalidation_0-logloss:0.47614\n",
      "[100]\tvalidation_0-logloss:0.47611\n",
      "[101]\tvalidation_0-logloss:0.47608\n",
      "[102]\tvalidation_0-logloss:0.47602\n",
      "[103]\tvalidation_0-logloss:0.47591\n",
      "[104]\tvalidation_0-logloss:0.47589\n",
      "[105]\tvalidation_0-logloss:0.47588\n",
      "[106]\tvalidation_0-logloss:0.47586\n",
      "[107]\tvalidation_0-logloss:0.47584\n",
      "[108]\tvalidation_0-logloss:0.47583\n",
      "[109]\tvalidation_0-logloss:0.47579\n",
      "[110]\tvalidation_0-logloss:0.47578\n",
      "[111]\tvalidation_0-logloss:0.47577\n",
      "[112]\tvalidation_0-logloss:0.47573\n",
      "[113]\tvalidation_0-logloss:0.47572\n",
      "[114]\tvalidation_0-logloss:0.47571\n",
      "[115]\tvalidation_0-logloss:0.47569\n",
      "[116]\tvalidation_0-logloss:0.47566\n",
      "[117]\tvalidation_0-logloss:0.47566\n",
      "[118]\tvalidation_0-logloss:0.47565\n",
      "[119]\tvalidation_0-logloss:0.47568\n",
      "[120]\tvalidation_0-logloss:0.47568\n",
      "[121]\tvalidation_0-logloss:0.47565\n",
      "[122]\tvalidation_0-logloss:0.47565\n",
      "[123]\tvalidation_0-logloss:0.47565\n",
      "[124]\tvalidation_0-logloss:0.47564\n",
      "[125]\tvalidation_0-logloss:0.47564\n",
      "[126]\tvalidation_0-logloss:0.47562\n",
      "[127]\tvalidation_0-logloss:0.47562\n",
      "[128]\tvalidation_0-logloss:0.47561\n",
      "[129]\tvalidation_0-logloss:0.47561\n",
      "[130]\tvalidation_0-logloss:0.47561\n",
      "[131]\tvalidation_0-logloss:0.47561\n",
      "[132]\tvalidation_0-logloss:0.47562\n",
      "[133]\tvalidation_0-logloss:0.47561\n",
      "[134]\tvalidation_0-logloss:0.47561\n",
      "[135]\tvalidation_0-logloss:0.47561\n",
      "[136]\tvalidation_0-logloss:0.47561\n",
      "[137]\tvalidation_0-logloss:0.47561\n",
      "[138]\tvalidation_0-logloss:0.47560\n",
      "[139]\tvalidation_0-logloss:0.47560\n",
      "[140]\tvalidation_0-logloss:0.47560\n",
      "[141]\tvalidation_0-logloss:0.47560\n",
      "[142]\tvalidation_0-logloss:0.47559\n",
      "[143]\tvalidation_0-logloss:0.47560\n",
      "[144]\tvalidation_0-logloss:0.47560\n",
      "[145]\tvalidation_0-logloss:0.47560\n",
      "[146]\tvalidation_0-logloss:0.47556\n",
      "[147]\tvalidation_0-logloss:0.47555\n",
      "[148]\tvalidation_0-logloss:0.47553\n",
      "[149]\tvalidation_0-logloss:0.47551\n",
      "[150]\tvalidation_0-logloss:0.47549\n",
      "[151]\tvalidation_0-logloss:0.47550\n",
      "[152]\tvalidation_0-logloss:0.47548\n",
      "[153]\tvalidation_0-logloss:0.47546\n",
      "[154]\tvalidation_0-logloss:0.47546\n",
      "[155]\tvalidation_0-logloss:0.47546\n",
      "[156]\tvalidation_0-logloss:0.47545\n",
      "[157]\tvalidation_0-logloss:0.47544\n",
      "[158]\tvalidation_0-logloss:0.47544\n",
      "[159]\tvalidation_0-logloss:0.47543\n",
      "[160]\tvalidation_0-logloss:0.47543\n",
      "[161]\tvalidation_0-logloss:0.47543\n",
      "[162]\tvalidation_0-logloss:0.47543\n",
      "[163]\tvalidation_0-logloss:0.47543\n",
      "[164]\tvalidation_0-logloss:0.47543\n",
      "[165]\tvalidation_0-logloss:0.47543\n",
      "[166]\tvalidation_0-logloss:0.47543\n",
      "[167]\tvalidation_0-logloss:0.47543\n",
      "[168]\tvalidation_0-logloss:0.47543\n",
      "[169]\tvalidation_0-logloss:0.47544\n",
      "[170]\tvalidation_0-logloss:0.47544\n",
      "[171]\tvalidation_0-logloss:0.47544\n",
      "[172]\tvalidation_0-logloss:0.47543\n",
      "[173]\tvalidation_0-logloss:0.47543\n"
     ]
    },
    {
     "data": {
      "text/html": [
       "<style>#sk-container-id-14 {color: black;}#sk-container-id-14 pre{padding: 0;}#sk-container-id-14 div.sk-toggleable {background-color: white;}#sk-container-id-14 label.sk-toggleable__label {cursor: pointer;display: block;width: 100%;margin-bottom: 0;padding: 0.3em;box-sizing: border-box;text-align: center;}#sk-container-id-14 label.sk-toggleable__label-arrow:before {content: \"▸\";float: left;margin-right: 0.25em;color: #696969;}#sk-container-id-14 label.sk-toggleable__label-arrow:hover:before {color: black;}#sk-container-id-14 div.sk-estimator:hover label.sk-toggleable__label-arrow:before {color: black;}#sk-container-id-14 div.sk-toggleable__content {max-height: 0;max-width: 0;overflow: hidden;text-align: left;background-color: #f0f8ff;}#sk-container-id-14 div.sk-toggleable__content pre {margin: 0.2em;color: black;border-radius: 0.25em;background-color: #f0f8ff;}#sk-container-id-14 input.sk-toggleable__control:checked~div.sk-toggleable__content {max-height: 200px;max-width: 100%;overflow: auto;}#sk-container-id-14 input.sk-toggleable__control:checked~label.sk-toggleable__label-arrow:before {content: \"▾\";}#sk-container-id-14 div.sk-estimator input.sk-toggleable__control:checked~label.sk-toggleable__label {background-color: #d4ebff;}#sk-container-id-14 div.sk-label input.sk-toggleable__control:checked~label.sk-toggleable__label {background-color: #d4ebff;}#sk-container-id-14 input.sk-hidden--visually {border: 0;clip: rect(1px 1px 1px 1px);clip: rect(1px, 1px, 1px, 1px);height: 1px;margin: -1px;overflow: hidden;padding: 0;position: absolute;width: 1px;}#sk-container-id-14 div.sk-estimator {font-family: monospace;background-color: #f0f8ff;border: 1px dotted black;border-radius: 0.25em;box-sizing: border-box;margin-bottom: 0.5em;}#sk-container-id-14 div.sk-estimator:hover {background-color: #d4ebff;}#sk-container-id-14 div.sk-parallel-item::after {content: \"\";width: 100%;border-bottom: 1px solid gray;flex-grow: 1;}#sk-container-id-14 div.sk-label:hover label.sk-toggleable__label {background-color: #d4ebff;}#sk-container-id-14 div.sk-serial::before {content: \"\";position: absolute;border-left: 1px solid gray;box-sizing: border-box;top: 0;bottom: 0;left: 50%;z-index: 0;}#sk-container-id-14 div.sk-serial {display: flex;flex-direction: column;align-items: center;background-color: white;padding-right: 0.2em;padding-left: 0.2em;position: relative;}#sk-container-id-14 div.sk-item {position: relative;z-index: 1;}#sk-container-id-14 div.sk-parallel {display: flex;align-items: stretch;justify-content: center;background-color: white;position: relative;}#sk-container-id-14 div.sk-item::before, #sk-container-id-14 div.sk-parallel-item::before {content: \"\";position: absolute;border-left: 1px solid gray;box-sizing: border-box;top: 0;bottom: 0;left: 50%;z-index: -1;}#sk-container-id-14 div.sk-parallel-item {display: flex;flex-direction: column;z-index: 1;position: relative;background-color: white;}#sk-container-id-14 div.sk-parallel-item:first-child::after {align-self: flex-end;width: 50%;}#sk-container-id-14 div.sk-parallel-item:last-child::after {align-self: flex-start;width: 50%;}#sk-container-id-14 div.sk-parallel-item:only-child::after {width: 0;}#sk-container-id-14 div.sk-dashed-wrapped {border: 1px dashed gray;margin: 0 0.4em 0.5em 0.4em;box-sizing: border-box;padding-bottom: 0.4em;background-color: white;}#sk-container-id-14 div.sk-label label {font-family: monospace;font-weight: bold;display: inline-block;line-height: 1.2em;}#sk-container-id-14 div.sk-label-container {text-align: center;}#sk-container-id-14 div.sk-container {/* jupyter's `normalize.less` sets `[hidden] { display: none; }` but bootstrap.min.css set `[hidden] { display: none !important; }` so we also need the `!important` here to be able to override the default hidden behavior on the sphinx rendered scikit-learn.org. See: https://github.com/scikit-learn/scikit-learn/issues/21755 */display: inline-block !important;position: relative;}#sk-container-id-14 div.sk-text-repr-fallback {display: none;}</style><div id=\"sk-container-id-14\" class=\"sk-top-container\"><div class=\"sk-text-repr-fallback\"><pre>XGBClassifier(base_score=None, booster=None, callbacks=None,\n",
       "              colsample_bylevel=None, colsample_bynode=None,\n",
       "              colsample_bytree=None, device=None, early_stopping_rounds=5,\n",
       "              enable_categorical=False, eval_metric=None, feature_types=None,\n",
       "              feature_weights=None, gamma=None, grow_policy=None,\n",
       "              importance_type=None, interaction_constraints=None,\n",
       "              learning_rate=None, max_bin=None, max_cat_threshold=None,\n",
       "              max_cat_to_onehot=None, max_delta_step=None, max_depth=7,\n",
       "              max_leaves=None, min_child_weight=None, missing=nan,\n",
       "              monotone_constraints=None, multi_strategy=None, n_estimators=1000,\n",
       "              n_jobs=None, num_parallel_tree=None, ...)</pre><b>In a Jupyter environment, please rerun this cell to show the HTML representation or trust the notebook. <br />On GitHub, the HTML representation is unable to render, please try loading this page with nbviewer.org.</b></div><div class=\"sk-container\" hidden><div class=\"sk-item\"><div class=\"sk-estimator sk-toggleable\"><input class=\"sk-toggleable__control sk-hidden--visually\" id=\"sk-estimator-id-14\" type=\"checkbox\" checked><label for=\"sk-estimator-id-14\" class=\"sk-toggleable__label sk-toggleable__label-arrow\">XGBClassifier</label><div class=\"sk-toggleable__content\"><pre>XGBClassifier(base_score=None, booster=None, callbacks=None,\n",
       "              colsample_bylevel=None, colsample_bynode=None,\n",
       "              colsample_bytree=None, device=None, early_stopping_rounds=5,\n",
       "              enable_categorical=False, eval_metric=None, feature_types=None,\n",
       "              feature_weights=None, gamma=None, grow_policy=None,\n",
       "              importance_type=None, interaction_constraints=None,\n",
       "              learning_rate=None, max_bin=None, max_cat_threshold=None,\n",
       "              max_cat_to_onehot=None, max_delta_step=None, max_depth=7,\n",
       "              max_leaves=None, min_child_weight=None, missing=nan,\n",
       "              monotone_constraints=None, multi_strategy=None, n_estimators=1000,\n",
       "              n_jobs=None, num_parallel_tree=None, ...)</pre></div></div></div></div></div>"
      ],
      "text/plain": [
       "XGBClassifier(base_score=None, booster=None, callbacks=None,\n",
       "              colsample_bylevel=None, colsample_bynode=None,\n",
       "              colsample_bytree=None, device=None, early_stopping_rounds=5,\n",
       "              enable_categorical=False, eval_metric=None, feature_types=None,\n",
       "              feature_weights=None, gamma=None, grow_policy=None,\n",
       "              importance_type=None, interaction_constraints=None,\n",
       "              learning_rate=None, max_bin=None, max_cat_threshold=None,\n",
       "              max_cat_to_onehot=None, max_delta_step=None, max_depth=7,\n",
       "              max_leaves=None, min_child_weight=None, missing=nan,\n",
       "              monotone_constraints=None, multi_strategy=None, n_estimators=1000,\n",
       "              n_jobs=None, num_parallel_tree=None, ...)"
      ]
     },
     "execution_count": 97,
     "metadata": {},
     "output_type": "execute_result"
    }
   ],
   "source": [
    "model.fit(X_train, y_train,  verbose = True, eval_set=[(X_val,y_val)])"
   ]
  },
  {
   "cell_type": "code",
   "execution_count": 100,
   "metadata": {},
   "outputs": [],
   "source": [
    "y_pred = model.predict(X_test)"
   ]
  },
  {
   "cell_type": "code",
   "execution_count": 101,
   "metadata": {},
   "outputs": [
    {
     "data": {
      "text/plain": [
       "<sklearn.metrics._plot.confusion_matrix.ConfusionMatrixDisplay at 0x7410d10a4820>"
      ]
     },
     "execution_count": 101,
     "metadata": {},
     "output_type": "execute_result"
    },
    {
     "data": {
      "image/png": "[encoded data removed]",
      "text/plain": [
       "<Figure size 640x480 with 2 Axes>"
      ]
     },
     "metadata": {},
     "output_type": "display_data"
    }
   ],
   "source": [
    "confusion_matrix = metrics.confusion_matrix(y_test, y_pred)\n",
    "matrix = ConfusionMatrixDisplay(confusion_matrix = confusion_matrix, display_labels = [\"benign\", \"phishing\"])                            \n",
    "matrix.plot()\n"
   ]
  },
  {
   "cell_type": "code",
   "execution_count": 102,
   "metadata": {},
   "outputs": [],
   "source": [
    "Accuracy = metrics.accuracy_score(y_test, y_pred)\n",
    "Precision = metrics.precision_score(y_test, y_pred)\n",
    "Recall = metrics.recall_score(y_test, y_pred)\n",
    "F1_score = metrics.f1_score(y_test, y_pred)"
   ]
  },
  {
   "cell_type": "code",
   "execution_count": 103,
   "metadata": {},
   "outputs": [
    {
     "name": "stdout",
     "output_type": "stream",
     "text": [
      "{'Accuracy': 0.7312499202124264, 'Precision': 0.38783761927866733, 'Recall': 0.8493305943189062, 'F1_score': 0.5325102149582519}\n"
     ]
    }
   ],
   "source": [
    "print({\"Accuracy\":Accuracy,\"Precision\":Precision,\"Recall\":Recall,\"F1_score\":F1_score})"
   ]
  },
  {
   "cell_type": "code",
   "execution_count": 104,
   "metadata": {},
   "outputs": [],
   "source": [
    "df = pd.read_csv(\"Metrics of Dataset #3.csv\")"
   ]
  },
  {
   "cell_type": "code",
   "execution_count": 105,
   "metadata": {},
   "outputs": [],
   "source": [
    "metrics = pd.DataFrame({\"Model\": \"XGBoost\", \"Accuracy\": [Accuracy], \"Precision\":[Precision], \"Recall\": [Recall], \"F1_score\": [F1_score]})"
   ]
  },
  {
   "cell_type": "code",
   "execution_count": 112,
   "metadata": {},
   "outputs": [],
   "source": [
    "df = pd.concat([df, metrics], ignore_index=True)"
   ]
  },
  {
   "cell_type": "code",
   "execution_count": 113,
   "metadata": {},
   "outputs": [
    {
     "data": {
      "text/html": [
       "<div>\n",
       "<style scoped>\n",
       "    .dataframe tbody tr th:only-of-type {\n",
       "        vertical-align: middle;\n",
       "    }\n",
       "\n",
       "    .dataframe tbody tr th {\n",
       "        vertical-align: top;\n",
       "    }\n",
       "\n",
       "    .dataframe thead th {\n",
       "        text-align: right;\n",
       "    }\n",
       "</style>\n",
       "<table border=\"1\" class=\"dataframe\">\n",
       "  <thead>\n",
       "    <tr style=\"text-align: right;\">\n",
       "      <th></th>\n",
       "      <th>Model</th>\n",
       "      <th>Accuracy</th>\n",
       "      <th>Precision</th>\n",
       "      <th>Recall</th>\n",
       "      <th>F1_score</th>\n",
       "    </tr>\n",
       "  </thead>\n",
       "  <tbody>\n",
       "    <tr>\n",
       "      <th>0</th>\n",
       "      <td>LinearSVC</td>\n",
       "      <td>0.625305</td>\n",
       "      <td>0.304140</td>\n",
       "      <td>0.837855</td>\n",
       "      <td>0.446281</td>\n",
       "    </tr>\n",
       "    <tr>\n",
       "      <th>1</th>\n",
       "      <td>Random Forest</td>\n",
       "      <td>0.730088</td>\n",
       "      <td>0.386604</td>\n",
       "      <td>0.848410</td>\n",
       "      <td>0.531166</td>\n",
       "    </tr>\n",
       "    <tr>\n",
       "      <th>2</th>\n",
       "      <td>XGBoost</td>\n",
       "      <td>0.731250</td>\n",
       "      <td>0.387838</td>\n",
       "      <td>0.849331</td>\n",
       "      <td>0.532510</td>\n",
       "    </tr>\n",
       "  </tbody>\n",
       "</table>\n",
       "</div>"
      ],
      "text/plain": [
       "           Model  Accuracy  Precision    Recall  F1_score\n",
       "0      LinearSVC  0.625305   0.304140  0.837855  0.446281\n",
       "1  Random Forest  0.730088   0.386604  0.848410  0.531166\n",
       "2        XGBoost  0.731250   0.387838  0.849331  0.532510"
      ]
     },
     "execution_count": 113,
     "metadata": {},
     "output_type": "execute_result"
    }
   ],
   "source": [
    "df.head()"
   ]
  },
  {
   "cell_type": "code",
   "execution_count": 114,
   "metadata": {},
   "outputs": [],
   "source": [
    "df.to_csv(\"Metrics of Dataset #3.csv\", index=False)"
   ]
  },
  {
   "cell_type": "code",
   "execution_count": 115,
   "metadata": {},
   "outputs": [
    {
     "data": {
      "text/plain": [
       "['XGBoost #3.joblib']"
      ]
     },
     "execution_count": 115,
     "metadata": {},
     "output_type": "execute_result"
    }
   ],
   "source": [
    "dump(model, 'XGBoost #3.joblib')"
   ]
  }
 ],
 "metadata": {
  "language_info": {
   "name": "python"
  }
 },
 "nbformat": 4,
 "nbformat_minor": 2
}
