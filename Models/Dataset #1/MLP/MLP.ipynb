{
 "cells": [
  {
   "cell_type": "code",
   "execution_count": 1,
   "metadata": {},
   "outputs": [],
   "source": [
    "import pandas as pd \n",
    "from sklearn.neural_network import MLPClassifier\n",
    "from sklearn.preprocessing import StandardScaler\n",
    "from sklearn import metrics\n",
    "from joblib import dump\n",
    "from sklearn.metrics import ConfusionMatrixDisplay"
   ]
  },
  {
   "cell_type": "code",
   "execution_count": 2,
   "metadata": {},
   "outputs": [],
   "source": [
    "X_train = pd.read_csv(\"../../../Split Data/Training Dataset/X_train #1.csv\").drop(columns=[\"Unnamed: 0\"])\n",
    "y_train = pd.read_csv(\"../../../Split Data/Training Dataset/y_train #1.csv\", index_col=0)\n",
    "X_val = pd.read_csv(\"../../../Split Data/Validation Dataset/X_val #1.csv\").drop(columns=[\"Unnamed: 0\"])\n",
    "y_val = pd.read_csv(\"../../../Split Data/Validation Dataset/y_val #1.csv\", index_col=0)\n",
    "X_test = pd.read_csv(\"../../../Split Data/Testing Dataset/X_test #1.csv\").drop(columns=[\"Unnamed: 0\"])\n",
    "y_test = pd.read_csv(\"../../../Split Data/Testing Dataset/y_test #1.csv\", index_col=0)"
   ]
  },
  {
   "cell_type": "code",
   "execution_count": 3,
   "metadata": {},
   "outputs": [],
   "source": [
    "scaler = StandardScaler()\n",
    "X_train_scaled = scaler.fit_transform(X_train)  \n",
    "X_val_scaled = scaler.transform(X_val)   \n",
    "X_test_scaled = scaler.transform(X_test) "
   ]
  },
  {
   "cell_type": "code",
   "execution_count": 4,
   "metadata": {},
   "outputs": [],
   "source": [
    "mlp = MLPClassifier(hidden_layer_sizes=(128, 64, 32),\n",
    "                    max_iter=1000, random_state=10, verbose = 1)\n"
   ]
  },
  {
   "cell_type": "code",
   "execution_count": 5,
   "metadata": {},
   "outputs": [
    {
     "name": "stderr",
     "output_type": "stream",
     "text": [
      "/home/zeus/miniconda3/envs/cloudspace/lib/python3.10/site-packages/sklearn/neural_network/_multilayer_perceptron.py:1102: DataConversionWarning: A column-vector y was passed when a 1d array was expected. Please change the shape of y to (n_samples, ), for example using ravel().\n",
      "  y = column_or_1d(y, warn=True)\n"
     ]
    },
    {
     "name": "stdout",
     "output_type": "stream",
     "text": [
      "Iteration 1, loss = 0.34405809\n",
      "Iteration 2, loss = 0.32812675\n",
      "Iteration 3, loss = 0.32607389\n",
      "Iteration 4, loss = 0.32514986\n",
      "Iteration 5, loss = 0.32381725\n",
      "Iteration 6, loss = 0.32327063\n",
      "Iteration 7, loss = 0.32263780\n",
      "Iteration 8, loss = 0.32200419\n",
      "Iteration 9, loss = 0.32149696\n",
      "Iteration 10, loss = 0.32120921\n",
      "Iteration 11, loss = 0.32091127\n",
      "Iteration 12, loss = 0.32034906\n",
      "Iteration 13, loss = 0.32020386\n",
      "Iteration 14, loss = 0.31972317\n",
      "Iteration 15, loss = 0.31941906\n",
      "Iteration 16, loss = 0.31927904\n",
      "Iteration 17, loss = 0.31888545\n",
      "Iteration 18, loss = 0.31864846\n",
      "Iteration 19, loss = 0.31869806\n",
      "Iteration 20, loss = 0.31838758\n",
      "Iteration 21, loss = 0.31823290\n",
      "Iteration 22, loss = 0.31793045\n",
      "Iteration 23, loss = 0.31788257\n",
      "Iteration 24, loss = 0.31761561\n",
      "Iteration 25, loss = 0.31748595\n",
      "Iteration 26, loss = 0.31742050\n",
      "Iteration 27, loss = 0.31729216\n",
      "Iteration 28, loss = 0.31734960\n",
      "Iteration 29, loss = 0.31713092\n",
      "Iteration 30, loss = 0.31704098\n",
      "Iteration 31, loss = 0.31710457\n",
      "Iteration 32, loss = 0.31683812\n",
      "Iteration 33, loss = 0.31669563\n",
      "Iteration 34, loss = 0.31672013\n",
      "Iteration 35, loss = 0.31652088\n",
      "Iteration 36, loss = 0.31647850\n",
      "Iteration 37, loss = 0.31663541\n",
      "Iteration 38, loss = 0.31636944\n",
      "Iteration 39, loss = 0.31620012\n",
      "Iteration 40, loss = 0.31631493\n",
      "Iteration 41, loss = 0.31617492\n",
      "Iteration 42, loss = 0.31618748\n",
      "Iteration 43, loss = 0.31609221\n",
      "Iteration 44, loss = 0.31599342\n",
      "Iteration 45, loss = 0.31596299\n",
      "Iteration 46, loss = 0.31585708\n",
      "Iteration 47, loss = 0.31580007\n",
      "Iteration 48, loss = 0.31593545\n",
      "Iteration 49, loss = 0.31573251\n",
      "Iteration 50, loss = 0.31574203\n",
      "Iteration 51, loss = 0.31546110\n",
      "Iteration 52, loss = 0.31542708\n",
      "Iteration 53, loss = 0.31546111\n",
      "Iteration 54, loss = 0.31535837\n",
      "Iteration 55, loss = 0.31556261\n",
      "Iteration 56, loss = 0.31528016\n",
      "Iteration 57, loss = 0.31516839\n",
      "Iteration 58, loss = 0.31511902\n",
      "Iteration 59, loss = 0.31531733\n",
      "Iteration 60, loss = 0.31515329\n",
      "Iteration 61, loss = 0.31518801\n",
      "Iteration 62, loss = 0.31518475\n",
      "Iteration 63, loss = 0.31515687\n",
      "Iteration 64, loss = 0.31497401\n",
      "Iteration 65, loss = 0.31500127\n",
      "Iteration 66, loss = 0.31497688\n",
      "Iteration 67, loss = 0.31503527\n",
      "Iteration 68, loss = 0.31490328\n",
      "Iteration 69, loss = 0.31484051\n",
      "Iteration 70, loss = 0.31484669\n",
      "Iteration 71, loss = 0.31498150\n",
      "Iteration 72, loss = 0.31483726\n",
      "Iteration 73, loss = 0.31471579\n",
      "Iteration 74, loss = 0.31473142\n",
      "Iteration 75, loss = 0.31465323\n",
      "Iteration 76, loss = 0.31472397\n",
      "Iteration 77, loss = 0.31454338\n",
      "Iteration 78, loss = 0.31465776\n",
      "Iteration 79, loss = 0.31459480\n",
      "Iteration 80, loss = 0.31448729\n",
      "Iteration 81, loss = 0.31456254\n",
      "Iteration 82, loss = 0.31448651\n",
      "Iteration 83, loss = 0.31451172\n",
      "Iteration 84, loss = 0.31431877\n",
      "Iteration 85, loss = 0.31443821\n",
      "Iteration 86, loss = 0.31432614\n",
      "Iteration 87, loss = 0.31432614\n",
      "Iteration 88, loss = 0.31437517\n",
      "Iteration 89, loss = 0.31427154\n",
      "Iteration 90, loss = 0.31429118\n",
      "Iteration 91, loss = 0.31419299\n",
      "Iteration 92, loss = 0.31420332\n",
      "Iteration 93, loss = 0.31428790\n",
      "Iteration 94, loss = 0.31421041\n",
      "Iteration 95, loss = 0.31421457\n",
      "Training loss did not improve more than tol=0.000100 for 10 consecutive epochs. Stopping.\n"
     ]
    },
    {
     "data": {
      "text/html": [
       "<style>#sk-container-id-1 {color: black;}#sk-container-id-1 pre{padding: 0;}#sk-container-id-1 div.sk-toggleable {background-color: white;}#sk-container-id-1 label.sk-toggleable__label {cursor: pointer;display: block;width: 100%;margin-bottom: 0;padding: 0.3em;box-sizing: border-box;text-align: center;}#sk-container-id-1 label.sk-toggleable__label-arrow:before {content: \"▸\";float: left;margin-right: 0.25em;color: #696969;}#sk-container-id-1 label.sk-toggleable__label-arrow:hover:before {color: black;}#sk-container-id-1 div.sk-estimator:hover label.sk-toggleable__label-arrow:before {color: black;}#sk-container-id-1 div.sk-toggleable__content {max-height: 0;max-width: 0;overflow: hidden;text-align: left;background-color: #f0f8ff;}#sk-container-id-1 div.sk-toggleable__content pre {margin: 0.2em;color: black;border-radius: 0.25em;background-color: #f0f8ff;}#sk-container-id-1 input.sk-toggleable__control:checked~div.sk-toggleable__content {max-height: 200px;max-width: 100%;overflow: auto;}#sk-container-id-1 input.sk-toggleable__control:checked~label.sk-toggleable__label-arrow:before {content: \"▾\";}#sk-container-id-1 div.sk-estimator input.sk-toggleable__control:checked~label.sk-toggleable__label {background-color: #d4ebff;}#sk-container-id-1 div.sk-label input.sk-toggleable__control:checked~label.sk-toggleable__label {background-color: #d4ebff;}#sk-container-id-1 input.sk-hidden--visually {border: 0;clip: rect(1px 1px 1px 1px);clip: rect(1px, 1px, 1px, 1px);height: 1px;margin: -1px;overflow: hidden;padding: 0;position: absolute;width: 1px;}#sk-container-id-1 div.sk-estimator {font-family: monospace;background-color: #f0f8ff;border: 1px dotted black;border-radius: 0.25em;box-sizing: border-box;margin-bottom: 0.5em;}#sk-container-id-1 div.sk-estimator:hover {background-color: #d4ebff;}#sk-container-id-1 div.sk-parallel-item::after {content: \"\";width: 100%;border-bottom: 1px solid gray;flex-grow: 1;}#sk-container-id-1 div.sk-label:hover label.sk-toggleable__label {background-color: #d4ebff;}#sk-container-id-1 div.sk-serial::before {content: \"\";position: absolute;border-left: 1px solid gray;box-sizing: border-box;top: 0;bottom: 0;left: 50%;z-index: 0;}#sk-container-id-1 div.sk-serial {display: flex;flex-direction: column;align-items: center;background-color: white;padding-right: 0.2em;padding-left: 0.2em;position: relative;}#sk-container-id-1 div.sk-item {position: relative;z-index: 1;}#sk-container-id-1 div.sk-parallel {display: flex;align-items: stretch;justify-content: center;background-color: white;position: relative;}#sk-container-id-1 div.sk-item::before, #sk-container-id-1 div.sk-parallel-item::before {content: \"\";position: absolute;border-left: 1px solid gray;box-sizing: border-box;top: 0;bottom: 0;left: 50%;z-index: -1;}#sk-container-id-1 div.sk-parallel-item {display: flex;flex-direction: column;z-index: 1;position: relative;background-color: white;}#sk-container-id-1 div.sk-parallel-item:first-child::after {align-self: flex-end;width: 50%;}#sk-container-id-1 div.sk-parallel-item:last-child::after {align-self: flex-start;width: 50%;}#sk-container-id-1 div.sk-parallel-item:only-child::after {width: 0;}#sk-container-id-1 div.sk-dashed-wrapped {border: 1px dashed gray;margin: 0 0.4em 0.5em 0.4em;box-sizing: border-box;padding-bottom: 0.4em;background-color: white;}#sk-container-id-1 div.sk-label label {font-family: monospace;font-weight: bold;display: inline-block;line-height: 1.2em;}#sk-container-id-1 div.sk-label-container {text-align: center;}#sk-container-id-1 div.sk-container {/* jupyter's `normalize.less` sets `[hidden] { display: none; }` but bootstrap.min.css set `[hidden] { display: none !important; }` so we also need the `!important` here to be able to override the default hidden behavior on the sphinx rendered scikit-learn.org. See: https://github.com/scikit-learn/scikit-learn/issues/21755 */display: inline-block !important;position: relative;}#sk-container-id-1 div.sk-text-repr-fallback {display: none;}</style><div id=\"sk-container-id-1\" class=\"sk-top-container\"><div class=\"sk-text-repr-fallback\"><pre>MLPClassifier(hidden_layer_sizes=(128, 64, 32), max_iter=1000, random_state=10,\n",
       "              verbose=1)</pre><b>In a Jupyter environment, please rerun this cell to show the HTML representation or trust the notebook. <br />On GitHub, the HTML representation is unable to render, please try loading this page with nbviewer.org.</b></div><div class=\"sk-container\" hidden><div class=\"sk-item\"><div class=\"sk-estimator sk-toggleable\"><input class=\"sk-toggleable__control sk-hidden--visually\" id=\"sk-estimator-id-1\" type=\"checkbox\" checked><label for=\"sk-estimator-id-1\" class=\"sk-toggleable__label sk-toggleable__label-arrow\">MLPClassifier</label><div class=\"sk-toggleable__content\"><pre>MLPClassifier(hidden_layer_sizes=(128, 64, 32), max_iter=1000, random_state=10,\n",
       "              verbose=1)</pre></div></div></div></div></div>"
      ],
      "text/plain": [
       "MLPClassifier(hidden_layer_sizes=(128, 64, 32), max_iter=1000, random_state=10,\n",
       "              verbose=1)"
      ]
     },
     "execution_count": 5,
     "metadata": {},
     "output_type": "execute_result"
    }
   ],
   "source": [
    "mlp.fit(X_train_scaled, y_train)"
   ]
  },
  {
   "cell_type": "code",
   "execution_count": 6,
   "metadata": {},
   "outputs": [],
   "source": [
    "y_val_pred = mlp.predict(X_val_scaled)"
   ]
  },
  {
   "cell_type": "code",
   "execution_count": 7,
   "metadata": {},
   "outputs": [],
   "source": [
    "Accuracy = metrics.accuracy_score(y_val, y_val_pred)\n",
    "Precision = metrics.precision_score(y_val, y_val_pred)\n",
    "Recall = metrics.recall_score(y_val, y_val_pred)\n",
    "F1_score = metrics.f1_score(y_val, y_val_pred)\n"
   ]
  },
  {
   "cell_type": "code",
   "execution_count": 8,
   "metadata": {},
   "outputs": [
    {
     "name": "stdout",
     "output_type": "stream",
     "text": [
      "{'Accuracy': 0.8698279181352367, 'Precision': 0.8719835515636836, 'Recall': 0.5143951484200446, 'F1_score': 0.6470729944591664}\n"
     ]
    }
   ],
   "source": [
    "print({\"Accuracy\":Accuracy,\"Precision\":Precision,\"Recall\":Recall,\"F1_score\":F1_score})"
   ]
  },
  {
   "cell_type": "code",
   "execution_count": 9,
   "metadata": {},
   "outputs": [],
   "source": [
    "y_pred = mlp.predict(X_test_scaled)"
   ]
  },
  {
   "cell_type": "code",
   "execution_count": 10,
   "metadata": {},
   "outputs": [
    {
     "data": {
      "text/plain": [
       "<sklearn.metrics._plot.confusion_matrix.ConfusionMatrixDisplay at 0x750f20937ca0>"
      ]
     },
     "execution_count": 10,
     "metadata": {},
     "output_type": "execute_result"
    },
    {
     "data": {
      "image/png": "[encoded data removed]",
      "text/plain": [
       "<Figure size 640x480 with 2 Axes>"
      ]
     },
     "metadata": {},
     "output_type": "display_data"
    }
   ],
   "source": [
    "confusion_matrix = metrics.confusion_matrix(y_test, y_pred)\n",
    "matrix = ConfusionMatrixDisplay(confusion_matrix = confusion_matrix, display_labels = [\"benign\", \"phishing\"])                            \n",
    "matrix.plot()"
   ]
  },
  {
   "cell_type": "code",
   "execution_count": 11,
   "metadata": {},
   "outputs": [],
   "source": [
    "Accuracy = metrics.accuracy_score(y_test, y_pred)\n",
    "Precision = metrics.precision_score(y_test, y_pred)\n",
    "Recall = metrics.recall_score(y_test, y_pred)\n",
    "F1_score = metrics.f1_score(y_test, y_pred)"
   ]
  },
  {
   "cell_type": "code",
   "execution_count": 12,
   "metadata": {},
   "outputs": [
    {
     "name": "stdout",
     "output_type": "stream",
     "text": [
      "{'Accuracy': 0.8701408325558665, 'Precision': 0.8732546812425587, 'Recall': 0.5150006383250351, 'F1_score': 0.64790202770528}\n"
     ]
    }
   ],
   "source": [
    "print({\"Accuracy\":Accuracy,\"Precision\":Precision,\"Recall\":Recall,\"F1_score\":F1_score})"
   ]
  },
  {
   "cell_type": "code",
   "execution_count": 13,
   "metadata": {},
   "outputs": [],
   "source": [
    "df = pd.read_csv(\"../Metrics of Dataset #1.csv\")"
   ]
  },
  {
   "cell_type": "code",
   "execution_count": 14,
   "metadata": {},
   "outputs": [],
   "source": [
    "metrics = pd.DataFrame({\"Model\": \"MLP\", \"Accuracy\": [Accuracy], \"Precision\":[Precision], \"Recall\": [Recall], \"F1_score\": [F1_score]})"
   ]
  },
  {
   "cell_type": "code",
   "execution_count": 15,
   "metadata": {},
   "outputs": [],
   "source": [
    "df = pd.concat([df, metrics], ignore_index=True)"
   ]
  },
  {
   "cell_type": "code",
   "execution_count": 16,
   "metadata": {},
   "outputs": [
    {
     "data": {
      "text/html": [
       "<div>\n",
       "<style scoped>\n",
       "    .dataframe tbody tr th:only-of-type {\n",
       "        vertical-align: middle;\n",
       "    }\n",
       "\n",
       "    .dataframe tbody tr th {\n",
       "        vertical-align: top;\n",
       "    }\n",
       "\n",
       "    .dataframe thead th {\n",
       "        text-align: right;\n",
       "    }\n",
       "</style>\n",
       "<table border=\"1\" class=\"dataframe\">\n",
       "  <thead>\n",
       "    <tr style=\"text-align: right;\">\n",
       "      <th></th>\n",
       "      <th>Model</th>\n",
       "      <th>Accuracy</th>\n",
       "      <th>Precision</th>\n",
       "      <th>Recall</th>\n",
       "      <th>F1_score</th>\n",
       "    </tr>\n",
       "  </thead>\n",
       "  <tbody>\n",
       "    <tr>\n",
       "      <th>0</th>\n",
       "      <td>LinearSVC</td>\n",
       "      <td>0.796126</td>\n",
       "      <td>0.834921</td>\n",
       "      <td>0.151092</td>\n",
       "      <td>0.255878</td>\n",
       "    </tr>\n",
       "    <tr>\n",
       "      <th>1</th>\n",
       "      <td>Random Forest</td>\n",
       "      <td>0.870822</td>\n",
       "      <td>0.871482</td>\n",
       "      <td>0.519852</td>\n",
       "      <td>0.651233</td>\n",
       "    </tr>\n",
       "    <tr>\n",
       "      <th>2</th>\n",
       "      <td>XGBoost</td>\n",
       "      <td>0.865624</td>\n",
       "      <td>0.873951</td>\n",
       "      <td>0.491702</td>\n",
       "      <td>0.629330</td>\n",
       "    </tr>\n",
       "    <tr>\n",
       "      <th>3</th>\n",
       "      <td>MLP</td>\n",
       "      <td>0.870141</td>\n",
       "      <td>0.873255</td>\n",
       "      <td>0.515001</td>\n",
       "      <td>0.647902</td>\n",
       "    </tr>\n",
       "  </tbody>\n",
       "</table>\n",
       "</div>"
      ],
      "text/plain": [
       "           Model  Accuracy  Precision    Recall  F1_score\n",
       "0      LinearSVC  0.796126   0.834921  0.151092  0.255878\n",
       "1  Random Forest  0.870822   0.871482  0.519852  0.651233\n",
       "2        XGBoost  0.865624   0.873951  0.491702  0.629330\n",
       "3            MLP  0.870141   0.873255  0.515001  0.647902"
      ]
     },
     "execution_count": 16,
     "metadata": {},
     "output_type": "execute_result"
    }
   ],
   "source": [
    "df.head()"
   ]
  },
  {
   "cell_type": "code",
   "execution_count": 17,
   "metadata": {},
   "outputs": [],
   "source": [
    "df.to_csv(\"../Metrics of Dataset #1.csv\", index=False)"
   ]
  },
  {
   "cell_type": "code",
   "execution_count": 18,
   "metadata": {},
   "outputs": [
    {
     "data": {
      "text/plain": [
       "['MLP #1.joblib']"
      ]
     },
     "execution_count": 18,
     "metadata": {},
     "output_type": "execute_result"
    }
   ],
   "source": [
    "dump(mlp, 'MLP #1.joblib')"
   ]
  }
 ],
 "metadata": {
  "language_info": {
   "name": "python"
  }
 },
 "nbformat": 4,
 "nbformat_minor": 2
}
