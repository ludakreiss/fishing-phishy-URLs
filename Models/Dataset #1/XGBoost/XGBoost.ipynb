{
 "cells": [
  {
   "cell_type": "code",
   "execution_count": 1,
   "metadata": {},
   "outputs": [
    {
     "name": "stdout",
     "output_type": "stream",
     "text": [
      "Requirement already satisfied: xgboost in /system/conda/miniconda3/envs/cloudspace/lib/python3.10/site-packages (3.0.0)\n",
      "Requirement already satisfied: numpy in /system/conda/miniconda3/envs/cloudspace/lib/python3.10/site-packages (from xgboost) (1.26.4)\n",
      "Requirement already satisfied: nvidia-nccl-cu12 in /system/conda/miniconda3/envs/cloudspace/lib/python3.10/site-packages (from xgboost) (2.19.3)\n",
      "Requirement already satisfied: scipy in /system/conda/miniconda3/envs/cloudspace/lib/python3.10/site-packages (from xgboost) (1.11.4)\n"
     ]
    }
   ],
   "source": [
    "!pip install xgboost"
   ]
  },
  {
   "cell_type": "code",
   "execution_count": 2,
   "metadata": {},
   "outputs": [],
   "source": [
    "import pandas as pd\n",
    "from xgboost import XGBClassifier\n",
    "from sklearn import metrics\n",
    "from sklearn.metrics import ConfusionMatrixDisplay\n",
    "from joblib import dump\n"
   ]
  },
  {
   "cell_type": "code",
   "execution_count": 3,
   "metadata": {},
   "outputs": [],
   "source": [
    "X_train = pd.read_csv(\"../../../Split Data/Training Dataset/X_train #1.csv\").drop(columns=[\"Unnamed: 0\"])\n",
    "y_train = pd.read_csv(\"../../../Split Data/Training Dataset/y_train #1.csv\", index_col=0)\n",
    "X_val = pd.read_csv(\"../../../Split Data/Validation Dataset/X_val #1.csv\").drop(columns=[\"Unnamed: 0\"])\n",
    "y_val = pd.read_csv(\"../../../Split Data/Validation Dataset/y_val #1.csv\", index_col=0)\n",
    "X_test = pd.read_csv(\"../../../Split Data/Testing Dataset/X_test #1.csv\").drop(columns=[\"Unnamed: 0\"])\n",
    "y_test = pd.read_csv(\"../../../Split Data/Testing Dataset/y_test #1.csv\", index_col=0)"
   ]
  },
  {
   "cell_type": "code",
   "execution_count": 4,
   "metadata": {},
   "outputs": [],
   "source": [
    "model = XGBClassifier(objective='binary:logistic', max_depth = 3, n_estimators = 1000, early_stopping_rounds=5,)"
   ]
  },
  {
   "cell_type": "code",
   "execution_count": 5,
   "metadata": {},
   "outputs": [
    {
     "name": "stdout",
     "output_type": "stream",
     "text": [
      "[0]\tvalidation_0-logloss:0.46840\n",
      "[1]\tvalidation_0-logloss:0.44075\n",
      "[2]\tvalidation_0-logloss:0.42143\n",
      "[3]\tvalidation_0-logloss:0.40938\n",
      "[4]\tvalidation_0-logloss:0.39937\n",
      "[5]\tvalidation_0-logloss:0.39226\n",
      "[6]\tvalidation_0-logloss:0.38693\n",
      "[7]\tvalidation_0-logloss:0.37674\n",
      "[8]\tvalidation_0-logloss:0.37198\n",
      "[9]\tvalidation_0-logloss:0.36893\n",
      "[10]\tvalidation_0-logloss:0.36257\n",
      "[11]\tvalidation_0-logloss:0.35683\n",
      "[12]\tvalidation_0-logloss:0.35423\n",
      "[13]\tvalidation_0-logloss:0.35234\n",
      "[14]\tvalidation_0-logloss:0.34882\n",
      "[15]\tvalidation_0-logloss:0.34698\n",
      "[16]\tvalidation_0-logloss:0.34461\n",
      "[17]\tvalidation_0-logloss:0.34370\n",
      "[18]\tvalidation_0-logloss:0.34246\n",
      "[19]\tvalidation_0-logloss:0.34100\n",
      "[20]\tvalidation_0-logloss:0.34031\n",
      "[21]\tvalidation_0-logloss:0.33944\n",
      "[22]\tvalidation_0-logloss:0.33845\n",
      "[23]\tvalidation_0-logloss:0.33792\n",
      "[24]\tvalidation_0-logloss:0.33733\n",
      "[25]\tvalidation_0-logloss:0.33677\n",
      "[26]\tvalidation_0-logloss:0.33571\n",
      "[27]\tvalidation_0-logloss:0.33511\n",
      "[28]\tvalidation_0-logloss:0.33473\n",
      "[29]\tvalidation_0-logloss:0.33439\n",
      "[30]\tvalidation_0-logloss:0.33348\n",
      "[31]\tvalidation_0-logloss:0.33321\n",
      "[32]\tvalidation_0-logloss:0.33269\n",
      "[33]\tvalidation_0-logloss:0.33245\n",
      "[34]\tvalidation_0-logloss:0.33226\n",
      "[35]\tvalidation_0-logloss:0.33181\n",
      "[36]\tvalidation_0-logloss:0.33166\n",
      "[37]\tvalidation_0-logloss:0.33144\n",
      "[38]\tvalidation_0-logloss:0.33120\n",
      "[39]\tvalidation_0-logloss:0.33091\n",
      "[40]\tvalidation_0-logloss:0.33077\n",
      "[41]\tvalidation_0-logloss:0.33067\n",
      "[42]\tvalidation_0-logloss:0.33050\n",
      "[43]\tvalidation_0-logloss:0.33043\n",
      "[44]\tvalidation_0-logloss:0.32964\n",
      "[45]\tvalidation_0-logloss:0.32883\n",
      "[46]\tvalidation_0-logloss:0.32815\n",
      "[47]\tvalidation_0-logloss:0.32780\n",
      "[48]\tvalidation_0-logloss:0.32772\n",
      "[49]\tvalidation_0-logloss:0.32764\n",
      "[50]\tvalidation_0-logloss:0.32745\n",
      "[51]\tvalidation_0-logloss:0.32723\n",
      "[52]\tvalidation_0-logloss:0.32704\n",
      "[53]\tvalidation_0-logloss:0.32698\n",
      "[54]\tvalidation_0-logloss:0.32691\n",
      "[55]\tvalidation_0-logloss:0.32645\n",
      "[56]\tvalidation_0-logloss:0.32636\n",
      "[57]\tvalidation_0-logloss:0.32632\n",
      "[58]\tvalidation_0-logloss:0.32630\n",
      "[59]\tvalidation_0-logloss:0.32625\n",
      "[60]\tvalidation_0-logloss:0.32620\n",
      "[61]\tvalidation_0-logloss:0.32617\n",
      "[62]\tvalidation_0-logloss:0.32614\n",
      "[63]\tvalidation_0-logloss:0.32571\n",
      "[64]\tvalidation_0-logloss:0.32563\n",
      "[65]\tvalidation_0-logloss:0.32558\n",
      "[66]\tvalidation_0-logloss:0.32556\n",
      "[67]\tvalidation_0-logloss:0.32553\n",
      "[68]\tvalidation_0-logloss:0.32549\n",
      "[69]\tvalidation_0-logloss:0.32525\n",
      "[70]\tvalidation_0-logloss:0.32523\n",
      "[71]\tvalidation_0-logloss:0.32522\n",
      "[72]\tvalidation_0-logloss:0.32519\n",
      "[73]\tvalidation_0-logloss:0.32508\n",
      "[74]\tvalidation_0-logloss:0.32495\n",
      "[75]\tvalidation_0-logloss:0.32466\n",
      "[76]\tvalidation_0-logloss:0.32463\n",
      "[77]\tvalidation_0-logloss:0.32449\n",
      "[78]\tvalidation_0-logloss:0.32446\n",
      "[79]\tvalidation_0-logloss:0.32444\n",
      "[80]\tvalidation_0-logloss:0.32444\n",
      "[81]\tvalidation_0-logloss:0.32444\n",
      "[82]\tvalidation_0-logloss:0.32426\n",
      "[83]\tvalidation_0-logloss:0.32396\n",
      "[84]\tvalidation_0-logloss:0.32382\n",
      "[85]\tvalidation_0-logloss:0.32362\n",
      "[86]\tvalidation_0-logloss:0.32357\n",
      "[87]\tvalidation_0-logloss:0.32349\n",
      "[88]\tvalidation_0-logloss:0.32338\n",
      "[89]\tvalidation_0-logloss:0.32337\n",
      "[90]\tvalidation_0-logloss:0.32333\n",
      "[91]\tvalidation_0-logloss:0.32333\n",
      "[92]\tvalidation_0-logloss:0.32328\n",
      "[93]\tvalidation_0-logloss:0.32320\n",
      "[94]\tvalidation_0-logloss:0.32318\n",
      "[95]\tvalidation_0-logloss:0.32317\n",
      "[96]\tvalidation_0-logloss:0.32316\n",
      "[97]\tvalidation_0-logloss:0.32315\n",
      "[98]\tvalidation_0-logloss:0.32314\n",
      "[99]\tvalidation_0-logloss:0.32314\n",
      "[100]\tvalidation_0-logloss:0.32314\n",
      "[101]\tvalidation_0-logloss:0.32307\n",
      "[102]\tvalidation_0-logloss:0.32307\n",
      "[103]\tvalidation_0-logloss:0.32306\n",
      "[104]\tvalidation_0-logloss:0.32307\n",
      "[105]\tvalidation_0-logloss:0.32304\n",
      "[106]\tvalidation_0-logloss:0.32290\n",
      "[107]\tvalidation_0-logloss:0.32285\n",
      "[108]\tvalidation_0-logloss:0.32282\n",
      "[109]\tvalidation_0-logloss:0.32277\n",
      "[110]\tvalidation_0-logloss:0.32272\n",
      "[111]\tvalidation_0-logloss:0.32259\n",
      "[112]\tvalidation_0-logloss:0.32252\n",
      "[113]\tvalidation_0-logloss:0.32249\n",
      "[114]\tvalidation_0-logloss:0.32227\n",
      "[115]\tvalidation_0-logloss:0.32218\n",
      "[116]\tvalidation_0-logloss:0.32205\n",
      "[117]\tvalidation_0-logloss:0.32199\n",
      "[118]\tvalidation_0-logloss:0.32199\n",
      "[119]\tvalidation_0-logloss:0.32199\n",
      "[120]\tvalidation_0-logloss:0.32196\n",
      "[121]\tvalidation_0-logloss:0.32196\n",
      "[122]\tvalidation_0-logloss:0.32190\n",
      "[123]\tvalidation_0-logloss:0.32173\n",
      "[124]\tvalidation_0-logloss:0.32172\n",
      "[125]\tvalidation_0-logloss:0.32170\n",
      "[126]\tvalidation_0-logloss:0.32170\n",
      "[127]\tvalidation_0-logloss:0.32170\n",
      "[128]\tvalidation_0-logloss:0.32166\n",
      "[129]\tvalidation_0-logloss:0.32166\n",
      "[130]\tvalidation_0-logloss:0.32165\n",
      "[131]\tvalidation_0-logloss:0.32163\n",
      "[132]\tvalidation_0-logloss:0.32163\n",
      "[133]\tvalidation_0-logloss:0.32162\n",
      "[134]\tvalidation_0-logloss:0.32163\n",
      "[135]\tvalidation_0-logloss:0.32163\n",
      "[136]\tvalidation_0-logloss:0.32161\n",
      "[137]\tvalidation_0-logloss:0.32161\n",
      "[138]\tvalidation_0-logloss:0.32157\n",
      "[139]\tvalidation_0-logloss:0.32156\n",
      "[140]\tvalidation_0-logloss:0.32141\n",
      "[141]\tvalidation_0-logloss:0.32130\n",
      "[142]\tvalidation_0-logloss:0.32125\n",
      "[143]\tvalidation_0-logloss:0.32123\n",
      "[144]\tvalidation_0-logloss:0.32116\n",
      "[145]\tvalidation_0-logloss:0.32115\n",
      "[146]\tvalidation_0-logloss:0.32114\n",
      "[147]\tvalidation_0-logloss:0.32114\n",
      "[148]\tvalidation_0-logloss:0.32113\n",
      "[149]\tvalidation_0-logloss:0.32111\n",
      "[150]\tvalidation_0-logloss:0.32111\n",
      "[151]\tvalidation_0-logloss:0.32111\n",
      "[152]\tvalidation_0-logloss:0.32110\n",
      "[153]\tvalidation_0-logloss:0.32109\n",
      "[154]\tvalidation_0-logloss:0.32109\n",
      "[155]\tvalidation_0-logloss:0.32108\n",
      "[156]\tvalidation_0-logloss:0.32107\n",
      "[157]\tvalidation_0-logloss:0.32103\n",
      "[158]\tvalidation_0-logloss:0.32100\n",
      "[159]\tvalidation_0-logloss:0.32093\n",
      "[160]\tvalidation_0-logloss:0.32083\n",
      "[161]\tvalidation_0-logloss:0.32075\n",
      "[162]\tvalidation_0-logloss:0.32071\n",
      "[163]\tvalidation_0-logloss:0.32063\n",
      "[164]\tvalidation_0-logloss:0.32061\n",
      "[165]\tvalidation_0-logloss:0.32056\n",
      "[166]\tvalidation_0-logloss:0.32051\n",
      "[167]\tvalidation_0-logloss:0.32042\n",
      "[168]\tvalidation_0-logloss:0.32039\n",
      "[169]\tvalidation_0-logloss:0.32038\n",
      "[170]\tvalidation_0-logloss:0.32038\n",
      "[171]\tvalidation_0-logloss:0.32036\n",
      "[172]\tvalidation_0-logloss:0.32033\n",
      "[173]\tvalidation_0-logloss:0.32031\n",
      "[174]\tvalidation_0-logloss:0.32026\n",
      "[175]\tvalidation_0-logloss:0.32024\n",
      "[176]\tvalidation_0-logloss:0.32024\n",
      "[177]\tvalidation_0-logloss:0.32024\n",
      "[178]\tvalidation_0-logloss:0.32024\n",
      "[179]\tvalidation_0-logloss:0.32022\n",
      "[180]\tvalidation_0-logloss:0.32022\n",
      "[181]\tvalidation_0-logloss:0.32022\n",
      "[182]\tvalidation_0-logloss:0.32021\n",
      "[183]\tvalidation_0-logloss:0.32020\n",
      "[184]\tvalidation_0-logloss:0.32020\n",
      "[185]\tvalidation_0-logloss:0.32020\n",
      "[186]\tvalidation_0-logloss:0.32018\n",
      "[187]\tvalidation_0-logloss:0.32014\n",
      "[188]\tvalidation_0-logloss:0.32010\n",
      "[189]\tvalidation_0-logloss:0.32009\n",
      "[190]\tvalidation_0-logloss:0.32008\n",
      "[191]\tvalidation_0-logloss:0.32009\n",
      "[192]\tvalidation_0-logloss:0.32009\n",
      "[193]\tvalidation_0-logloss:0.32009\n",
      "[194]\tvalidation_0-logloss:0.32008\n",
      "[195]\tvalidation_0-logloss:0.32008\n",
      "[196]\tvalidation_0-logloss:0.32008\n",
      "[197]\tvalidation_0-logloss:0.32007\n",
      "[198]\tvalidation_0-logloss:0.32007\n",
      "[199]\tvalidation_0-logloss:0.32006\n",
      "[200]\tvalidation_0-logloss:0.32003\n",
      "[201]\tvalidation_0-logloss:0.31999\n",
      "[202]\tvalidation_0-logloss:0.31999\n",
      "[203]\tvalidation_0-logloss:0.31996\n",
      "[204]\tvalidation_0-logloss:0.31992\n",
      "[205]\tvalidation_0-logloss:0.31991\n",
      "[206]\tvalidation_0-logloss:0.31989\n",
      "[207]\tvalidation_0-logloss:0.31989\n",
      "[208]\tvalidation_0-logloss:0.31989\n",
      "[209]\tvalidation_0-logloss:0.31990\n",
      "[210]\tvalidation_0-logloss:0.31990\n",
      "[211]\tvalidation_0-logloss:0.31990\n"
     ]
    },
    {
     "data": {
      "text/html": [
       "<style>#sk-container-id-1 {color: black;}#sk-container-id-1 pre{padding: 0;}#sk-container-id-1 div.sk-toggleable {background-color: white;}#sk-container-id-1 label.sk-toggleable__label {cursor: pointer;display: block;width: 100%;margin-bottom: 0;padding: 0.3em;box-sizing: border-box;text-align: center;}#sk-container-id-1 label.sk-toggleable__label-arrow:before {content: \"▸\";float: left;margin-right: 0.25em;color: #696969;}#sk-container-id-1 label.sk-toggleable__label-arrow:hover:before {color: black;}#sk-container-id-1 div.sk-estimator:hover label.sk-toggleable__label-arrow:before {color: black;}#sk-container-id-1 div.sk-toggleable__content {max-height: 0;max-width: 0;overflow: hidden;text-align: left;background-color: #f0f8ff;}#sk-container-id-1 div.sk-toggleable__content pre {margin: 0.2em;color: black;border-radius: 0.25em;background-color: #f0f8ff;}#sk-container-id-1 input.sk-toggleable__control:checked~div.sk-toggleable__content {max-height: 200px;max-width: 100%;overflow: auto;}#sk-container-id-1 input.sk-toggleable__control:checked~label.sk-toggleable__label-arrow:before {content: \"▾\";}#sk-container-id-1 div.sk-estimator input.sk-toggleable__control:checked~label.sk-toggleable__label {background-color: #d4ebff;}#sk-container-id-1 div.sk-label input.sk-toggleable__control:checked~label.sk-toggleable__label {background-color: #d4ebff;}#sk-container-id-1 input.sk-hidden--visually {border: 0;clip: rect(1px 1px 1px 1px);clip: rect(1px, 1px, 1px, 1px);height: 1px;margin: -1px;overflow: hidden;padding: 0;position: absolute;width: 1px;}#sk-container-id-1 div.sk-estimator {font-family: monospace;background-color: #f0f8ff;border: 1px dotted black;border-radius: 0.25em;box-sizing: border-box;margin-bottom: 0.5em;}#sk-container-id-1 div.sk-estimator:hover {background-color: #d4ebff;}#sk-container-id-1 div.sk-parallel-item::after {content: \"\";width: 100%;border-bottom: 1px solid gray;flex-grow: 1;}#sk-container-id-1 div.sk-label:hover label.sk-toggleable__label {background-color: #d4ebff;}#sk-container-id-1 div.sk-serial::before {content: \"\";position: absolute;border-left: 1px solid gray;box-sizing: border-box;top: 0;bottom: 0;left: 50%;z-index: 0;}#sk-container-id-1 div.sk-serial {display: flex;flex-direction: column;align-items: center;background-color: white;padding-right: 0.2em;padding-left: 0.2em;position: relative;}#sk-container-id-1 div.sk-item {position: relative;z-index: 1;}#sk-container-id-1 div.sk-parallel {display: flex;align-items: stretch;justify-content: center;background-color: white;position: relative;}#sk-container-id-1 div.sk-item::before, #sk-container-id-1 div.sk-parallel-item::before {content: \"\";position: absolute;border-left: 1px solid gray;box-sizing: border-box;top: 0;bottom: 0;left: 50%;z-index: -1;}#sk-container-id-1 div.sk-parallel-item {display: flex;flex-direction: column;z-index: 1;position: relative;background-color: white;}#sk-container-id-1 div.sk-parallel-item:first-child::after {align-self: flex-end;width: 50%;}#sk-container-id-1 div.sk-parallel-item:last-child::after {align-self: flex-start;width: 50%;}#sk-container-id-1 div.sk-parallel-item:only-child::after {width: 0;}#sk-container-id-1 div.sk-dashed-wrapped {border: 1px dashed gray;margin: 0 0.4em 0.5em 0.4em;box-sizing: border-box;padding-bottom: 0.4em;background-color: white;}#sk-container-id-1 div.sk-label label {font-family: monospace;font-weight: bold;display: inline-block;line-height: 1.2em;}#sk-container-id-1 div.sk-label-container {text-align: center;}#sk-container-id-1 div.sk-container {/* jupyter's `normalize.less` sets `[hidden] { display: none; }` but bootstrap.min.css set `[hidden] { display: none !important; }` so we also need the `!important` here to be able to override the default hidden behavior on the sphinx rendered scikit-learn.org. See: https://github.com/scikit-learn/scikit-learn/issues/21755 */display: inline-block !important;position: relative;}#sk-container-id-1 div.sk-text-repr-fallback {display: none;}</style><div id=\"sk-container-id-1\" class=\"sk-top-container\"><div class=\"sk-text-repr-fallback\"><pre>XGBClassifier(base_score=None, booster=None, callbacks=None,\n",
       "              colsample_bylevel=None, colsample_bynode=None,\n",
       "              colsample_bytree=None, device=None, early_stopping_rounds=5,\n",
       "              enable_categorical=False, eval_metric=None, feature_types=None,\n",
       "              feature_weights=None, gamma=None, grow_policy=None,\n",
       "              importance_type=None, interaction_constraints=None,\n",
       "              learning_rate=None, max_bin=None, max_cat_threshold=None,\n",
       "              max_cat_to_onehot=None, max_delta_step=None, max_depth=3,\n",
       "              max_leaves=None, min_child_weight=None, missing=nan,\n",
       "              monotone_constraints=None, multi_strategy=None, n_estimators=1000,\n",
       "              n_jobs=None, num_parallel_tree=None, ...)</pre><b>In a Jupyter environment, please rerun this cell to show the HTML representation or trust the notebook. <br />On GitHub, the HTML representation is unable to render, please try loading this page with nbviewer.org.</b></div><div class=\"sk-container\" hidden><div class=\"sk-item\"><div class=\"sk-estimator sk-toggleable\"><input class=\"sk-toggleable__control sk-hidden--visually\" id=\"sk-estimator-id-1\" type=\"checkbox\" checked><label for=\"sk-estimator-id-1\" class=\"sk-toggleable__label sk-toggleable__label-arrow\">XGBClassifier</label><div class=\"sk-toggleable__content\"><pre>XGBClassifier(base_score=None, booster=None, callbacks=None,\n",
       "              colsample_bylevel=None, colsample_bynode=None,\n",
       "              colsample_bytree=None, device=None, early_stopping_rounds=5,\n",
       "              enable_categorical=False, eval_metric=None, feature_types=None,\n",
       "              feature_weights=None, gamma=None, grow_policy=None,\n",
       "              importance_type=None, interaction_constraints=None,\n",
       "              learning_rate=None, max_bin=None, max_cat_threshold=None,\n",
       "              max_cat_to_onehot=None, max_delta_step=None, max_depth=3,\n",
       "              max_leaves=None, min_child_weight=None, missing=nan,\n",
       "              monotone_constraints=None, multi_strategy=None, n_estimators=1000,\n",
       "              n_jobs=None, num_parallel_tree=None, ...)</pre></div></div></div></div></div>"
      ],
      "text/plain": [
       "XGBClassifier(base_score=None, booster=None, callbacks=None,\n",
       "              colsample_bylevel=None, colsample_bynode=None,\n",
       "              colsample_bytree=None, device=None, early_stopping_rounds=5,\n",
       "              enable_categorical=False, eval_metric=None, feature_types=None,\n",
       "              feature_weights=None, gamma=None, grow_policy=None,\n",
       "              importance_type=None, interaction_constraints=None,\n",
       "              learning_rate=None, max_bin=None, max_cat_threshold=None,\n",
       "              max_cat_to_onehot=None, max_delta_step=None, max_depth=3,\n",
       "              max_leaves=None, min_child_weight=None, missing=nan,\n",
       "              monotone_constraints=None, multi_strategy=None, n_estimators=1000,\n",
       "              n_jobs=None, num_parallel_tree=None, ...)"
      ]
     },
     "execution_count": 5,
     "metadata": {},
     "output_type": "execute_result"
    }
   ],
   "source": [
    "model.fit(X_train, y_train,  verbose = True, eval_set=[(X_val,y_val)])"
   ]
  },
  {
   "cell_type": "code",
   "execution_count": 6,
   "metadata": {},
   "outputs": [],
   "source": [
    "y_pred = model.predict(X_test)"
   ]
  },
  {
   "cell_type": "code",
   "execution_count": 7,
   "metadata": {},
   "outputs": [
    {
     "data": {
      "text/plain": [
       "<sklearn.metrics._plot.confusion_matrix.ConfusionMatrixDisplay at 0x771f908b69b0>"
      ]
     },
     "execution_count": 7,
     "metadata": {},
     "output_type": "execute_result"
    },
    {
     "data": {
      "image/png": "[encoded data removed]",
      "text/plain": [
       "<Figure size 640x480 with 2 Axes>"
      ]
     },
     "metadata": {},
     "output_type": "display_data"
    }
   ],
   "source": [
    "confusion_matrix = metrics.confusion_matrix(y_test, y_pred)\n",
    "matrix = ConfusionMatrixDisplay(confusion_matrix = confusion_matrix, display_labels = [\"benign\", \"phishing\"])                            \n",
    "matrix.plot()"
   ]
  },
  {
   "cell_type": "code",
   "execution_count": 8,
   "metadata": {},
   "outputs": [],
   "source": [
    "Accuracy = metrics.accuracy_score(y_test, y_pred)\n",
    "Precision = metrics.precision_score(y_test, y_pred)\n",
    "Recall = metrics.recall_score(y_test, y_pred)\n",
    "F1_score = metrics.f1_score(y_test, y_pred)"
   ]
  },
  {
   "cell_type": "code",
   "execution_count": 9,
   "metadata": {},
   "outputs": [
    {
     "name": "stdout",
     "output_type": "stream",
     "text": [
      "{'Accuracy': 0.8663201386112221, 'Precision': 0.8763178777916336, 'Recall': 0.4934252521383889, 'F1_score': 0.6313554130763263}\n"
     ]
    }
   ],
   "source": [
    "print({\"Accuracy\":Accuracy,\"Precision\":Precision,\"Recall\":Recall,\"F1_score\":F1_score})"
   ]
  },
  {
   "cell_type": "code",
   "execution_count": 10,
   "metadata": {},
   "outputs": [],
   "source": [
    "df = pd.read_csv(\"../Metrics of Dataset #1.csv\")"
   ]
  },
  {
   "cell_type": "code",
   "execution_count": 11,
   "metadata": {},
   "outputs": [],
   "source": [
    "metrics = pd.DataFrame({\"Model\": \"XGBoost\", \"Accuracy\": [Accuracy], \"Precision\":[Precision], \"Recall\": [Recall], \"F1_score\": [F1_score]})"
   ]
  },
  {
   "cell_type": "code",
   "execution_count": 12,
   "metadata": {},
   "outputs": [],
   "source": [
    "df = pd.concat([df, metrics], ignore_index=True)"
   ]
  },
  {
   "cell_type": "code",
   "execution_count": 13,
   "metadata": {},
   "outputs": [
    {
     "data": {
      "text/html": [
       "<div>\n",
       "<style scoped>\n",
       "    .dataframe tbody tr th:only-of-type {\n",
       "        vertical-align: middle;\n",
       "    }\n",
       "\n",
       "    .dataframe tbody tr th {\n",
       "        vertical-align: top;\n",
       "    }\n",
       "\n",
       "    .dataframe thead th {\n",
       "        text-align: right;\n",
       "    }\n",
       "</style>\n",
       "<table border=\"1\" class=\"dataframe\">\n",
       "  <thead>\n",
       "    <tr style=\"text-align: right;\">\n",
       "      <th></th>\n",
       "      <th>Model</th>\n",
       "      <th>Accuracy</th>\n",
       "      <th>Precision</th>\n",
       "      <th>Recall</th>\n",
       "      <th>F1_score</th>\n",
       "    </tr>\n",
       "  </thead>\n",
       "  <tbody>\n",
       "    <tr>\n",
       "      <th>0</th>\n",
       "      <td>LinearSVC</td>\n",
       "      <td>0.796748</td>\n",
       "      <td>0.840168</td>\n",
       "      <td>0.153007</td>\n",
       "      <td>0.258869</td>\n",
       "    </tr>\n",
       "    <tr>\n",
       "      <th>1</th>\n",
       "      <td>Random Forest</td>\n",
       "      <td>0.870289</td>\n",
       "      <td>0.872345</td>\n",
       "      <td>0.516469</td>\n",
       "      <td>0.648811</td>\n",
       "    </tr>\n",
       "    <tr>\n",
       "      <th>2</th>\n",
       "      <td>XGBoost</td>\n",
       "      <td>0.866320</td>\n",
       "      <td>0.876318</td>\n",
       "      <td>0.493425</td>\n",
       "      <td>0.631355</td>\n",
       "    </tr>\n",
       "  </tbody>\n",
       "</table>\n",
       "</div>"
      ],
      "text/plain": [
       "           Model  Accuracy  Precision    Recall  F1_score\n",
       "0      LinearSVC  0.796748   0.840168  0.153007  0.258869\n",
       "1  Random Forest  0.870289   0.872345  0.516469  0.648811\n",
       "2        XGBoost  0.866320   0.876318  0.493425  0.631355"
      ]
     },
     "execution_count": 13,
     "metadata": {},
     "output_type": "execute_result"
    }
   ],
   "source": [
    "df.head()"
   ]
  },
  {
   "cell_type": "code",
   "execution_count": 14,
   "metadata": {},
   "outputs": [],
   "source": [
    "df.to_csv(\"../Metrics of Dataset #1.csv\", index=False)"
   ]
  },
  {
   "cell_type": "code",
   "execution_count": 15,
   "metadata": {},
   "outputs": [
    {
     "data": {
      "text/plain": [
       "['XGBoost #1.joblib']"
      ]
     },
     "execution_count": 15,
     "metadata": {},
     "output_type": "execute_result"
    }
   ],
   "source": [
    "dump(model, 'XGBoost #1.joblib')"
   ]
  }
 ],
 "metadata": {
  "language_info": {
   "name": "python"
  }
 },
 "nbformat": 4,
 "nbformat_minor": 2
}
