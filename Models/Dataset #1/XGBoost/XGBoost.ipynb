{
 "cells": [
  {
   "cell_type": "code",
   "execution_count": 1,
   "metadata": {},
   "outputs": [
    {
     "name": "stdout",
     "output_type": "stream",
     "text": [
      "Requirement already satisfied: xgboost in /system/conda/miniconda3/envs/cloudspace/lib/python3.10/site-packages (3.0.0)\n",
      "Requirement already satisfied: numpy in /system/conda/miniconda3/envs/cloudspace/lib/python3.10/site-packages (from xgboost) (1.26.4)\n",
      "Requirement already satisfied: nvidia-nccl-cu12 in /system/conda/miniconda3/envs/cloudspace/lib/python3.10/site-packages (from xgboost) (2.23.4)\n",
      "Requirement already satisfied: scipy in /system/conda/miniconda3/envs/cloudspace/lib/python3.10/site-packages (from xgboost) (1.11.4)\n"
     ]
    }
   ],
   "source": [
    "!pip install xgboost"
   ]
  },
  {
   "cell_type": "code",
   "execution_count": 1,
   "metadata": {},
   "outputs": [],
   "source": [
    "import pandas as pd\n",
    "from xgboost import XGBClassifier\n",
    "from sklearn import metrics\n",
    "from sklearn.metrics import ConfusionMatrixDisplay\n",
    "from joblib import dump\n"
   ]
  },
  {
   "cell_type": "code",
   "execution_count": 2,
   "metadata": {},
   "outputs": [],
   "source": [
    "X_train = pd.read_csv(\"../../../Split Data/Training Dataset/X_train #1.csv\").drop(columns=[\"Unnamed: 0\"])\n",
    "y_train = pd.read_csv(\"../../../Split Data/Training Dataset/y_train #1.csv\", index_col=0)\n",
    "X_val = pd.read_csv(\"../../../Split Data/Validation Dataset/X_val #1.csv\").drop(columns=[\"Unnamed: 0\"])\n",
    "y_val = pd.read_csv(\"../../../Split Data/Validation Dataset/y_val #1.csv\", index_col=0)\n",
    "X_test = pd.read_csv(\"../../../Split Data/Testing Dataset/X_test #1.csv\").drop(columns=[\"Unnamed: 0\"])\n",
    "y_test = pd.read_csv(\"../../../Split Data/Testing Dataset/y_test #1.csv\", index_col=0)"
   ]
  },
  {
   "cell_type": "code",
   "execution_count": 3,
   "metadata": {},
   "outputs": [],
   "source": [
    "model = XGBClassifier(objective='binary:logistic', max_depth = 3, n_estimators = 1000, early_stopping_rounds=5,)"
   ]
  },
  {
   "cell_type": "code",
   "execution_count": 4,
   "metadata": {},
   "outputs": [
    {
     "name": "stdout",
     "output_type": "stream",
     "text": [
      "[0]\tvalidation_0-logloss:0.46992\n",
      "[1]\tvalidation_0-logloss:0.44268\n",
      "[2]\tvalidation_0-logloss:0.42373\n",
      "[3]\tvalidation_0-logloss:0.41195\n",
      "[4]\tvalidation_0-logloss:0.40191\n",
      "[5]\tvalidation_0-logloss:0.39524\n",
      "[6]\tvalidation_0-logloss:0.38998\n",
      "[7]\tvalidation_0-logloss:0.38028\n",
      "[8]\tvalidation_0-logloss:0.37566\n",
      "[9]\tvalidation_0-logloss:0.37082\n",
      "[10]\tvalidation_0-logloss:0.36651\n",
      "[11]\tvalidation_0-logloss:0.36430\n",
      "[12]\tvalidation_0-logloss:0.36138\n",
      "[13]\tvalidation_0-logloss:0.35740\n",
      "[14]\tvalidation_0-logloss:0.35539\n",
      "[15]\tvalidation_0-logloss:0.35396\n",
      "[16]\tvalidation_0-logloss:0.35270\n",
      "[17]\tvalidation_0-logloss:0.35101\n",
      "[18]\tvalidation_0-logloss:0.34865\n",
      "[19]\tvalidation_0-logloss:0.34789\n",
      "[20]\tvalidation_0-logloss:0.34672\n",
      "[21]\tvalidation_0-logloss:0.34554\n",
      "[22]\tvalidation_0-logloss:0.34474\n",
      "[23]\tvalidation_0-logloss:0.34386\n",
      "[24]\tvalidation_0-logloss:0.34318\n",
      "[25]\tvalidation_0-logloss:0.34266\n",
      "[26]\tvalidation_0-logloss:0.34210\n",
      "[27]\tvalidation_0-logloss:0.34108\n",
      "[28]\tvalidation_0-logloss:0.34042\n",
      "[29]\tvalidation_0-logloss:0.33988\n",
      "[30]\tvalidation_0-logloss:0.33953\n",
      "[31]\tvalidation_0-logloss:0.33865\n",
      "[32]\tvalidation_0-logloss:0.33837\n",
      "[33]\tvalidation_0-logloss:0.33778\n",
      "[34]\tvalidation_0-logloss:0.33757\n",
      "[35]\tvalidation_0-logloss:0.33742\n",
      "[36]\tvalidation_0-logloss:0.33712\n",
      "[37]\tvalidation_0-logloss:0.33696\n",
      "[38]\tvalidation_0-logloss:0.33679\n",
      "[39]\tvalidation_0-logloss:0.33662\n",
      "[40]\tvalidation_0-logloss:0.33649\n",
      "[41]\tvalidation_0-logloss:0.33630\n",
      "[42]\tvalidation_0-logloss:0.33622\n",
      "[43]\tvalidation_0-logloss:0.33592\n",
      "[44]\tvalidation_0-logloss:0.33484\n",
      "[45]\tvalidation_0-logloss:0.33409\n",
      "[46]\tvalidation_0-logloss:0.33397\n",
      "[47]\tvalidation_0-logloss:0.33392\n",
      "[48]\tvalidation_0-logloss:0.33381\n",
      "[49]\tvalidation_0-logloss:0.33372\n",
      "[50]\tvalidation_0-logloss:0.33356\n",
      "[51]\tvalidation_0-logloss:0.33316\n",
      "[52]\tvalidation_0-logloss:0.33282\n",
      "[53]\tvalidation_0-logloss:0.33261\n",
      "[54]\tvalidation_0-logloss:0.33258\n",
      "[55]\tvalidation_0-logloss:0.33244\n",
      "[56]\tvalidation_0-logloss:0.33240\n",
      "[57]\tvalidation_0-logloss:0.33216\n",
      "[58]\tvalidation_0-logloss:0.33214\n",
      "[59]\tvalidation_0-logloss:0.33212\n",
      "[60]\tvalidation_0-logloss:0.33210\n",
      "[61]\tvalidation_0-logloss:0.33202\n",
      "[62]\tvalidation_0-logloss:0.33176\n",
      "[63]\tvalidation_0-logloss:0.33167\n",
      "[64]\tvalidation_0-logloss:0.33158\n",
      "[65]\tvalidation_0-logloss:0.33146\n",
      "[66]\tvalidation_0-logloss:0.33145\n",
      "[67]\tvalidation_0-logloss:0.33142\n",
      "[68]\tvalidation_0-logloss:0.33126\n",
      "[69]\tvalidation_0-logloss:0.33106\n",
      "[70]\tvalidation_0-logloss:0.33036\n",
      "[71]\tvalidation_0-logloss:0.33004\n",
      "[72]\tvalidation_0-logloss:0.32986\n",
      "[73]\tvalidation_0-logloss:0.32985\n",
      "[74]\tvalidation_0-logloss:0.32981\n",
      "[75]\tvalidation_0-logloss:0.32978\n",
      "[76]\tvalidation_0-logloss:0.32977\n",
      "[77]\tvalidation_0-logloss:0.32976\n",
      "[78]\tvalidation_0-logloss:0.32974\n",
      "[79]\tvalidation_0-logloss:0.32962\n",
      "[80]\tvalidation_0-logloss:0.32961\n",
      "[81]\tvalidation_0-logloss:0.32919\n",
      "[82]\tvalidation_0-logloss:0.32898\n",
      "[83]\tvalidation_0-logloss:0.32890\n",
      "[84]\tvalidation_0-logloss:0.32876\n",
      "[85]\tvalidation_0-logloss:0.32875\n",
      "[86]\tvalidation_0-logloss:0.32874\n",
      "[87]\tvalidation_0-logloss:0.32868\n",
      "[88]\tvalidation_0-logloss:0.32863\n",
      "[89]\tvalidation_0-logloss:0.32861\n",
      "[90]\tvalidation_0-logloss:0.32860\n",
      "[91]\tvalidation_0-logloss:0.32859\n",
      "[92]\tvalidation_0-logloss:0.32858\n",
      "[93]\tvalidation_0-logloss:0.32857\n",
      "[94]\tvalidation_0-logloss:0.32856\n",
      "[95]\tvalidation_0-logloss:0.32855\n",
      "[96]\tvalidation_0-logloss:0.32855\n",
      "[97]\tvalidation_0-logloss:0.32846\n",
      "[98]\tvalidation_0-logloss:0.32845\n",
      "[99]\tvalidation_0-logloss:0.32845\n",
      "[100]\tvalidation_0-logloss:0.32844\n",
      "[101]\tvalidation_0-logloss:0.32835\n",
      "[102]\tvalidation_0-logloss:0.32806\n",
      "[103]\tvalidation_0-logloss:0.32794\n",
      "[104]\tvalidation_0-logloss:0.32789\n",
      "[105]\tvalidation_0-logloss:0.32782\n",
      "[106]\tvalidation_0-logloss:0.32770\n",
      "[107]\tvalidation_0-logloss:0.32770\n",
      "[108]\tvalidation_0-logloss:0.32768\n",
      "[109]\tvalidation_0-logloss:0.32769\n",
      "[110]\tvalidation_0-logloss:0.32768\n",
      "[111]\tvalidation_0-logloss:0.32767\n",
      "[112]\tvalidation_0-logloss:0.32764\n",
      "[113]\tvalidation_0-logloss:0.32762\n",
      "[114]\tvalidation_0-logloss:0.32752\n",
      "[115]\tvalidation_0-logloss:0.32749\n",
      "[116]\tvalidation_0-logloss:0.32749\n",
      "[117]\tvalidation_0-logloss:0.32749\n",
      "[118]\tvalidation_0-logloss:0.32749\n",
      "[119]\tvalidation_0-logloss:0.32748\n",
      "[120]\tvalidation_0-logloss:0.32748\n",
      "[121]\tvalidation_0-logloss:0.32746\n",
      "[122]\tvalidation_0-logloss:0.32746\n",
      "[123]\tvalidation_0-logloss:0.32745\n",
      "[124]\tvalidation_0-logloss:0.32745\n",
      "[125]\tvalidation_0-logloss:0.32742\n",
      "[126]\tvalidation_0-logloss:0.32723\n",
      "[127]\tvalidation_0-logloss:0.32705\n",
      "[128]\tvalidation_0-logloss:0.32696\n",
      "[129]\tvalidation_0-logloss:0.32690\n",
      "[130]\tvalidation_0-logloss:0.32683\n",
      "[131]\tvalidation_0-logloss:0.32673\n",
      "[132]\tvalidation_0-logloss:0.32673\n",
      "[133]\tvalidation_0-logloss:0.32665\n",
      "[134]\tvalidation_0-logloss:0.32660\n",
      "[135]\tvalidation_0-logloss:0.32660\n",
      "[136]\tvalidation_0-logloss:0.32655\n",
      "[137]\tvalidation_0-logloss:0.32655\n",
      "[138]\tvalidation_0-logloss:0.32654\n",
      "[139]\tvalidation_0-logloss:0.32653\n",
      "[140]\tvalidation_0-logloss:0.32650\n",
      "[141]\tvalidation_0-logloss:0.32640\n",
      "[142]\tvalidation_0-logloss:0.32628\n",
      "[143]\tvalidation_0-logloss:0.32618\n",
      "[144]\tvalidation_0-logloss:0.32613\n",
      "[145]\tvalidation_0-logloss:0.32611\n",
      "[146]\tvalidation_0-logloss:0.32605\n",
      "[147]\tvalidation_0-logloss:0.32596\n",
      "[148]\tvalidation_0-logloss:0.32593\n",
      "[149]\tvalidation_0-logloss:0.32592\n",
      "[150]\tvalidation_0-logloss:0.32592\n",
      "[151]\tvalidation_0-logloss:0.32592\n",
      "[152]\tvalidation_0-logloss:0.32590\n",
      "[153]\tvalidation_0-logloss:0.32591\n",
      "[154]\tvalidation_0-logloss:0.32592\n",
      "[155]\tvalidation_0-logloss:0.32590\n",
      "[156]\tvalidation_0-logloss:0.32588\n",
      "[157]\tvalidation_0-logloss:0.32588\n",
      "[158]\tvalidation_0-logloss:0.32589\n",
      "[159]\tvalidation_0-logloss:0.32588\n",
      "[160]\tvalidation_0-logloss:0.32586\n",
      "[161]\tvalidation_0-logloss:0.32584\n",
      "[162]\tvalidation_0-logloss:0.32584\n",
      "[163]\tvalidation_0-logloss:0.32582\n",
      "[164]\tvalidation_0-logloss:0.32582\n",
      "[165]\tvalidation_0-logloss:0.32581\n",
      "[166]\tvalidation_0-logloss:0.32582\n",
      "[167]\tvalidation_0-logloss:0.32580\n",
      "[168]\tvalidation_0-logloss:0.32579\n",
      "[169]\tvalidation_0-logloss:0.32580\n",
      "[170]\tvalidation_0-logloss:0.32576\n",
      "[171]\tvalidation_0-logloss:0.32564\n",
      "[172]\tvalidation_0-logloss:0.32560\n",
      "[173]\tvalidation_0-logloss:0.32555\n",
      "[174]\tvalidation_0-logloss:0.32550\n",
      "[175]\tvalidation_0-logloss:0.32549\n",
      "[176]\tvalidation_0-logloss:0.32547\n",
      "[177]\tvalidation_0-logloss:0.32544\n",
      "[178]\tvalidation_0-logloss:0.32534\n",
      "[179]\tvalidation_0-logloss:0.32526\n",
      "[180]\tvalidation_0-logloss:0.32523\n",
      "[181]\tvalidation_0-logloss:0.32519\n",
      "[182]\tvalidation_0-logloss:0.32515\n",
      "[183]\tvalidation_0-logloss:0.32513\n",
      "[184]\tvalidation_0-logloss:0.32511\n",
      "[185]\tvalidation_0-logloss:0.32510\n",
      "[186]\tvalidation_0-logloss:0.32511\n",
      "[187]\tvalidation_0-logloss:0.32511\n",
      "[188]\tvalidation_0-logloss:0.32511\n",
      "[189]\tvalidation_0-logloss:0.32510\n",
      "[190]\tvalidation_0-logloss:0.32510\n"
     ]
    },
    {
     "data": {
      "text/html": [
       "<style>#sk-container-id-1 {color: black;}#sk-container-id-1 pre{padding: 0;}#sk-container-id-1 div.sk-toggleable {background-color: white;}#sk-container-id-1 label.sk-toggleable__label {cursor: pointer;display: block;width: 100%;margin-bottom: 0;padding: 0.3em;box-sizing: border-box;text-align: center;}#sk-container-id-1 label.sk-toggleable__label-arrow:before {content: \"▸\";float: left;margin-right: 0.25em;color: #696969;}#sk-container-id-1 label.sk-toggleable__label-arrow:hover:before {color: black;}#sk-container-id-1 div.sk-estimator:hover label.sk-toggleable__label-arrow:before {color: black;}#sk-container-id-1 div.sk-toggleable__content {max-height: 0;max-width: 0;overflow: hidden;text-align: left;background-color: #f0f8ff;}#sk-container-id-1 div.sk-toggleable__content pre {margin: 0.2em;color: black;border-radius: 0.25em;background-color: #f0f8ff;}#sk-container-id-1 input.sk-toggleable__control:checked~div.sk-toggleable__content {max-height: 200px;max-width: 100%;overflow: auto;}#sk-container-id-1 input.sk-toggleable__control:checked~label.sk-toggleable__label-arrow:before {content: \"▾\";}#sk-container-id-1 div.sk-estimator input.sk-toggleable__control:checked~label.sk-toggleable__label {background-color: #d4ebff;}#sk-container-id-1 div.sk-label input.sk-toggleable__control:checked~label.sk-toggleable__label {background-color: #d4ebff;}#sk-container-id-1 input.sk-hidden--visually {border: 0;clip: rect(1px 1px 1px 1px);clip: rect(1px, 1px, 1px, 1px);height: 1px;margin: -1px;overflow: hidden;padding: 0;position: absolute;width: 1px;}#sk-container-id-1 div.sk-estimator {font-family: monospace;background-color: #f0f8ff;border: 1px dotted black;border-radius: 0.25em;box-sizing: border-box;margin-bottom: 0.5em;}#sk-container-id-1 div.sk-estimator:hover {background-color: #d4ebff;}#sk-container-id-1 div.sk-parallel-item::after {content: \"\";width: 100%;border-bottom: 1px solid gray;flex-grow: 1;}#sk-container-id-1 div.sk-label:hover label.sk-toggleable__label {background-color: #d4ebff;}#sk-container-id-1 div.sk-serial::before {content: \"\";position: absolute;border-left: 1px solid gray;box-sizing: border-box;top: 0;bottom: 0;left: 50%;z-index: 0;}#sk-container-id-1 div.sk-serial {display: flex;flex-direction: column;align-items: center;background-color: white;padding-right: 0.2em;padding-left: 0.2em;position: relative;}#sk-container-id-1 div.sk-item {position: relative;z-index: 1;}#sk-container-id-1 div.sk-parallel {display: flex;align-items: stretch;justify-content: center;background-color: white;position: relative;}#sk-container-id-1 div.sk-item::before, #sk-container-id-1 div.sk-parallel-item::before {content: \"\";position: absolute;border-left: 1px solid gray;box-sizing: border-box;top: 0;bottom: 0;left: 50%;z-index: -1;}#sk-container-id-1 div.sk-parallel-item {display: flex;flex-direction: column;z-index: 1;position: relative;background-color: white;}#sk-container-id-1 div.sk-parallel-item:first-child::after {align-self: flex-end;width: 50%;}#sk-container-id-1 div.sk-parallel-item:last-child::after {align-self: flex-start;width: 50%;}#sk-container-id-1 div.sk-parallel-item:only-child::after {width: 0;}#sk-container-id-1 div.sk-dashed-wrapped {border: 1px dashed gray;margin: 0 0.4em 0.5em 0.4em;box-sizing: border-box;padding-bottom: 0.4em;background-color: white;}#sk-container-id-1 div.sk-label label {font-family: monospace;font-weight: bold;display: inline-block;line-height: 1.2em;}#sk-container-id-1 div.sk-label-container {text-align: center;}#sk-container-id-1 div.sk-container {/* jupyter's `normalize.less` sets `[hidden] { display: none; }` but bootstrap.min.css set `[hidden] { display: none !important; }` so we also need the `!important` here to be able to override the default hidden behavior on the sphinx rendered scikit-learn.org. See: https://github.com/scikit-learn/scikit-learn/issues/21755 */display: inline-block !important;position: relative;}#sk-container-id-1 div.sk-text-repr-fallback {display: none;}</style><div id=\"sk-container-id-1\" class=\"sk-top-container\"><div class=\"sk-text-repr-fallback\"><pre>XGBClassifier(base_score=None, booster=None, callbacks=None,\n",
       "              colsample_bylevel=None, colsample_bynode=None,\n",
       "              colsample_bytree=None, device=None, early_stopping_rounds=5,\n",
       "              enable_categorical=False, eval_metric=None, feature_types=None,\n",
       "              feature_weights=None, gamma=None, grow_policy=None,\n",
       "              importance_type=None, interaction_constraints=None,\n",
       "              learning_rate=None, max_bin=None, max_cat_threshold=None,\n",
       "              max_cat_to_onehot=None, max_delta_step=None, max_depth=3,\n",
       "              max_leaves=None, min_child_weight=None, missing=nan,\n",
       "              monotone_constraints=None, multi_strategy=None, n_estimators=1000,\n",
       "              n_jobs=None, num_parallel_tree=None, ...)</pre><b>In a Jupyter environment, please rerun this cell to show the HTML representation or trust the notebook. <br />On GitHub, the HTML representation is unable to render, please try loading this page with nbviewer.org.</b></div><div class=\"sk-container\" hidden><div class=\"sk-item\"><div class=\"sk-estimator sk-toggleable\"><input class=\"sk-toggleable__control sk-hidden--visually\" id=\"sk-estimator-id-1\" type=\"checkbox\" checked><label for=\"sk-estimator-id-1\" class=\"sk-toggleable__label sk-toggleable__label-arrow\">XGBClassifier</label><div class=\"sk-toggleable__content\"><pre>XGBClassifier(base_score=None, booster=None, callbacks=None,\n",
       "              colsample_bylevel=None, colsample_bynode=None,\n",
       "              colsample_bytree=None, device=None, early_stopping_rounds=5,\n",
       "              enable_categorical=False, eval_metric=None, feature_types=None,\n",
       "              feature_weights=None, gamma=None, grow_policy=None,\n",
       "              importance_type=None, interaction_constraints=None,\n",
       "              learning_rate=None, max_bin=None, max_cat_threshold=None,\n",
       "              max_cat_to_onehot=None, max_delta_step=None, max_depth=3,\n",
       "              max_leaves=None, min_child_weight=None, missing=nan,\n",
       "              monotone_constraints=None, multi_strategy=None, n_estimators=1000,\n",
       "              n_jobs=None, num_parallel_tree=None, ...)</pre></div></div></div></div></div>"
      ],
      "text/plain": [
       "XGBClassifier(base_score=None, booster=None, callbacks=None,\n",
       "              colsample_bylevel=None, colsample_bynode=None,\n",
       "              colsample_bytree=None, device=None, early_stopping_rounds=5,\n",
       "              enable_categorical=False, eval_metric=None, feature_types=None,\n",
       "              feature_weights=None, gamma=None, grow_policy=None,\n",
       "              importance_type=None, interaction_constraints=None,\n",
       "              learning_rate=None, max_bin=None, max_cat_threshold=None,\n",
       "              max_cat_to_onehot=None, max_delta_step=None, max_depth=3,\n",
       "              max_leaves=None, min_child_weight=None, missing=nan,\n",
       "              monotone_constraints=None, multi_strategy=None, n_estimators=1000,\n",
       "              n_jobs=None, num_parallel_tree=None, ...)"
      ]
     },
     "execution_count": 4,
     "metadata": {},
     "output_type": "execute_result"
    }
   ],
   "source": [
    "model.fit(X_train, y_train,  verbose = True, eval_set=[(X_val,y_val)])"
   ]
  },
  {
   "cell_type": "code",
   "execution_count": 5,
   "metadata": {},
   "outputs": [],
   "source": [
    "y_pred = model.predict(X_test)"
   ]
  },
  {
   "cell_type": "code",
   "execution_count": 6,
   "metadata": {},
   "outputs": [
    {
     "data": {
      "text/plain": [
       "<sklearn.metrics._plot.confusion_matrix.ConfusionMatrixDisplay at 0x798f945f32e0>"
      ]
     },
     "execution_count": 6,
     "metadata": {},
     "output_type": "execute_result"
    },
    {
     "data": {
      "image/png": "[encoded data removed]",
      "text/plain": [
       "<Figure size 640x480 with 2 Axes>"
      ]
     },
     "metadata": {},
     "output_type": "display_data"
    }
   ],
   "source": [
    "confusion_matrix = metrics.confusion_matrix(y_test, y_pred)\n",
    "matrix = ConfusionMatrixDisplay(confusion_matrix = confusion_matrix, display_labels = [\"benign\", \"phishing\"])                            \n",
    "matrix.plot()"
   ]
  },
  {
   "cell_type": "code",
   "execution_count": 7,
   "metadata": {},
   "outputs": [],
   "source": [
    "Accuracy = metrics.accuracy_score(y_test, y_pred)\n",
    "Precision = metrics.precision_score(y_test, y_pred)\n",
    "Recall = metrics.recall_score(y_test, y_pred)\n",
    "F1_score = metrics.f1_score(y_test, y_pred)"
   ]
  },
  {
   "cell_type": "code",
   "execution_count": 8,
   "metadata": {},
   "outputs": [
    {
     "name": "stdout",
     "output_type": "stream",
     "text": [
      "{'Accuracy': 0.8656241207220815, 'Precision': 0.8739505332425687, 'Recall': 0.4917017745435976, 'F1_score': 0.6293300653594771}\n"
     ]
    }
   ],
   "source": [
    "print({\"Accuracy\":Accuracy,\"Precision\":Precision,\"Recall\":Recall,\"F1_score\":F1_score})"
   ]
  },
  {
   "cell_type": "code",
   "execution_count": 9,
   "metadata": {},
   "outputs": [],
   "source": [
    "df = pd.read_csv(\"../Metrics of Dataset #1.csv\")"
   ]
  },
  {
   "cell_type": "code",
   "execution_count": 10,
   "metadata": {},
   "outputs": [],
   "source": [
    "metrics = pd.DataFrame({\"Model\": \"XGBoost\", \"Accuracy\": [Accuracy], \"Precision\":[Precision], \"Recall\": [Recall], \"F1_score\": [F1_score]})"
   ]
  },
  {
   "cell_type": "code",
   "execution_count": 11,
   "metadata": {},
   "outputs": [],
   "source": [
    "df = pd.concat([df, metrics], ignore_index=True)"
   ]
  },
  {
   "cell_type": "code",
   "execution_count": 12,
   "metadata": {},
   "outputs": [
    {
     "data": {
      "text/html": [
       "<div>\n",
       "<style scoped>\n",
       "    .dataframe tbody tr th:only-of-type {\n",
       "        vertical-align: middle;\n",
       "    }\n",
       "\n",
       "    .dataframe tbody tr th {\n",
       "        vertical-align: top;\n",
       "    }\n",
       "\n",
       "    .dataframe thead th {\n",
       "        text-align: right;\n",
       "    }\n",
       "</style>\n",
       "<table border=\"1\" class=\"dataframe\">\n",
       "  <thead>\n",
       "    <tr style=\"text-align: right;\">\n",
       "      <th></th>\n",
       "      <th>Model</th>\n",
       "      <th>Accuracy</th>\n",
       "      <th>Precision</th>\n",
       "      <th>Recall</th>\n",
       "      <th>F1_score</th>\n",
       "    </tr>\n",
       "  </thead>\n",
       "  <tbody>\n",
       "    <tr>\n",
       "      <th>0</th>\n",
       "      <td>LinearSVC</td>\n",
       "      <td>0.796126</td>\n",
       "      <td>0.834921</td>\n",
       "      <td>0.151092</td>\n",
       "      <td>0.255878</td>\n",
       "    </tr>\n",
       "    <tr>\n",
       "      <th>1</th>\n",
       "      <td>Random Forest</td>\n",
       "      <td>0.870822</td>\n",
       "      <td>0.871482</td>\n",
       "      <td>0.519852</td>\n",
       "      <td>0.651233</td>\n",
       "    </tr>\n",
       "    <tr>\n",
       "      <th>2</th>\n",
       "      <td>XGBoost</td>\n",
       "      <td>0.865624</td>\n",
       "      <td>0.873951</td>\n",
       "      <td>0.491702</td>\n",
       "      <td>0.629330</td>\n",
       "    </tr>\n",
       "  </tbody>\n",
       "</table>\n",
       "</div>"
      ],
      "text/plain": [
       "           Model  Accuracy  Precision    Recall  F1_score\n",
       "0      LinearSVC  0.796126   0.834921  0.151092  0.255878\n",
       "1  Random Forest  0.870822   0.871482  0.519852  0.651233\n",
       "2        XGBoost  0.865624   0.873951  0.491702  0.629330"
      ]
     },
     "execution_count": 12,
     "metadata": {},
     "output_type": "execute_result"
    }
   ],
   "source": [
    "df.head()"
   ]
  },
  {
   "cell_type": "code",
   "execution_count": 13,
   "metadata": {},
   "outputs": [],
   "source": [
    "df.to_csv(\"../Metrics of Dataset #1.csv\", index=False)"
   ]
  },
  {
   "cell_type": "code",
   "execution_count": 14,
   "metadata": {},
   "outputs": [
    {
     "data": {
      "text/plain": [
       "['XGBoost #1.joblib']"
      ]
     },
     "execution_count": 14,
     "metadata": {},
     "output_type": "execute_result"
    }
   ],
   "source": [
    "dump(model, 'XGBoost #1.joblib')"
   ]
  }
 ],
 "metadata": {
  "language_info": {
   "name": "python"
  }
 },
 "nbformat": 4,
 "nbformat_minor": 2
}
