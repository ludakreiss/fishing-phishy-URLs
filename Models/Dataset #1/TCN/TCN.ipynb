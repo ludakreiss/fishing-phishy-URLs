{
 "cells": [
  {
   "cell_type": "code",
   "execution_count": 19,
   "metadata": {},
   "outputs": [],
   "source": [
    "from tcn import TCN\n",
    "from tensorflow.keras.models import Model, load_model\n",
    "from tensorflow.keras.layers import Input, Dense, GlobalMaxPooling1D, GlobalAveragePooling1D, Concatenate, Dropout\n",
    "from tensorflow.keras.optimizers import Adam\n",
    "from keras.callbacks import EarlyStopping\n",
    "from tensorflow.keras.utils import to_categorical\n",
    "from sklearn.preprocessing import StandardScaler\n",
    "import pandas as pd\n",
    "import numpy as np\n",
    "from tensorflow.keras import Sequential\n",
    "from sklearn import metrics\n",
    "from sklearn.metrics import ConfusionMatrixDisplay\n",
    "from joblib import dump\n",
    "from tensorflow.keras.callbacks import ModelCheckpoint, EarlyStopping\n",
    "from keras import backend as K"
   ]
  },
  {
   "cell_type": "code",
   "execution_count": 20,
   "metadata": {},
   "outputs": [],
   "source": [
    "X_train = pd.read_csv(\"../../../Split Data/Training Dataset/X_train #1.csv\").drop(columns=[\"Unnamed: 0\"])\n",
    "y_train = pd.read_csv(\"../../../Split Data/Training Dataset/y_train #1.csv\", index_col=0)\n",
    "X_val = pd.read_csv(\"../../../Split Data/Validation Dataset/X_val #1.csv\").drop(columns=[\"Unnamed: 0\"])\n",
    "y_val = pd.read_csv(\"../../../Split Data/Validation Dataset/y_val #1.csv\", index_col=0)\n",
    "X_test = pd.read_csv(\"../../../Split Data/Testing Dataset/X_test #1.csv\").drop(columns=[\"Unnamed: 0\"])\n",
    "y_test = pd.read_csv(\"../../../Split Data/Testing Dataset/y_test #1.csv\", index_col=0)"
   ]
  },
  {
   "cell_type": "code",
   "execution_count": 21,
   "metadata": {},
   "outputs": [],
   "source": [
    "scaler = StandardScaler()\n",
    "X_train_scaled = scaler.fit_transform(X_train)  \n",
    "X_val_scaled = scaler.transform(X_val)   \n",
    "X_test_scaled = scaler.transform(X_test) "
   ]
  },
  {
   "cell_type": "code",
   "execution_count": 22,
   "metadata": {},
   "outputs": [],
   "source": [
    "X_train = np.array(X_train_scaled).reshape(X_train_scaled.shape[0], X_train_scaled.shape[1], 1)  \n",
    "X_val = np.array(X_val_scaled).reshape(X_val_scaled.shape[0], X_val_scaled.shape[1], 1)  \n",
    "X_test = np.array(X_test_scaled).reshape(X_test_scaled.shape[0], X_test_scaled.shape[1], 1)  "
   ]
  },
  {
   "cell_type": "code",
   "execution_count": 23,
   "metadata": {},
   "outputs": [],
   "source": [
    "num_classes = 2   \n",
    "kernel_size = 5\n",
    "dilations = [4, 8, 16, 32, 64] \n",
    "max_len = X_train.shape[1] \n",
    "dropout_rate = 0.05"
   ]
  },
  {
   "cell_type": "code",
   "execution_count": 24,
   "metadata": {},
   "outputs": [],
   "source": [
    "inputs = Input(shape=(max_len, 1))"
   ]
  },
  {
   "cell_type": "code",
   "execution_count": 25,
   "metadata": {},
   "outputs": [],
   "source": [
    "tcn = TCN(\n",
    "    nb_filters= 128,\n",
    "    nb_stacks = 2,\n",
    "    kernel_size=kernel_size,\n",
    "    dilations=dilations,\n",
    "    dropout_rate=dropout_rate,\n",
    "    use_layer_norm=True,\n",
    "    return_sequences = True\n",
    ")(inputs)"
   ]
  },
  {
   "cell_type": "code",
   "execution_count": 26,
   "metadata": {},
   "outputs": [],
   "source": [
    "y_train = to_categorical(y_train, num_classes)\n",
    "y_val = to_categorical(y_val, num_classes)"
   ]
  },
  {
   "cell_type": "code",
   "execution_count": 27,
   "metadata": {},
   "outputs": [],
   "source": [
    "max_pooling = GlobalMaxPooling1D()(tcn)"
   ]
  },
  {
   "cell_type": "code",
   "execution_count": 28,
   "metadata": {},
   "outputs": [],
   "source": [
    "avg_pooling = GlobalAveragePooling1D()(tcn)"
   ]
  },
  {
   "cell_type": "code",
   "execution_count": 29,
   "metadata": {},
   "outputs": [],
   "source": [
    "pooling = Concatenate()([max_pooling, avg_pooling])"
   ]
  },
  {
   "cell_type": "code",
   "execution_count": 30,
   "metadata": {},
   "outputs": [],
   "source": [
    "dense1 = Dense(64, activation= 'relu')(pooling)"
   ]
  },
  {
   "cell_type": "code",
   "execution_count": 31,
   "metadata": {},
   "outputs": [],
   "source": [
    "dropout1 = Dropout(0.2)(dense1)"
   ]
  },
  {
   "cell_type": "code",
   "execution_count": 32,
   "metadata": {},
   "outputs": [],
   "source": [
    "outputs = Dense(2, activation='softmax')(dropout1)"
   ]
  },
  {
   "cell_type": "code",
   "execution_count": 33,
   "metadata": {},
   "outputs": [],
   "source": [
    "def f1(y_true, y_pred):\n",
    "    true_positives = K.sum(K.round(K.clip(y_true * y_pred, 0, 1)))\n",
    "    possible_positives = K.sum(K.round(K.clip(y_true, 0, 1)))\n",
    "    predicted_positives = K.sum(K.round(K.clip(y_pred, 0, 1)))\n",
    "    p = true_positives / (predicted_positives + K.epsilon())\n",
    "    r = true_positives / (possible_positives + K.epsilon())\n",
    "    return 2 * ((p * r) / (p + r + K.epsilon()))"
   ]
  },
  {
   "cell_type": "code",
   "execution_count": 34,
   "metadata": {},
   "outputs": [
    {
     "name": "stdout",
     "output_type": "stream",
     "text": [
      "Model: \"model_1\"\n",
      "__________________________________________________________________________________________________\n",
      " Layer (type)                Output Shape                 Param #   Connected to                  \n",
      "==================================================================================================\n",
      " input_2 (InputLayer)        [(None, 11, 1)]              0         []                            \n",
      "                                                                                                  \n",
      " tcn_1 (TCN)                 (None, 11, 128)              1565056   ['input_2[0][0]']             \n",
      "                                                                                                  \n",
      " global_max_pooling1d_1 (Gl  (None, 128)                  0         ['tcn_1[0][0]']               \n",
      " obalMaxPooling1D)                                                                                \n",
      "                                                                                                  \n",
      " global_average_pooling1d_1  (None, 128)                  0         ['tcn_1[0][0]']               \n",
      "  (GlobalAveragePooling1D)                                                                        \n",
      "                                                                                                  \n",
      " concatenate_1 (Concatenate  (None, 256)                  0         ['global_max_pooling1d_1[0][0]\n",
      " )                                                                  ',                            \n",
      "                                                                     'global_average_pooling1d_1[0\n",
      "                                                                    ][0]']                        \n",
      "                                                                                                  \n",
      " dense_2 (Dense)             (None, 64)                   16448     ['concatenate_1[0][0]']       \n",
      "                                                                                                  \n",
      " dropout_1 (Dropout)         (None, 64)                   0         ['dense_2[0][0]']             \n",
      "                                                                                                  \n",
      " dense_3 (Dense)             (None, 2)                    130       ['dropout_1[0][0]']           \n",
      "                                                                                                  \n",
      "==================================================================================================\n",
      "Total params: 1581634 (6.03 MB)\n",
      "Trainable params: 1581634 (6.03 MB)\n",
      "Non-trainable params: 0 (0.00 Byte)\n",
      "__________________________________________________________________________________________________\n"
     ]
    }
   ],
   "source": [
    "model = Model(inputs=inputs, outputs=outputs)\n",
    "\n",
    "model.compile(\n",
    "    optimizer=Adam(learning_rate = 0.001),\n",
    "    loss='binary_crossentropy',\n",
    "    metrics=['accuracy', f1]\n",
    ")\n",
    "\n",
    "model.summary()"
   ]
  },
  {
   "cell_type": "code",
   "execution_count": 35,
   "metadata": {},
   "outputs": [
    {
     "name": "stdout",
     "output_type": "stream",
     "text": [
      "y_train shape: (315123, 2)\n",
      "y_val shape: (67526, 2)\n"
     ]
    }
   ],
   "source": [
    "print(\"y_train shape:\", y_train.shape)\n",
    "print(\"y_val shape:\", y_val.shape)"
   ]
  },
  {
   "cell_type": "code",
   "execution_count": 36,
   "metadata": {},
   "outputs": [
    {
     "name": "stdout",
     "output_type": "stream",
     "text": [
      "Epoch 1/100\n"
     ]
    },
    {
     "name": "stdout",
     "output_type": "stream",
     "text": [
      "2462/2462 [==============================] - ETA: 0s - loss: 0.3796 - accuracy: 0.8501 - f1: 0.8501"
     ]
    },
    {
     "name": "stderr",
     "output_type": "stream",
     "text": [
      "/home/zeus/miniconda3/envs/cloudspace/lib/python3.10/site-packages/keras/src/engine/training.py:3103: UserWarning: You are saving your model as an HDF5 file via `model.save()`. This file format is considered legacy. We recommend using instead the native Keras format, e.g. `model.save('my_model.keras')`.\n",
      "  saving_api.save_model(\n"
     ]
    },
    {
     "name": "stdout",
     "output_type": "stream",
     "text": [
      "2462/2462 [==============================] - 144s 53ms/step - loss: 0.3796 - accuracy: 0.8501 - f1: 0.8501 - val_loss: 0.3362 - val_accuracy: 0.8606 - val_f1: 0.8606\n",
      "Epoch 2/100\n",
      "2462/2462 [==============================] - 128s 52ms/step - loss: 0.3431 - accuracy: 0.8619 - f1: 0.8619 - val_loss: 0.3319 - val_accuracy: 0.8638 - val_f1: 0.8638\n",
      "Epoch 3/100\n",
      "2462/2462 [==============================] - 126s 51ms/step - loss: 0.3389 - accuracy: 0.8630 - f1: 0.8630 - val_loss: 0.3292 - val_accuracy: 0.8651 - val_f1: 0.8651\n",
      "Epoch 4/100\n",
      "2462/2462 [==============================] - 127s 52ms/step - loss: 0.3365 - accuracy: 0.8635 - f1: 0.8635 - val_loss: 0.3261 - val_accuracy: 0.8676 - val_f1: 0.8676\n",
      "Epoch 5/100\n",
      "2462/2462 [==============================] - 126s 51ms/step - loss: 0.3351 - accuracy: 0.8636 - f1: 0.8636 - val_loss: 0.3254 - val_accuracy: 0.8681 - val_f1: 0.8681\n",
      "Epoch 6/100\n",
      "2462/2462 [==============================] - 126s 51ms/step - loss: 0.3335 - accuracy: 0.8641 - f1: 0.8641 - val_loss: 0.3256 - val_accuracy: 0.8688 - val_f1: 0.8688\n",
      "Epoch 7/100\n",
      "2462/2462 [==============================] - 126s 51ms/step - loss: 0.3325 - accuracy: 0.8643 - f1: 0.8643 - val_loss: 0.3227 - val_accuracy: 0.8682 - val_f1: 0.8682\n",
      "Epoch 8/100\n",
      "2462/2462 [==============================] - 125s 51ms/step - loss: 0.3317 - accuracy: 0.8649 - f1: 0.8649 - val_loss: 0.3220 - val_accuracy: 0.8686 - val_f1: 0.8686\n",
      "Epoch 9/100\n",
      "2462/2462 [==============================] - 126s 51ms/step - loss: 0.3314 - accuracy: 0.8651 - f1: 0.8651 - val_loss: 0.3228 - val_accuracy: 0.8679 - val_f1: 0.8679\n",
      "Epoch 10/100\n",
      "2462/2462 [==============================] - 125s 51ms/step - loss: 0.3308 - accuracy: 0.8648 - f1: 0.8648 - val_loss: 0.3211 - val_accuracy: 0.8689 - val_f1: 0.8689\n",
      "Epoch 11/100\n",
      "2462/2462 [==============================] - 126s 51ms/step - loss: 0.3305 - accuracy: 0.8655 - f1: 0.8655 - val_loss: 0.3217 - val_accuracy: 0.8692 - val_f1: 0.8692\n",
      "Epoch 12/100\n",
      "2462/2462 [==============================] - 126s 51ms/step - loss: 0.3299 - accuracy: 0.8650 - f1: 0.8650 - val_loss: 0.3213 - val_accuracy: 0.8690 - val_f1: 0.8691\n",
      "Epoch 13/100\n",
      "2462/2462 [==============================] - 125s 51ms/step - loss: 0.3289 - accuracy: 0.8656 - f1: 0.8656 - val_loss: 0.3214 - val_accuracy: 0.8696 - val_f1: 0.8696\n",
      "Epoch 14/100\n",
      "2462/2462 [==============================] - 126s 51ms/step - loss: 0.3291 - accuracy: 0.8655 - f1: 0.8655 - val_loss: 0.3220 - val_accuracy: 0.8683 - val_f1: 0.8683\n",
      "Epoch 15/100\n",
      "2462/2462 [==============================] - 125s 51ms/step - loss: 0.3285 - accuracy: 0.8659 - f1: 0.8659 - val_loss: 0.3190 - val_accuracy: 0.8691 - val_f1: 0.8691\n",
      "Epoch 16/100\n",
      "2462/2462 [==============================] - 125s 51ms/step - loss: 0.3282 - accuracy: 0.8660 - f1: 0.8660 - val_loss: 0.3186 - val_accuracy: 0.8694 - val_f1: 0.8694\n",
      "Epoch 17/100\n",
      "2462/2462 [==============================] - 125s 51ms/step - loss: 0.3279 - accuracy: 0.8665 - f1: 0.8665 - val_loss: 0.3196 - val_accuracy: 0.8689 - val_f1: 0.8689\n",
      "Epoch 18/100\n",
      "2462/2462 [==============================] - 127s 51ms/step - loss: 0.3275 - accuracy: 0.8666 - f1: 0.8666 - val_loss: 0.3190 - val_accuracy: 0.8701 - val_f1: 0.8701\n",
      "Epoch 19/100\n",
      "2462/2462 [==============================] - 126s 51ms/step - loss: 0.3276 - accuracy: 0.8665 - f1: 0.8665 - val_loss: 0.3190 - val_accuracy: 0.8691 - val_f1: 0.8692\n",
      "Epoch 20/100\n",
      "2462/2462 [==============================] - 126s 51ms/step - loss: 0.3274 - accuracy: 0.8664 - f1: 0.8664 - val_loss: 0.3190 - val_accuracy: 0.8690 - val_f1: 0.8690\n",
      "Epoch 21/100\n",
      "2462/2462 [==============================] - 126s 51ms/step - loss: 0.3268 - accuracy: 0.8667 - f1: 0.8667 - val_loss: 0.3178 - val_accuracy: 0.8694 - val_f1: 0.8694\n",
      "Epoch 22/100\n",
      "2462/2462 [==============================] - 126s 51ms/step - loss: 0.3265 - accuracy: 0.8665 - f1: 0.8665 - val_loss: 0.3187 - val_accuracy: 0.8688 - val_f1: 0.8688\n",
      "Epoch 23/100\n",
      "2462/2462 [==============================] - 126s 51ms/step - loss: 0.3263 - accuracy: 0.8672 - f1: 0.8672 - val_loss: 0.3194 - val_accuracy: 0.8703 - val_f1: 0.8703\n",
      "Epoch 24/100\n",
      "2462/2462 [==============================] - 127s 51ms/step - loss: 0.3264 - accuracy: 0.8667 - f1: 0.8667 - val_loss: 0.3190 - val_accuracy: 0.8707 - val_f1: 0.8707\n",
      "Epoch 25/100\n",
      "2462/2462 [==============================] - 127s 52ms/step - loss: 0.3262 - accuracy: 0.8671 - f1: 0.8671 - val_loss: 0.3173 - val_accuracy: 0.8699 - val_f1: 0.8699\n",
      "Epoch 26/100\n",
      "2462/2462 [==============================] - 143s 58ms/step - loss: 0.3257 - accuracy: 0.8674 - f1: 0.8674 - val_loss: 0.3171 - val_accuracy: 0.8695 - val_f1: 0.8695\n",
      "Epoch 27/100\n",
      "2462/2462 [==============================] - 130s 53ms/step - loss: 0.3256 - accuracy: 0.8672 - f1: 0.8672 - val_loss: 0.3167 - val_accuracy: 0.8697 - val_f1: 0.8697\n",
      "Epoch 28/100\n",
      "2462/2462 [==============================] - 126s 51ms/step - loss: 0.3252 - accuracy: 0.8676 - f1: 0.8676 - val_loss: 0.3168 - val_accuracy: 0.8713 - val_f1: 0.8713\n",
      "Epoch 29/100\n",
      "2462/2462 [==============================] - 125s 51ms/step - loss: 0.3253 - accuracy: 0.8674 - f1: 0.8674 - val_loss: 0.3184 - val_accuracy: 0.8687 - val_f1: 0.8688\n",
      "Epoch 30/100\n",
      "2462/2462 [==============================] - 125s 51ms/step - loss: 0.3249 - accuracy: 0.8675 - f1: 0.8675 - val_loss: 0.3164 - val_accuracy: 0.8703 - val_f1: 0.8703\n",
      "Epoch 31/100\n",
      "2462/2462 [==============================] - 125s 51ms/step - loss: 0.3249 - accuracy: 0.8674 - f1: 0.8674 - val_loss: 0.3176 - val_accuracy: 0.8708 - val_f1: 0.8709\n",
      "Epoch 32/100\n",
      "2462/2462 [==============================] - 125s 51ms/step - loss: 0.3248 - accuracy: 0.8673 - f1: 0.8673 - val_loss: 0.3169 - val_accuracy: 0.8703 - val_f1: 0.8703\n",
      "Epoch 33/100\n",
      "2462/2462 [==============================] - 124s 50ms/step - loss: 0.3245 - accuracy: 0.8674 - f1: 0.8674 - val_loss: 0.3167 - val_accuracy: 0.8698 - val_f1: 0.8698\n"
     ]
    }
   ],
   "source": [
    "history = model.fit(X_train, y_train, epochs=100,\n",
    "          validation_data=(X_val, y_val), verbose = 1, \n",
    "          callbacks = \n",
    "          [ModelCheckpoint(filepath=\"TCN #1.h5\", \n",
    "          monitor='val_f1', mode='max',save_best_only=True), \n",
    "          EarlyStopping(monitor='val_f1', patience =5, \n",
    "          restore_best_weights= True, mode =\"max\")], \n",
    "          batch_size = 128)"
   ]
  },
  {
   "cell_type": "code",
   "execution_count": 37,
   "metadata": {},
   "outputs": [],
   "source": [
    "TCN_model = load_model('TCN #1.h5', custom_objects={'f1': f1})"
   ]
  },
  {
   "cell_type": "code",
   "execution_count": 38,
   "metadata": {},
   "outputs": [],
   "source": [
    "y_test = to_categorical(y_test, 2)"
   ]
  },
  {
   "cell_type": "code",
   "execution_count": 39,
   "metadata": {},
   "outputs": [
    {
     "name": "stdout",
     "output_type": "stream",
     "text": [
      "2111/2111 [==============================] - 30s 13ms/step - loss: 0.3232 - accuracy: 0.8691 - f1: 0.8691\n"
     ]
    }
   ],
   "source": [
    "results = TCN_model.evaluate(X_test, y_test, verbose = 1)"
   ]
  },
  {
   "cell_type": "code",
   "execution_count": 40,
   "metadata": {},
   "outputs": [
    {
     "name": "stdout",
     "output_type": "stream",
     "text": [
      "2111/2111 [==============================] - 27s 12ms/step\n"
     ]
    }
   ],
   "source": [
    "y_pred = TCN_model.predict(X_test)"
   ]
  },
  {
   "cell_type": "code",
   "execution_count": 41,
   "metadata": {},
   "outputs": [],
   "source": [
    "y_test = y_test.argmax(axis=1)\n",
    "y_pred = y_pred.argmax(axis=1)"
   ]
  },
  {
   "cell_type": "code",
   "execution_count": 42,
   "metadata": {},
   "outputs": [
    {
     "data": {
      "text/plain": [
       "<sklearn.metrics._plot.confusion_matrix.ConfusionMatrixDisplay at 0x7b5a3c097700>"
      ]
     },
     "execution_count": 42,
     "metadata": {},
     "output_type": "execute_result"
    },
    {
     "data": {
      "image/png": "[encoded data removed]",
      "text/plain": [
       "<Figure size 640x480 with 2 Axes>"
      ]
     },
     "metadata": {},
     "output_type": "display_data"
    }
   ],
   "source": [
    "confusion_matrix = metrics.confusion_matrix(y_test, y_pred)\n",
    "matrix = ConfusionMatrixDisplay(confusion_matrix = confusion_matrix, display_labels = [\"benign\", \"phishing\"])                            \n",
    "matrix.plot()"
   ]
  },
  {
   "cell_type": "code",
   "execution_count": 43,
   "metadata": {},
   "outputs": [],
   "source": [
    "Accuracy = metrics.accuracy_score(y_test, y_pred)\n",
    "Precision = metrics.precision_score(y_test, y_pred)\n",
    "Recall = metrics.recall_score(y_test, y_pred)\n",
    "F1_score = metrics.f1_score(y_test, y_pred)"
   ]
  },
  {
   "cell_type": "code",
   "execution_count": 44,
   "metadata": {},
   "outputs": [
    {
     "name": "stdout",
     "output_type": "stream",
     "text": [
      "{'Accuracy': 0.8690745923852681, 'Precision': 0.8508997429305912, 'Recall': 0.5282139665517681, 'F1_score': 0.6518057579457288}\n"
     ]
    }
   ],
   "source": [
    "print({\"Accuracy\":Accuracy,\"Precision\":Precision,\"Recall\":Recall,\"F1_score\":F1_score})"
   ]
  },
  {
   "cell_type": "code",
   "execution_count": 45,
   "metadata": {},
   "outputs": [],
   "source": [
    "df = pd.read_csv(\"../Metrics of Dataset #1.csv\")"
   ]
  },
  {
   "cell_type": "code",
   "execution_count": 46,
   "metadata": {},
   "outputs": [],
   "source": [
    "metrics = pd.DataFrame({\"Model\": \"TCN\", \"Accuracy\": [Accuracy], \"Precision\":[Precision], \"Recall\": [Recall], \"F1_score\": [F1_score]})"
   ]
  },
  {
   "cell_type": "code",
   "execution_count": 47,
   "metadata": {},
   "outputs": [],
   "source": [
    "df = pd.concat([df, metrics], ignore_index=True)"
   ]
  },
  {
   "cell_type": "code",
   "execution_count": 48,
   "metadata": {},
   "outputs": [
    {
     "data": {
      "text/html": [
       "<div>\n",
       "<style scoped>\n",
       "    .dataframe tbody tr th:only-of-type {\n",
       "        vertical-align: middle;\n",
       "    }\n",
       "\n",
       "    .dataframe tbody tr th {\n",
       "        vertical-align: top;\n",
       "    }\n",
       "\n",
       "    .dataframe thead th {\n",
       "        text-align: right;\n",
       "    }\n",
       "</style>\n",
       "<table border=\"1\" class=\"dataframe\">\n",
       "  <thead>\n",
       "    <tr style=\"text-align: right;\">\n",
       "      <th></th>\n",
       "      <th>Model</th>\n",
       "      <th>Accuracy</th>\n",
       "      <th>Precision</th>\n",
       "      <th>Recall</th>\n",
       "      <th>F1_score</th>\n",
       "    </tr>\n",
       "  </thead>\n",
       "  <tbody>\n",
       "    <tr>\n",
       "      <th>0</th>\n",
       "      <td>LinearSVC</td>\n",
       "      <td>0.796748</td>\n",
       "      <td>0.840168</td>\n",
       "      <td>0.153007</td>\n",
       "      <td>0.258869</td>\n",
       "    </tr>\n",
       "    <tr>\n",
       "      <th>1</th>\n",
       "      <td>Random Forest</td>\n",
       "      <td>0.870289</td>\n",
       "      <td>0.872345</td>\n",
       "      <td>0.516469</td>\n",
       "      <td>0.648811</td>\n",
       "    </tr>\n",
       "    <tr>\n",
       "      <th>2</th>\n",
       "      <td>XGBoost</td>\n",
       "      <td>0.866320</td>\n",
       "      <td>0.876318</td>\n",
       "      <td>0.493425</td>\n",
       "      <td>0.631355</td>\n",
       "    </tr>\n",
       "    <tr>\n",
       "      <th>3</th>\n",
       "      <td>MLP</td>\n",
       "      <td>0.869001</td>\n",
       "      <td>0.875799</td>\n",
       "      <td>0.507277</td>\n",
       "      <td>0.642441</td>\n",
       "    </tr>\n",
       "    <tr>\n",
       "      <th>4</th>\n",
       "      <td>TCN</td>\n",
       "      <td>0.869075</td>\n",
       "      <td>0.850900</td>\n",
       "      <td>0.528214</td>\n",
       "      <td>0.651806</td>\n",
       "    </tr>\n",
       "  </tbody>\n",
       "</table>\n",
       "</div>"
      ],
      "text/plain": [
       "           Model  Accuracy  Precision    Recall  F1_score\n",
       "0      LinearSVC  0.796748   0.840168  0.153007  0.258869\n",
       "1  Random Forest  0.870289   0.872345  0.516469  0.648811\n",
       "2        XGBoost  0.866320   0.876318  0.493425  0.631355\n",
       "3            MLP  0.869001   0.875799  0.507277  0.642441\n",
       "4            TCN  0.869075   0.850900  0.528214  0.651806"
      ]
     },
     "execution_count": 48,
     "metadata": {},
     "output_type": "execute_result"
    }
   ],
   "source": [
    "df.head()"
   ]
  },
  {
   "cell_type": "code",
   "execution_count": 49,
   "metadata": {},
   "outputs": [],
   "source": [
    "df.to_csv(\"../Metrics of Dataset #1.csv\", index=False)"
   ]
  }
 ],
 "metadata": {
  "language_info": {
   "name": "python"
  }
 },
 "nbformat": 4,
 "nbformat_minor": 2
}
