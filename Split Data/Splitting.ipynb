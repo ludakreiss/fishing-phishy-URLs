{
 "cells": [
  {
   "cell_type": "code",
   "execution_count": 1,
   "metadata": {},
   "outputs": [],
   "source": [
    "from imblearn.over_sampling import SMOTE\n",
    "from sklearn.model_selection import train_test_split\n",
    "import pandas as pd\n",
    "import matplotlib.pyplot as plt"
   ]
  },
  {
   "cell_type": "code",
   "execution_count": 2,
   "metadata": {},
   "outputs": [],
   "source": [
    "df = pd.read_csv(\"../Processed Data/Datasets After Feature Extraction.csv\", dtype={1: str}) #Reading in the CSV file into a Dataframe"
   ]
  },
  {
   "cell_type": "code",
   "execution_count": 3,
   "metadata": {},
   "outputs": [
    {
     "data": {
      "text/plain": [
       "(983820, 14)"
      ]
     },
     "execution_count": 3,
     "metadata": {},
     "output_type": "execute_result"
    }
   ],
   "source": [
    "df.shape"
   ]
  },
  {
   "cell_type": "code",
   "execution_count": 4,
   "metadata": {},
   "outputs": [
    {
     "data": {
      "image/png": "[encoded data removed]",
      "text/plain": [
       "<Figure size 1000x400 with 1 Axes>"
      ]
     },
     "metadata": {},
     "output_type": "display_data"
    }
   ],
   "source": [
    "label_counts = df['Label'].value_counts()\n",
    "\n",
    "plt.figure(figsize=(10, 4))\n",
    "label_counts.plot(kind='bar', color='blue')\n",
    "plt.title('Distribution of Labels')\n",
    "plt.xlabel('Labels')\n",
    "plt.ylabel('Count')\n",
    "plt.xticks(rotation=0)\n",
    "plt.show()\n"
   ]
  },
  {
   "cell_type": "code",
   "execution_count": 5,
   "metadata": {},
   "outputs": [
    {
     "name": "stdout",
     "output_type": "stream",
     "text": [
      "<class 'pandas.core.frame.DataFrame'>\n",
      "RangeIndex: 983820 entries, 0 to 983819\n",
      "Data columns (total 14 columns):\n",
      " #   Column                   Non-Null Count   Dtype \n",
      "---  ------                   --------------   ----- \n",
      " 0   URL                      983820 non-null  object\n",
      " 1   Domain                   521835 non-null  object\n",
      " 2   IP_Address               983820 non-null  int64 \n",
      " 3   Prefix/Suffix_in_Domain  983820 non-null  int64 \n",
      " 4   Tiny_URL                 983820 non-null  int64 \n",
      " 5   @_Symbol                 983820 non-null  int64 \n",
      " 6   URL_Length               983820 non-null  int64 \n",
      " 7   Http/https_in_Domain     983820 non-null  int64 \n",
      " 8   Depth_Of_URL             983820 non-null  int64 \n",
      " 9   Redirection              983820 non-null  int64 \n",
      " 10  Num_of_Dots              983820 non-null  int64 \n",
      " 11  Num_of_Hyphens           983820 non-null  int64 \n",
      " 12  Num_of_Underscore        983820 non-null  int64 \n",
      " 13  Label                    983820 non-null  int64 \n",
      "dtypes: int64(12), object(2)\n",
      "memory usage: 105.1+ MB\n"
     ]
    }
   ],
   "source": [
    "df.info()"
   ]
  },
  {
   "cell_type": "code",
   "execution_count": 6,
   "metadata": {},
   "outputs": [
    {
     "data": {
      "text/html": [
       "<div>\n",
       "<style scoped>\n",
       "    .dataframe tbody tr th:only-of-type {\n",
       "        vertical-align: middle;\n",
       "    }\n",
       "\n",
       "    .dataframe tbody tr th {\n",
       "        vertical-align: top;\n",
       "    }\n",
       "\n",
       "    .dataframe thead th {\n",
       "        text-align: right;\n",
       "    }\n",
       "</style>\n",
       "<table border=\"1\" class=\"dataframe\">\n",
       "  <thead>\n",
       "    <tr style=\"text-align: right;\">\n",
       "      <th></th>\n",
       "      <th>IP_Address</th>\n",
       "      <th>Prefix/Suffix_in_Domain</th>\n",
       "      <th>Tiny_URL</th>\n",
       "      <th>@_Symbol</th>\n",
       "      <th>URL_Length</th>\n",
       "      <th>Http/https_in_Domain</th>\n",
       "      <th>Depth_Of_URL</th>\n",
       "      <th>Redirection</th>\n",
       "      <th>Num_of_Dots</th>\n",
       "      <th>Num_of_Hyphens</th>\n",
       "      <th>Num_of_Underscore</th>\n",
       "      <th>Label</th>\n",
       "    </tr>\n",
       "  </thead>\n",
       "  <tbody>\n",
       "    <tr>\n",
       "      <th>count</th>\n",
       "      <td>983820.000000</td>\n",
       "      <td>983820.000000</td>\n",
       "      <td>983820.000000</td>\n",
       "      <td>983820.000000</td>\n",
       "      <td>983820.000000</td>\n",
       "      <td>983820.000000</td>\n",
       "      <td>983820.000000</td>\n",
       "      <td>983820.000000</td>\n",
       "      <td>983820.000000</td>\n",
       "      <td>983820.000000</td>\n",
       "      <td>983820.000000</td>\n",
       "      <td>983820.000000</td>\n",
       "    </tr>\n",
       "    <tr>\n",
       "      <th>mean</th>\n",
       "      <td>0.004992</td>\n",
       "      <td>0.037221</td>\n",
       "      <td>0.002734</td>\n",
       "      <td>0.004576</td>\n",
       "      <td>0.418417</td>\n",
       "      <td>0.000211</td>\n",
       "      <td>2.595566</td>\n",
       "      <td>0.003880</td>\n",
       "      <td>2.309159</td>\n",
       "      <td>1.429607</td>\n",
       "      <td>0.416601</td>\n",
       "      <td>0.207623</td>\n",
       "    </tr>\n",
       "    <tr>\n",
       "      <th>std</th>\n",
       "      <td>0.070476</td>\n",
       "      <td>0.189304</td>\n",
       "      <td>0.052218</td>\n",
       "      <td>0.067492</td>\n",
       "      <td>0.493300</td>\n",
       "      <td>0.014539</td>\n",
       "      <td>1.661467</td>\n",
       "      <td>0.062167</td>\n",
       "      <td>1.408319</td>\n",
       "      <td>2.859578</td>\n",
       "      <td>1.293175</td>\n",
       "      <td>0.405606</td>\n",
       "    </tr>\n",
       "    <tr>\n",
       "      <th>min</th>\n",
       "      <td>0.000000</td>\n",
       "      <td>0.000000</td>\n",
       "      <td>0.000000</td>\n",
       "      <td>0.000000</td>\n",
       "      <td>0.000000</td>\n",
       "      <td>0.000000</td>\n",
       "      <td>0.000000</td>\n",
       "      <td>0.000000</td>\n",
       "      <td>0.000000</td>\n",
       "      <td>0.000000</td>\n",
       "      <td>0.000000</td>\n",
       "      <td>0.000000</td>\n",
       "    </tr>\n",
       "    <tr>\n",
       "      <th>25%</th>\n",
       "      <td>0.000000</td>\n",
       "      <td>0.000000</td>\n",
       "      <td>0.000000</td>\n",
       "      <td>0.000000</td>\n",
       "      <td>0.000000</td>\n",
       "      <td>0.000000</td>\n",
       "      <td>1.000000</td>\n",
       "      <td>0.000000</td>\n",
       "      <td>2.000000</td>\n",
       "      <td>0.000000</td>\n",
       "      <td>0.000000</td>\n",
       "      <td>0.000000</td>\n",
       "    </tr>\n",
       "    <tr>\n",
       "      <th>50%</th>\n",
       "      <td>0.000000</td>\n",
       "      <td>0.000000</td>\n",
       "      <td>0.000000</td>\n",
       "      <td>0.000000</td>\n",
       "      <td>0.000000</td>\n",
       "      <td>0.000000</td>\n",
       "      <td>2.000000</td>\n",
       "      <td>0.000000</td>\n",
       "      <td>2.000000</td>\n",
       "      <td>0.000000</td>\n",
       "      <td>0.000000</td>\n",
       "      <td>0.000000</td>\n",
       "    </tr>\n",
       "    <tr>\n",
       "      <th>75%</th>\n",
       "      <td>0.000000</td>\n",
       "      <td>0.000000</td>\n",
       "      <td>0.000000</td>\n",
       "      <td>0.000000</td>\n",
       "      <td>1.000000</td>\n",
       "      <td>0.000000</td>\n",
       "      <td>3.000000</td>\n",
       "      <td>0.000000</td>\n",
       "      <td>3.000000</td>\n",
       "      <td>1.000000</td>\n",
       "      <td>0.000000</td>\n",
       "      <td>0.000000</td>\n",
       "    </tr>\n",
       "    <tr>\n",
       "      <th>max</th>\n",
       "      <td>1.000000</td>\n",
       "      <td>1.000000</td>\n",
       "      <td>1.000000</td>\n",
       "      <td>1.000000</td>\n",
       "      <td>1.000000</td>\n",
       "      <td>1.000000</td>\n",
       "      <td>38.000000</td>\n",
       "      <td>1.000000</td>\n",
       "      <td>42.000000</td>\n",
       "      <td>87.000000</td>\n",
       "      <td>200.000000</td>\n",
       "      <td>1.000000</td>\n",
       "    </tr>\n",
       "  </tbody>\n",
       "</table>\n",
       "</div>"
      ],
      "text/plain": [
       "          IP_Address  Prefix/Suffix_in_Domain       Tiny_URL       @_Symbol  \\\n",
       "count  983820.000000            983820.000000  983820.000000  983820.000000   \n",
       "mean        0.004992                 0.037221       0.002734       0.004576   \n",
       "std         0.070476                 0.189304       0.052218       0.067492   \n",
       "min         0.000000                 0.000000       0.000000       0.000000   \n",
       "25%         0.000000                 0.000000       0.000000       0.000000   \n",
       "50%         0.000000                 0.000000       0.000000       0.000000   \n",
       "75%         0.000000                 0.000000       0.000000       0.000000   \n",
       "max         1.000000                 1.000000       1.000000       1.000000   \n",
       "\n",
       "          URL_Length  Http/https_in_Domain   Depth_Of_URL    Redirection  \\\n",
       "count  983820.000000         983820.000000  983820.000000  983820.000000   \n",
       "mean        0.418417              0.000211       2.595566       0.003880   \n",
       "std         0.493300              0.014539       1.661467       0.062167   \n",
       "min         0.000000              0.000000       0.000000       0.000000   \n",
       "25%         0.000000              0.000000       1.000000       0.000000   \n",
       "50%         0.000000              0.000000       2.000000       0.000000   \n",
       "75%         1.000000              0.000000       3.000000       0.000000   \n",
       "max         1.000000              1.000000      38.000000       1.000000   \n",
       "\n",
       "         Num_of_Dots  Num_of_Hyphens  Num_of_Underscore          Label  \n",
       "count  983820.000000   983820.000000      983820.000000  983820.000000  \n",
       "mean        2.309159        1.429607           0.416601       0.207623  \n",
       "std         1.408319        2.859578           1.293175       0.405606  \n",
       "min         0.000000        0.000000           0.000000       0.000000  \n",
       "25%         2.000000        0.000000           0.000000       0.000000  \n",
       "50%         2.000000        0.000000           0.000000       0.000000  \n",
       "75%         3.000000        1.000000           0.000000       0.000000  \n",
       "max        42.000000       87.000000         200.000000       1.000000  "
      ]
     },
     "execution_count": 6,
     "metadata": {},
     "output_type": "execute_result"
    }
   ],
   "source": [
    "df.describe()"
   ]
  },
  {
   "cell_type": "code",
   "execution_count": 7,
   "metadata": {},
   "outputs": [],
   "source": [
    "df1 = df.drop(['Domain'], axis = 1).copy()"
   ]
  },
  {
   "cell_type": "code",
   "execution_count": 8,
   "metadata": {},
   "outputs": [
    {
     "data": {
      "text/plain": [
       "URL                        0\n",
       "IP_Address                 0\n",
       "Prefix/Suffix_in_Domain    0\n",
       "Tiny_URL                   0\n",
       "@_Symbol                   0\n",
       "URL_Length                 0\n",
       "Http/https_in_Domain       0\n",
       "Depth_Of_URL               0\n",
       "Redirection                0\n",
       "Num_of_Dots                0\n",
       "Num_of_Hyphens             0\n",
       "Num_of_Underscore          0\n",
       "Label                      0\n",
       "dtype: int64"
      ]
     },
     "execution_count": 8,
     "metadata": {},
     "output_type": "execute_result"
    }
   ],
   "source": [
    "df1.isna().sum() #Checking if any NaN values exist in any of the columns of df1"
   ]
  },
  {
   "cell_type": "code",
   "execution_count": 9,
   "metadata": {},
   "outputs": [
    {
     "data": {
      "text/plain": [
       "URL                        0\n",
       "IP_Address                 0\n",
       "Prefix/Suffix_in_Domain    0\n",
       "Tiny_URL                   0\n",
       "@_Symbol                   0\n",
       "URL_Length                 0\n",
       "Http/https_in_Domain       0\n",
       "Depth_Of_URL               0\n",
       "Redirection                0\n",
       "Num_of_Dots                0\n",
       "Num_of_Hyphens             0\n",
       "Num_of_Underscore          0\n",
       "Label                      0\n",
       "dtype: int64"
      ]
     },
     "execution_count": 9,
     "metadata": {},
     "output_type": "execute_result"
    }
   ],
   "source": [
    "df1.isnull().sum() #Checking if any null values exist in any of the columns of df1"
   ]
  },
  {
   "cell_type": "code",
   "execution_count": 10,
   "metadata": {},
   "outputs": [],
   "source": [
    "df_shuffled = df1.sample(frac=1).reset_index(drop=True) #Shuffling the entries of df1"
   ]
  },
  {
   "cell_type": "code",
   "execution_count": 11,
   "metadata": {},
   "outputs": [
    {
     "data": {
      "text/html": [
       "<div>\n",
       "<style scoped>\n",
       "    .dataframe tbody tr th:only-of-type {\n",
       "        vertical-align: middle;\n",
       "    }\n",
       "\n",
       "    .dataframe tbody tr th {\n",
       "        vertical-align: top;\n",
       "    }\n",
       "\n",
       "    .dataframe thead th {\n",
       "        text-align: right;\n",
       "    }\n",
       "</style>\n",
       "<table border=\"1\" class=\"dataframe\">\n",
       "  <thead>\n",
       "    <tr style=\"text-align: right;\">\n",
       "      <th></th>\n",
       "      <th>URL</th>\n",
       "      <th>IP_Address</th>\n",
       "      <th>Prefix/Suffix_in_Domain</th>\n",
       "      <th>Tiny_URL</th>\n",
       "      <th>@_Symbol</th>\n",
       "      <th>URL_Length</th>\n",
       "      <th>Http/https_in_Domain</th>\n",
       "      <th>Depth_Of_URL</th>\n",
       "      <th>Redirection</th>\n",
       "      <th>Num_of_Dots</th>\n",
       "      <th>Num_of_Hyphens</th>\n",
       "      <th>Num_of_Underscore</th>\n",
       "      <th>Label</th>\n",
       "    </tr>\n",
       "  </thead>\n",
       "  <tbody>\n",
       "    <tr>\n",
       "      <th>0</th>\n",
       "      <td>https://www.facebook.com/ParkHillSchoolDistrict</td>\n",
       "      <td>0</td>\n",
       "      <td>0</td>\n",
       "      <td>0</td>\n",
       "      <td>0</td>\n",
       "      <td>0</td>\n",
       "      <td>0</td>\n",
       "      <td>1</td>\n",
       "      <td>0</td>\n",
       "      <td>2</td>\n",
       "      <td>0</td>\n",
       "      <td>0</td>\n",
       "      <td>0</td>\n",
       "    </tr>\n",
       "    <tr>\n",
       "      <th>1</th>\n",
       "      <td>http://35wtc9gafy.naqycirefujppa.info/sq3pcgah...</td>\n",
       "      <td>0</td>\n",
       "      <td>0</td>\n",
       "      <td>0</td>\n",
       "      <td>0</td>\n",
       "      <td>1</td>\n",
       "      <td>0</td>\n",
       "      <td>3</td>\n",
       "      <td>0</td>\n",
       "      <td>4</td>\n",
       "      <td>0</td>\n",
       "      <td>0</td>\n",
       "      <td>1</td>\n",
       "    </tr>\n",
       "    <tr>\n",
       "      <th>2</th>\n",
       "      <td>bjcurio.com/js/index.htm?us.battle.net/login/e...</td>\n",
       "      <td>0</td>\n",
       "      <td>0</td>\n",
       "      <td>0</td>\n",
       "      <td>0</td>\n",
       "      <td>1</td>\n",
       "      <td>0</td>\n",
       "      <td>3</td>\n",
       "      <td>0</td>\n",
       "      <td>6</td>\n",
       "      <td>1</td>\n",
       "      <td>0</td>\n",
       "      <td>0</td>\n",
       "    </tr>\n",
       "    <tr>\n",
       "      <th>3</th>\n",
       "      <td>https://www.blog.smalleycreative.com/</td>\n",
       "      <td>0</td>\n",
       "      <td>0</td>\n",
       "      <td>0</td>\n",
       "      <td>0</td>\n",
       "      <td>0</td>\n",
       "      <td>0</td>\n",
       "      <td>0</td>\n",
       "      <td>0</td>\n",
       "      <td>3</td>\n",
       "      <td>0</td>\n",
       "      <td>0</td>\n",
       "      <td>0</td>\n",
       "    </tr>\n",
       "    <tr>\n",
       "      <th>4</th>\n",
       "      <td>https://www.sacbee.com/2010/12/31/3287828/paul...</td>\n",
       "      <td>0</td>\n",
       "      <td>0</td>\n",
       "      <td>0</td>\n",
       "      <td>0</td>\n",
       "      <td>1</td>\n",
       "      <td>0</td>\n",
       "      <td>5</td>\n",
       "      <td>0</td>\n",
       "      <td>3</td>\n",
       "      <td>4</td>\n",
       "      <td>0</td>\n",
       "      <td>0</td>\n",
       "    </tr>\n",
       "  </tbody>\n",
       "</table>\n",
       "</div>"
      ],
      "text/plain": [
       "                                                 URL  IP_Address  \\\n",
       "0    https://www.facebook.com/ParkHillSchoolDistrict           0   \n",
       "1  http://35wtc9gafy.naqycirefujppa.info/sq3pcgah...           0   \n",
       "2  bjcurio.com/js/index.htm?us.battle.net/login/e...           0   \n",
       "3              https://www.blog.smalleycreative.com/           0   \n",
       "4  https://www.sacbee.com/2010/12/31/3287828/paul...           0   \n",
       "\n",
       "   Prefix/Suffix_in_Domain  Tiny_URL  @_Symbol  URL_Length  \\\n",
       "0                        0         0         0           0   \n",
       "1                        0         0         0           1   \n",
       "2                        0         0         0           1   \n",
       "3                        0         0         0           0   \n",
       "4                        0         0         0           1   \n",
       "\n",
       "   Http/https_in_Domain  Depth_Of_URL  Redirection  Num_of_Dots  \\\n",
       "0                     0             1            0            2   \n",
       "1                     0             3            0            4   \n",
       "2                     0             3            0            6   \n",
       "3                     0             0            0            3   \n",
       "4                     0             5            0            3   \n",
       "\n",
       "   Num_of_Hyphens  Num_of_Underscore  Label  \n",
       "0               0                  0      0  \n",
       "1               0                  0      1  \n",
       "2               1                  0      0  \n",
       "3               0                  0      0  \n",
       "4               4                  0      0  "
      ]
     },
     "execution_count": 11,
     "metadata": {},
     "output_type": "execute_result"
    }
   ],
   "source": [
    "df_shuffled.head()"
   ]
  },
  {
   "cell_type": "code",
   "execution_count": 12,
   "metadata": {},
   "outputs": [],
   "source": [
    "y = df_shuffled['Label']\n",
    "X = df_shuffled.drop(['URL', 'Label'], axis = 1)"
   ]
  },
  {
   "cell_type": "code",
   "execution_count": 13,
   "metadata": {},
   "outputs": [],
   "source": [
    "# Trainsing set: 70%\n",
    "# Validating set: 15%\n",
    "# Testing set: 15%\n",
    "\n",
    "\n",
    "X_train, X_test, y_train, y_test = train_test_split(\n",
    "    X, y, \n",
    "    test_size=0.3, \n",
    "    stratify=y,  #Due to the huge imbalance of the two classes(phishing = 1, benign = 0), the ratio of splititng between the classes are maintained\n",
    "    random_state=10\n",
    ")\n"
   ]
  },
  {
   "cell_type": "code",
   "execution_count": 14,
   "metadata": {},
   "outputs": [],
   "source": [
    "X_val, X_test, y_val, y_test = train_test_split(\n",
    "    X_test, y_test, \n",
    "    test_size=0.5, \n",
    "    stratify=y_test, #Due to the huge imbalance of the two classes(phishing = 1, benign = 0), the ratio of splititng between the classes are maintained\n",
    "    random_state=10\n",
    ")"
   ]
  },
  {
   "cell_type": "code",
   "execution_count": 15,
   "metadata": {},
   "outputs": [],
   "source": [
    "smote = SMOTE(random_state=10, sampling_strategy=\"all\")\n",
    "X_train, y_train = smote.fit_resample(X_train, y_train)"
   ]
  },
  {
   "cell_type": "code",
   "execution_count": 16,
   "metadata": {},
   "outputs": [
    {
     "data": {
      "text/plain": [
       "(1091378, 11)"
      ]
     },
     "execution_count": 16,
     "metadata": {},
     "output_type": "execute_result"
    }
   ],
   "source": [
    "X_train.shape"
   ]
  },
  {
   "cell_type": "code",
   "execution_count": 17,
   "metadata": {},
   "outputs": [
    {
     "data": {
      "text/plain": [
       "(147573, 11)"
      ]
     },
     "execution_count": 17,
     "metadata": {},
     "output_type": "execute_result"
    }
   ],
   "source": [
    "X_val.shape"
   ]
  },
  {
   "cell_type": "code",
   "execution_count": 18,
   "metadata": {},
   "outputs": [
    {
     "data": {
      "text/plain": [
       "(147573, 11)"
      ]
     },
     "execution_count": 18,
     "metadata": {},
     "output_type": "execute_result"
    }
   ],
   "source": [
    "X_test.shape"
   ]
  },
  {
   "cell_type": "code",
   "execution_count": 20,
   "metadata": {},
   "outputs": [],
   "source": [
    "y_train = y_train.reset_index(drop=True)\n",
    "y_val = y_val.reset_index(drop=True)\n",
    "y_test = y_test.reset_index(drop=True)\n",
    "\n"
   ]
  },
  {
   "cell_type": "code",
   "execution_count": 21,
   "metadata": {},
   "outputs": [],
   "source": [
    "X_train.to_csv(\"Training Dataset/X_train.csv\")\n",
    "X_val.to_csv(\"Validation Dataset/X_val.csv\")\n",
    "X_test.to_csv(\"Testing Dataset/X_test.csv\")\n",
    "\n",
    "y_train.to_csv(\"Training Dataset/y_train.csv\")\n",
    "y_val.to_csv(\"Validation Dataset/y_val.csv\")\n",
    "y_test.to_csv(\"Testing Dataset/y_test.csv\")"
   ]
  }
 ],
 "metadata": {
  "language_info": {
   "name": "python"
  }
 },
 "nbformat": 4,
 "nbformat_minor": 2
}
