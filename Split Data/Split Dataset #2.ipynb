{
 "cells": [
  {
   "cell_type": "code",
   "execution_count": 2,
   "metadata": {},
   "outputs": [],
   "source": [
    "from imblearn.over_sampling import SMOTE\n",
    "from sklearn.model_selection import train_test_split\n",
    "import pandas as pd\n",
    "import matplotlib.pyplot as plt"
   ]
  },
  {
   "cell_type": "code",
   "execution_count": 3,
   "metadata": {},
   "outputs": [],
   "source": [
    "df = pd.read_csv(\"../Processed Data/Dataset#2 After Feature Extraction.csv\", dtype={1: str}) #Reading in the CSV file into a Dataframe"
   ]
  },
  {
   "cell_type": "code",
   "execution_count": 4,
   "metadata": {},
   "outputs": [
    {
     "data": {
      "text/plain": [
       "(11430, 18)"
      ]
     },
     "execution_count": 4,
     "metadata": {},
     "output_type": "execute_result"
    }
   ],
   "source": [
    "df.shape"
   ]
  },
  {
   "cell_type": "code",
   "execution_count": 5,
   "metadata": {},
   "outputs": [
    {
     "data": {
      "image/png": "[encoded data removed]",
      "text/plain": [
       "<Figure size 1000x400 with 1 Axes>"
      ]
     },
     "metadata": {},
     "output_type": "display_data"
    }
   ],
   "source": [
    "label_counts = df['Label'].value_counts()\n",
    "\n",
    "plt.figure(figsize=(10, 4))\n",
    "label_counts.plot(kind='bar', color='blue')\n",
    "plt.title('Distribution of Labels')\n",
    "plt.xlabel('Labels')\n",
    "plt.ylabel('Count')\n",
    "plt.xticks(rotation=0)\n",
    "plt.show()\n"
   ]
  },
  {
   "cell_type": "code",
   "execution_count": 7,
   "metadata": {},
   "outputs": [
    {
     "name": "stdout",
     "output_type": "stream",
     "text": [
      "<class 'pandas.core.frame.DataFrame'>\n",
      "RangeIndex: 11430 entries, 0 to 11429\n",
      "Data columns (total 18 columns):\n",
      " #   Column                   Non-Null Count  Dtype \n",
      "---  ------                   --------------  ----- \n",
      " 0   URL                      11430 non-null  object\n",
      " 1   Domain                   11430 non-null  object\n",
      " 2   IP_Address               11430 non-null  int64 \n",
      " 3   Prefix/Suffix_in_Domain  11430 non-null  int64 \n",
      " 4   Tiny_URL                 11430 non-null  int64 \n",
      " 5   @_Symbol                 11430 non-null  int64 \n",
      " 6   URL_Length               11430 non-null  int64 \n",
      " 7   Http/https_in_Domain     11430 non-null  int64 \n",
      " 8   Depth_Of_URL             11430 non-null  int64 \n",
      " 9   Redirection              11430 non-null  int64 \n",
      " 10  Google_Index             11430 non-null  int64 \n",
      " 11  WHOIS_Domain             11430 non-null  int64 \n",
      " 12  DNS_Record               11430 non-null  int64 \n",
      " 13  Registration_Length      11430 non-null  int64 \n",
      " 14  Num_of_Dots              11430 non-null  int64 \n",
      " 15  Num_of_Hyphens           11430 non-null  int64 \n",
      " 16  Num_of_Underscore        11430 non-null  int64 \n",
      " 17  Label                    11430 non-null  int64 \n",
      "dtypes: int64(16), object(2)\n",
      "memory usage: 1.6+ MB\n"
     ]
    }
   ],
   "source": [
    "df.info()"
   ]
  },
  {
   "cell_type": "code",
   "execution_count": null,
   "metadata": {},
   "outputs": [
    {
     "data": {
      "text/html": [
       "<div>\n",
       "<style scoped>\n",
       "    .dataframe tbody tr th:only-of-type {\n",
       "        vertical-align: middle;\n",
       "    }\n",
       "\n",
       "    .dataframe tbody tr th {\n",
       "        vertical-align: top;\n",
       "    }\n",
       "\n",
       "    .dataframe thead th {\n",
       "        text-align: right;\n",
       "    }\n",
       "</style>\n",
       "<table border=\"1\" class=\"dataframe\">\n",
       "  <thead>\n",
       "    <tr style=\"text-align: right;\">\n",
       "      <th></th>\n",
       "      <th>IP_Address</th>\n",
       "      <th>Prefix/Suffix_in_Domain</th>\n",
       "      <th>Tiny_URL</th>\n",
       "      <th>@_Symbol</th>\n",
       "      <th>URL_Length</th>\n",
       "      <th>Http/https_in_Domain</th>\n",
       "      <th>Depth_Of_URL</th>\n",
       "      <th>Redirection</th>\n",
       "      <th>Google_Index</th>\n",
       "      <th>WHOIS_Domain</th>\n",
       "      <th>DNS_Record</th>\n",
       "      <th>Registration_Length</th>\n",
       "      <th>Num_of_Dots</th>\n",
       "      <th>Num_of_Hyphens</th>\n",
       "      <th>Num_of_Underscore</th>\n",
       "      <th>Label</th>\n",
       "    </tr>\n",
       "  </thead>\n",
       "  <tbody>\n",
       "    <tr>\n",
       "      <th>count</th>\n",
       "      <td>11430.000000</td>\n",
       "      <td>11430.000000</td>\n",
       "      <td>11430.000000</td>\n",
       "      <td>11430.000000</td>\n",
       "      <td>11430.000000</td>\n",
       "      <td>11430.000000</td>\n",
       "      <td>11430.000000</td>\n",
       "      <td>11430.000000</td>\n",
       "      <td>11430.000000</td>\n",
       "      <td>11430.000000</td>\n",
       "      <td>11430.000000</td>\n",
       "      <td>11430.000000</td>\n",
       "      <td>11430.000000</td>\n",
       "      <td>11430.000000</td>\n",
       "      <td>11430.000000</td>\n",
       "      <td>11430.000000</td>\n",
       "    </tr>\n",
       "    <tr>\n",
       "      <th>mean</th>\n",
       "      <td>0.150569</td>\n",
       "      <td>0.202450</td>\n",
       "      <td>0.123447</td>\n",
       "      <td>0.021435</td>\n",
       "      <td>0.417060</td>\n",
       "      <td>0.001312</td>\n",
       "      <td>1.829746</td>\n",
       "      <td>0.006562</td>\n",
       "      <td>0.533946</td>\n",
       "      <td>0.072878</td>\n",
       "      <td>0.020122</td>\n",
       "      <td>492.532196</td>\n",
       "      <td>2.480665</td>\n",
       "      <td>0.997550</td>\n",
       "      <td>0.322660</td>\n",
       "      <td>0.500000</td>\n",
       "    </tr>\n",
       "    <tr>\n",
       "      <th>std</th>\n",
       "      <td>0.357644</td>\n",
       "      <td>0.401843</td>\n",
       "      <td>0.328964</td>\n",
       "      <td>0.144835</td>\n",
       "      <td>0.493095</td>\n",
       "      <td>0.036204</td>\n",
       "      <td>1.887386</td>\n",
       "      <td>0.080742</td>\n",
       "      <td>0.498868</td>\n",
       "      <td>0.259948</td>\n",
       "      <td>0.140425</td>\n",
       "      <td>814.769415</td>\n",
       "      <td>1.369685</td>\n",
       "      <td>2.087087</td>\n",
       "      <td>1.093336</td>\n",
       "      <td>0.500022</td>\n",
       "    </tr>\n",
       "    <tr>\n",
       "      <th>min</th>\n",
       "      <td>0.000000</td>\n",
       "      <td>0.000000</td>\n",
       "      <td>0.000000</td>\n",
       "      <td>0.000000</td>\n",
       "      <td>0.000000</td>\n",
       "      <td>0.000000</td>\n",
       "      <td>0.000000</td>\n",
       "      <td>0.000000</td>\n",
       "      <td>0.000000</td>\n",
       "      <td>0.000000</td>\n",
       "      <td>0.000000</td>\n",
       "      <td>-1.000000</td>\n",
       "      <td>1.000000</td>\n",
       "      <td>0.000000</td>\n",
       "      <td>0.000000</td>\n",
       "      <td>0.000000</td>\n",
       "    </tr>\n",
       "    <tr>\n",
       "      <th>25%</th>\n",
       "      <td>0.000000</td>\n",
       "      <td>0.000000</td>\n",
       "      <td>0.000000</td>\n",
       "      <td>0.000000</td>\n",
       "      <td>0.000000</td>\n",
       "      <td>0.000000</td>\n",
       "      <td>0.000000</td>\n",
       "      <td>0.000000</td>\n",
       "      <td>0.000000</td>\n",
       "      <td>0.000000</td>\n",
       "      <td>0.000000</td>\n",
       "      <td>84.000000</td>\n",
       "      <td>2.000000</td>\n",
       "      <td>0.000000</td>\n",
       "      <td>0.000000</td>\n",
       "      <td>0.000000</td>\n",
       "    </tr>\n",
       "    <tr>\n",
       "      <th>50%</th>\n",
       "      <td>0.000000</td>\n",
       "      <td>0.000000</td>\n",
       "      <td>0.000000</td>\n",
       "      <td>0.000000</td>\n",
       "      <td>0.000000</td>\n",
       "      <td>0.000000</td>\n",
       "      <td>2.000000</td>\n",
       "      <td>0.000000</td>\n",
       "      <td>1.000000</td>\n",
       "      <td>0.000000</td>\n",
       "      <td>0.000000</td>\n",
       "      <td>242.000000</td>\n",
       "      <td>2.000000</td>\n",
       "      <td>0.000000</td>\n",
       "      <td>0.000000</td>\n",
       "      <td>0.500000</td>\n",
       "    </tr>\n",
       "    <tr>\n",
       "      <th>75%</th>\n",
       "      <td>0.000000</td>\n",
       "      <td>0.000000</td>\n",
       "      <td>0.000000</td>\n",
       "      <td>0.000000</td>\n",
       "      <td>1.000000</td>\n",
       "      <td>0.000000</td>\n",
       "      <td>3.000000</td>\n",
       "      <td>0.000000</td>\n",
       "      <td>1.000000</td>\n",
       "      <td>0.000000</td>\n",
       "      <td>0.000000</td>\n",
       "      <td>449.000000</td>\n",
       "      <td>3.000000</td>\n",
       "      <td>1.000000</td>\n",
       "      <td>0.000000</td>\n",
       "      <td>1.000000</td>\n",
       "    </tr>\n",
       "    <tr>\n",
       "      <th>max</th>\n",
       "      <td>1.000000</td>\n",
       "      <td>1.000000</td>\n",
       "      <td>1.000000</td>\n",
       "      <td>1.000000</td>\n",
       "      <td>1.000000</td>\n",
       "      <td>1.000000</td>\n",
       "      <td>27.000000</td>\n",
       "      <td>1.000000</td>\n",
       "      <td>1.000000</td>\n",
       "      <td>1.000000</td>\n",
       "      <td>1.000000</td>\n",
       "      <td>29829.000000</td>\n",
       "      <td>24.000000</td>\n",
       "      <td>43.000000</td>\n",
       "      <td>18.000000</td>\n",
       "      <td>1.000000</td>\n",
       "    </tr>\n",
       "  </tbody>\n",
       "</table>\n",
       "</div>"
      ],
      "text/plain": [
       "         IP_Address  Prefix/Suffix_in_Domain      Tiny_URL      @_Symbol  \\\n",
       "count  11430.000000             11430.000000  11430.000000  11430.000000   \n",
       "mean       0.150569                 0.202450      0.123447      0.021435   \n",
       "std        0.357644                 0.401843      0.328964      0.144835   \n",
       "min        0.000000                 0.000000      0.000000      0.000000   \n",
       "25%        0.000000                 0.000000      0.000000      0.000000   \n",
       "50%        0.000000                 0.000000      0.000000      0.000000   \n",
       "75%        0.000000                 0.000000      0.000000      0.000000   \n",
       "max        1.000000                 1.000000      1.000000      1.000000   \n",
       "\n",
       "         URL_Length  Http/https_in_Domain  Depth_Of_URL   Redirection  \\\n",
       "count  11430.000000          11430.000000  11430.000000  11430.000000   \n",
       "mean       0.417060              0.001312      1.829746      0.006562   \n",
       "std        0.493095              0.036204      1.887386      0.080742   \n",
       "min        0.000000              0.000000      0.000000      0.000000   \n",
       "25%        0.000000              0.000000      0.000000      0.000000   \n",
       "50%        0.000000              0.000000      2.000000      0.000000   \n",
       "75%        1.000000              0.000000      3.000000      0.000000   \n",
       "max        1.000000              1.000000     27.000000      1.000000   \n",
       "\n",
       "       Google_Index  WHOIS_Domain    DNS_Record  Registration_Length  \\\n",
       "count  11430.000000  11430.000000  11430.000000         11430.000000   \n",
       "mean       0.533946      0.072878      0.020122           492.532196   \n",
       "std        0.498868      0.259948      0.140425           814.769415   \n",
       "min        0.000000      0.000000      0.000000            -1.000000   \n",
       "25%        0.000000      0.000000      0.000000            84.000000   \n",
       "50%        1.000000      0.000000      0.000000           242.000000   \n",
       "75%        1.000000      0.000000      0.000000           449.000000   \n",
       "max        1.000000      1.000000      1.000000         29829.000000   \n",
       "\n",
       "        Num_of_Dots  Num_of_Hyphens  Num_of_Underscore         Label  \n",
       "count  11430.000000    11430.000000       11430.000000  11430.000000  \n",
       "mean       2.480665        0.997550           0.322660      0.500000  \n",
       "std        1.369685        2.087087           1.093336      0.500022  \n",
       "min        1.000000        0.000000           0.000000      0.000000  \n",
       "25%        2.000000        0.000000           0.000000      0.000000  \n",
       "50%        2.000000        0.000000           0.000000      0.500000  \n",
       "75%        3.000000        1.000000           0.000000      1.000000  \n",
       "max       24.000000       43.000000          18.000000      1.000000  "
      ]
     },
     "execution_count": 8,
     "metadata": {},
     "output_type": "execute_result"
    }
   ],
   "source": [
    "df.describe()"
   ]
  },
  {
   "cell_type": "code",
   "execution_count": 9,
   "metadata": {},
   "outputs": [],
   "source": [
    "df1 = df.drop(['Domain'], axis = 1).copy()"
   ]
  },
  {
   "cell_type": "code",
   "execution_count": 10,
   "metadata": {},
   "outputs": [
    {
     "data": {
      "text/plain": [
       "URL                        0\n",
       "IP_Address                 0\n",
       "Prefix/Suffix_in_Domain    0\n",
       "Tiny_URL                   0\n",
       "@_Symbol                   0\n",
       "URL_Length                 0\n",
       "Http/https_in_Domain       0\n",
       "Depth_Of_URL               0\n",
       "Redirection                0\n",
       "Google_Index               0\n",
       "WHOIS_Domain               0\n",
       "DNS_Record                 0\n",
       "Registration_Length        0\n",
       "Num_of_Dots                0\n",
       "Num_of_Hyphens             0\n",
       "Num_of_Underscore          0\n",
       "Label                      0\n",
       "dtype: int64"
      ]
     },
     "execution_count": 10,
     "metadata": {},
     "output_type": "execute_result"
    }
   ],
   "source": [
    "df1.isna().sum() #Checking if any NaN values exist in any of the columns of df1"
   ]
  },
  {
   "cell_type": "code",
   "execution_count": 11,
   "metadata": {},
   "outputs": [
    {
     "data": {
      "text/plain": [
       "URL                        0\n",
       "IP_Address                 0\n",
       "Prefix/Suffix_in_Domain    0\n",
       "Tiny_URL                   0\n",
       "@_Symbol                   0\n",
       "URL_Length                 0\n",
       "Http/https_in_Domain       0\n",
       "Depth_Of_URL               0\n",
       "Redirection                0\n",
       "Google_Index               0\n",
       "WHOIS_Domain               0\n",
       "DNS_Record                 0\n",
       "Registration_Length        0\n",
       "Num_of_Dots                0\n",
       "Num_of_Hyphens             0\n",
       "Num_of_Underscore          0\n",
       "Label                      0\n",
       "dtype: int64"
      ]
     },
     "execution_count": 11,
     "metadata": {},
     "output_type": "execute_result"
    }
   ],
   "source": [
    "df1.isnull().sum() #Checking if any null values exist in any of the columns of df1"
   ]
  },
  {
   "cell_type": "code",
   "execution_count": 12,
   "metadata": {},
   "outputs": [],
   "source": [
    "df_shuffled = df1.sample(frac=1).reset_index(drop=True) #Shuffling the entries of df1"
   ]
  },
  {
   "cell_type": "code",
   "execution_count": 13,
   "metadata": {},
   "outputs": [
    {
     "data": {
      "text/html": [
       "<div>\n",
       "<style scoped>\n",
       "    .dataframe tbody tr th:only-of-type {\n",
       "        vertical-align: middle;\n",
       "    }\n",
       "\n",
       "    .dataframe tbody tr th {\n",
       "        vertical-align: top;\n",
       "    }\n",
       "\n",
       "    .dataframe thead th {\n",
       "        text-align: right;\n",
       "    }\n",
       "</style>\n",
       "<table border=\"1\" class=\"dataframe\">\n",
       "  <thead>\n",
       "    <tr style=\"text-align: right;\">\n",
       "      <th></th>\n",
       "      <th>URL</th>\n",
       "      <th>IP_Address</th>\n",
       "      <th>Prefix/Suffix_in_Domain</th>\n",
       "      <th>Tiny_URL</th>\n",
       "      <th>@_Symbol</th>\n",
       "      <th>URL_Length</th>\n",
       "      <th>Http/https_in_Domain</th>\n",
       "      <th>Depth_Of_URL</th>\n",
       "      <th>Redirection</th>\n",
       "      <th>Google_Index</th>\n",
       "      <th>WHOIS_Domain</th>\n",
       "      <th>DNS_Record</th>\n",
       "      <th>Registration_Length</th>\n",
       "      <th>Num_of_Dots</th>\n",
       "      <th>Num_of_Hyphens</th>\n",
       "      <th>Num_of_Underscore</th>\n",
       "      <th>Label</th>\n",
       "    </tr>\n",
       "  </thead>\n",
       "  <tbody>\n",
       "    <tr>\n",
       "      <th>0</th>\n",
       "      <td>http://part.eyrehead.com/bzp?kl=ZH9wlG9qbGKclb...</td>\n",
       "      <td>0</td>\n",
       "      <td>0</td>\n",
       "      <td>0</td>\n",
       "      <td>1</td>\n",
       "      <td>1</td>\n",
       "      <td>0</td>\n",
       "      <td>1</td>\n",
       "      <td>0</td>\n",
       "      <td>1</td>\n",
       "      <td>0</td>\n",
       "      <td>0</td>\n",
       "      <td>217</td>\n",
       "      <td>4</td>\n",
       "      <td>0</td>\n",
       "      <td>0</td>\n",
       "      <td>1</td>\n",
       "    </tr>\n",
       "    <tr>\n",
       "      <th>1</th>\n",
       "      <td>https://www.facebook.com/CBSThisMorning/</td>\n",
       "      <td>0</td>\n",
       "      <td>0</td>\n",
       "      <td>0</td>\n",
       "      <td>0</td>\n",
       "      <td>0</td>\n",
       "      <td>0</td>\n",
       "      <td>1</td>\n",
       "      <td>0</td>\n",
       "      <td>0</td>\n",
       "      <td>0</td>\n",
       "      <td>0</td>\n",
       "      <td>2807</td>\n",
       "      <td>2</td>\n",
       "      <td>0</td>\n",
       "      <td>0</td>\n",
       "      <td>0</td>\n",
       "    </tr>\n",
       "    <tr>\n",
       "      <th>2</th>\n",
       "      <td>http://www.choose-piano-lessons.com/piano-keys...</td>\n",
       "      <td>0</td>\n",
       "      <td>0</td>\n",
       "      <td>0</td>\n",
       "      <td>0</td>\n",
       "      <td>0</td>\n",
       "      <td>0</td>\n",
       "      <td>1</td>\n",
       "      <td>0</td>\n",
       "      <td>0</td>\n",
       "      <td>0</td>\n",
       "      <td>0</td>\n",
       "      <td>124</td>\n",
       "      <td>3</td>\n",
       "      <td>3</td>\n",
       "      <td>0</td>\n",
       "      <td>0</td>\n",
       "    </tr>\n",
       "    <tr>\n",
       "      <th>3</th>\n",
       "      <td>https://hdsupply.allegiancetech.com/cgi-bin/qw...</td>\n",
       "      <td>0</td>\n",
       "      <td>1</td>\n",
       "      <td>0</td>\n",
       "      <td>0</td>\n",
       "      <td>1</td>\n",
       "      <td>0</td>\n",
       "      <td>2</td>\n",
       "      <td>0</td>\n",
       "      <td>1</td>\n",
       "      <td>0</td>\n",
       "      <td>0</td>\n",
       "      <td>289</td>\n",
       "      <td>3</td>\n",
       "      <td>1</td>\n",
       "      <td>0</td>\n",
       "      <td>1</td>\n",
       "    </tr>\n",
       "    <tr>\n",
       "      <th>4</th>\n",
       "      <td>http://paulbourke.net/geometry/pointlineplane/</td>\n",
       "      <td>0</td>\n",
       "      <td>0</td>\n",
       "      <td>0</td>\n",
       "      <td>0</td>\n",
       "      <td>0</td>\n",
       "      <td>0</td>\n",
       "      <td>2</td>\n",
       "      <td>0</td>\n",
       "      <td>0</td>\n",
       "      <td>0</td>\n",
       "      <td>0</td>\n",
       "      <td>941</td>\n",
       "      <td>1</td>\n",
       "      <td>0</td>\n",
       "      <td>0</td>\n",
       "      <td>0</td>\n",
       "    </tr>\n",
       "  </tbody>\n",
       "</table>\n",
       "</div>"
      ],
      "text/plain": [
       "                                                 URL  IP_Address  \\\n",
       "0  http://part.eyrehead.com/bzp?kl=ZH9wlG9qbGKclb...           0   \n",
       "1           https://www.facebook.com/CBSThisMorning/           0   \n",
       "2  http://www.choose-piano-lessons.com/piano-keys...           0   \n",
       "3  https://hdsupply.allegiancetech.com/cgi-bin/qw...           0   \n",
       "4     http://paulbourke.net/geometry/pointlineplane/           0   \n",
       "\n",
       "   Prefix/Suffix_in_Domain  Tiny_URL  @_Symbol  URL_Length  \\\n",
       "0                        0         0         1           1   \n",
       "1                        0         0         0           0   \n",
       "2                        0         0         0           0   \n",
       "3                        1         0         0           1   \n",
       "4                        0         0         0           0   \n",
       "\n",
       "   Http/https_in_Domain  Depth_Of_URL  Redirection  Google_Index  \\\n",
       "0                     0             1            0             1   \n",
       "1                     0             1            0             0   \n",
       "2                     0             1            0             0   \n",
       "3                     0             2            0             1   \n",
       "4                     0             2            0             0   \n",
       "\n",
       "   WHOIS_Domain  DNS_Record  Registration_Length  Num_of_Dots  Num_of_Hyphens  \\\n",
       "0             0           0                  217            4               0   \n",
       "1             0           0                 2807            2               0   \n",
       "2             0           0                  124            3               3   \n",
       "3             0           0                  289            3               1   \n",
       "4             0           0                  941            1               0   \n",
       "\n",
       "   Num_of_Underscore  Label  \n",
       "0                  0      1  \n",
       "1                  0      0  \n",
       "2                  0      0  \n",
       "3                  0      1  \n",
       "4                  0      0  "
      ]
     },
     "execution_count": 13,
     "metadata": {},
     "output_type": "execute_result"
    }
   ],
   "source": [
    "df_shuffled.head()"
   ]
  },
  {
   "cell_type": "code",
   "execution_count": 14,
   "metadata": {},
   "outputs": [],
   "source": [
    "y = df_shuffled['Label']\n",
    "X = df_shuffled.drop(['URL', 'Label'], axis = 1)"
   ]
  },
  {
   "cell_type": "code",
   "execution_count": 15,
   "metadata": {},
   "outputs": [],
   "source": [
    "# Trainsing set: 70%\n",
    "# Validating set: 15%\n",
    "# Testing set: 15%\n",
    "\n",
    "\n",
    "X_train, X_test, y_train, y_test = train_test_split(\n",
    "    X, y, \n",
    "    test_size=0.3, \n",
    "    random_state=10\n",
    ")\n"
   ]
  },
  {
   "cell_type": "code",
   "execution_count": 16,
   "metadata": {},
   "outputs": [],
   "source": [
    "X_val, X_test, y_val, y_test = train_test_split(\n",
    "    X_test, y_test, \n",
    "    test_size=0.5, \n",
    "    random_state=10\n",
    ")"
   ]
  },
  {
   "cell_type": "code",
   "execution_count": 17,
   "metadata": {},
   "outputs": [
    {
     "data": {
      "text/plain": [
       "(8001, 15)"
      ]
     },
     "execution_count": 17,
     "metadata": {},
     "output_type": "execute_result"
    }
   ],
   "source": [
    "X_train.shape"
   ]
  },
  {
   "cell_type": "code",
   "execution_count": 18,
   "metadata": {},
   "outputs": [
    {
     "data": {
      "text/plain": [
       "(1714, 15)"
      ]
     },
     "execution_count": 18,
     "metadata": {},
     "output_type": "execute_result"
    }
   ],
   "source": [
    "X_val.shape"
   ]
  },
  {
   "cell_type": "code",
   "execution_count": 19,
   "metadata": {},
   "outputs": [
    {
     "data": {
      "text/plain": [
       "(1715, 15)"
      ]
     },
     "execution_count": 19,
     "metadata": {},
     "output_type": "execute_result"
    }
   ],
   "source": [
    "X_test.shape"
   ]
  },
  {
   "cell_type": "code",
   "execution_count": 20,
   "metadata": {},
   "outputs": [],
   "source": [
    "y_train = y_train.reset_index(drop=True)\n",
    "y_val = y_val.reset_index(drop=True)\n",
    "y_test = y_test.reset_index(drop=True)\n",
    "\n"
   ]
  },
  {
   "cell_type": "code",
   "execution_count": 21,
   "metadata": {},
   "outputs": [],
   "source": [
    "X_train.to_csv(\"Training Dataset/X_train #2.csv\")\n",
    "X_val.to_csv(\"Validation Dataset/X_val #2.csv\")\n",
    "X_test.to_csv(\"Testing Dataset/X_test #2.csv\")\n",
    "\n",
    "y_train.to_csv(\"Training Dataset/y_train #2.csv\")\n",
    "y_val.to_csv(\"Validation Dataset/y_val #2.csv\")\n",
    "y_test.to_csv(\"Testing Dataset/y_test #2.csv\")"
   ]
  }
 ],
 "metadata": {
  "language_info": {
   "name": "python"
  }
 },
 "nbformat": 4,
 "nbformat_minor": 2
}
