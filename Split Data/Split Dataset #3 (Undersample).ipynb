{
 "cells": [
  {
   "cell_type": "code",
   "execution_count": 1,
   "metadata": {},
   "outputs": [],
   "source": [
    "from imblearn.under_sampling import RandomUnderSampler\n",
    "from sklearn.model_selection import train_test_split\n",
    "import pandas as pd\n",
    "import matplotlib.pyplot as plt"
   ]
  },
  {
   "cell_type": "code",
   "execution_count": 2,
   "metadata": {},
   "outputs": [],
   "source": [
    "df = pd.read_csv(\"../Processed Data/Dataset#3 After Feature Extraction.csv\", dtype={1: str}) #Reading in the CSV file into a Dataframe"
   ]
  },
  {
   "cell_type": "code",
   "execution_count": 3,
   "metadata": {},
   "outputs": [
    {
     "data": {
      "text/plain": [
       "(522214, 14)"
      ]
     },
     "execution_count": 3,
     "metadata": {},
     "output_type": "execute_result"
    }
   ],
   "source": [
    "df.shape"
   ]
  },
  {
   "cell_type": "code",
   "execution_count": 4,
   "metadata": {},
   "outputs": [
    {
     "data": {
      "image/png": "[encoded data removed]",
      "text/plain": [
       "<Figure size 1000x400 with 1 Axes>"
      ]
     },
     "metadata": {},
     "output_type": "display_data"
    }
   ],
   "source": [
    "label_counts = df['Label'].value_counts()\n",
    "\n",
    "plt.figure(figsize=(10, 4))\n",
    "label_counts.plot(kind='bar', color='blue')\n",
    "plt.title('Distribution of Labels')\n",
    "plt.xlabel('Labels')\n",
    "plt.ylabel('Count')\n",
    "plt.xticks(rotation=0)\n",
    "plt.show()\n"
   ]
  },
  {
   "cell_type": "code",
   "execution_count": 5,
   "metadata": {},
   "outputs": [
    {
     "name": "stdout",
     "output_type": "stream",
     "text": [
      "<class 'pandas.core.frame.DataFrame'>\n",
      "RangeIndex: 522214 entries, 0 to 522213\n",
      "Data columns (total 14 columns):\n",
      " #   Column                   Non-Null Count   Dtype \n",
      "---  ------                   --------------   ----- \n",
      " 0   URL                      522214 non-null  object\n",
      " 1   Domain                   60232 non-null   object\n",
      " 2   IP_Address               522214 non-null  int64 \n",
      " 3   Prefix/Suffix_in_Domain  522214 non-null  int64 \n",
      " 4   Tiny_URL                 522214 non-null  int64 \n",
      " 5   @_Symbol                 522214 non-null  int64 \n",
      " 6   URL_Length               522214 non-null  int64 \n",
      " 7   Http/https_in_Domain     522214 non-null  int64 \n",
      " 8   Depth_Of_URL             522214 non-null  int64 \n",
      " 9   Redirection              522214 non-null  int64 \n",
      " 10  Num_of_Dots              522214 non-null  int64 \n",
      " 11  Num_of_Hyphens           522214 non-null  int64 \n",
      " 12  Num_of_Underscore        522214 non-null  int64 \n",
      " 13  Label                    522214 non-null  int64 \n",
      "dtypes: int64(12), object(2)\n",
      "memory usage: 55.8+ MB\n"
     ]
    }
   ],
   "source": [
    "df.info()"
   ]
  },
  {
   "cell_type": "code",
   "execution_count": 6,
   "metadata": {},
   "outputs": [
    {
     "data": {
      "text/html": [
       "<div>\n",
       "<style scoped>\n",
       "    .dataframe tbody tr th:only-of-type {\n",
       "        vertical-align: middle;\n",
       "    }\n",
       "\n",
       "    .dataframe tbody tr th {\n",
       "        vertical-align: top;\n",
       "    }\n",
       "\n",
       "    .dataframe thead th {\n",
       "        text-align: right;\n",
       "    }\n",
       "</style>\n",
       "<table border=\"1\" class=\"dataframe\">\n",
       "  <thead>\n",
       "    <tr style=\"text-align: right;\">\n",
       "      <th></th>\n",
       "      <th>IP_Address</th>\n",
       "      <th>Prefix/Suffix_in_Domain</th>\n",
       "      <th>Tiny_URL</th>\n",
       "      <th>@_Symbol</th>\n",
       "      <th>URL_Length</th>\n",
       "      <th>Http/https_in_Domain</th>\n",
       "      <th>Depth_Of_URL</th>\n",
       "      <th>Redirection</th>\n",
       "      <th>Num_of_Dots</th>\n",
       "      <th>Num_of_Hyphens</th>\n",
       "      <th>Num_of_Underscore</th>\n",
       "      <th>Label</th>\n",
       "    </tr>\n",
       "  </thead>\n",
       "  <tbody>\n",
       "    <tr>\n",
       "      <th>count</th>\n",
       "      <td>522214.000000</td>\n",
       "      <td>522214.000000</td>\n",
       "      <td>522214.000000</td>\n",
       "      <td>522214.000000</td>\n",
       "      <td>522214.000000</td>\n",
       "      <td>522214.000000</td>\n",
       "      <td>522214.000000</td>\n",
       "      <td>522214.000000</td>\n",
       "      <td>522214.000000</td>\n",
       "      <td>522214.000000</td>\n",
       "      <td>522214.000000</td>\n",
       "      <td>522214.000000</td>\n",
       "    </tr>\n",
       "    <tr>\n",
       "      <th>mean</th>\n",
       "      <td>0.000620</td>\n",
       "      <td>0.009839</td>\n",
       "      <td>0.000686</td>\n",
       "      <td>0.002493</td>\n",
       "      <td>0.363228</td>\n",
       "      <td>0.000025</td>\n",
       "      <td>3.015838</td>\n",
       "      <td>0.002664</td>\n",
       "      <td>2.036968</td>\n",
       "      <td>1.592230</td>\n",
       "      <td>0.416134</td>\n",
       "      <td>0.180215</td>\n",
       "    </tr>\n",
       "    <tr>\n",
       "      <th>std</th>\n",
       "      <td>0.024901</td>\n",
       "      <td>0.098702</td>\n",
       "      <td>0.026174</td>\n",
       "      <td>0.049870</td>\n",
       "      <td>0.480930</td>\n",
       "      <td>0.004989</td>\n",
       "      <td>1.611931</td>\n",
       "      <td>0.051542</td>\n",
       "      <td>1.551469</td>\n",
       "      <td>3.091309</td>\n",
       "      <td>1.257731</td>\n",
       "      <td>0.384367</td>\n",
       "    </tr>\n",
       "    <tr>\n",
       "      <th>min</th>\n",
       "      <td>0.000000</td>\n",
       "      <td>0.000000</td>\n",
       "      <td>0.000000</td>\n",
       "      <td>0.000000</td>\n",
       "      <td>0.000000</td>\n",
       "      <td>0.000000</td>\n",
       "      <td>0.000000</td>\n",
       "      <td>0.000000</td>\n",
       "      <td>0.000000</td>\n",
       "      <td>0.000000</td>\n",
       "      <td>0.000000</td>\n",
       "      <td>0.000000</td>\n",
       "    </tr>\n",
       "    <tr>\n",
       "      <th>25%</th>\n",
       "      <td>0.000000</td>\n",
       "      <td>0.000000</td>\n",
       "      <td>0.000000</td>\n",
       "      <td>0.000000</td>\n",
       "      <td>0.000000</td>\n",
       "      <td>0.000000</td>\n",
       "      <td>2.000000</td>\n",
       "      <td>0.000000</td>\n",
       "      <td>1.000000</td>\n",
       "      <td>0.000000</td>\n",
       "      <td>0.000000</td>\n",
       "      <td>0.000000</td>\n",
       "    </tr>\n",
       "    <tr>\n",
       "      <th>50%</th>\n",
       "      <td>0.000000</td>\n",
       "      <td>0.000000</td>\n",
       "      <td>0.000000</td>\n",
       "      <td>0.000000</td>\n",
       "      <td>0.000000</td>\n",
       "      <td>0.000000</td>\n",
       "      <td>3.000000</td>\n",
       "      <td>0.000000</td>\n",
       "      <td>2.000000</td>\n",
       "      <td>0.000000</td>\n",
       "      <td>0.000000</td>\n",
       "      <td>0.000000</td>\n",
       "    </tr>\n",
       "    <tr>\n",
       "      <th>75%</th>\n",
       "      <td>0.000000</td>\n",
       "      <td>0.000000</td>\n",
       "      <td>0.000000</td>\n",
       "      <td>0.000000</td>\n",
       "      <td>1.000000</td>\n",
       "      <td>0.000000</td>\n",
       "      <td>4.000000</td>\n",
       "      <td>0.000000</td>\n",
       "      <td>2.000000</td>\n",
       "      <td>2.000000</td>\n",
       "      <td>0.000000</td>\n",
       "      <td>0.000000</td>\n",
       "    </tr>\n",
       "    <tr>\n",
       "      <th>max</th>\n",
       "      <td>1.000000</td>\n",
       "      <td>1.000000</td>\n",
       "      <td>1.000000</td>\n",
       "      <td>1.000000</td>\n",
       "      <td>1.000000</td>\n",
       "      <td>1.000000</td>\n",
       "      <td>38.000000</td>\n",
       "      <td>1.000000</td>\n",
       "      <td>42.000000</td>\n",
       "      <td>87.000000</td>\n",
       "      <td>79.000000</td>\n",
       "      <td>1.000000</td>\n",
       "    </tr>\n",
       "  </tbody>\n",
       "</table>\n",
       "</div>"
      ],
      "text/plain": [
       "          IP_Address  Prefix/Suffix_in_Domain       Tiny_URL       @_Symbol  \\\n",
       "count  522214.000000            522214.000000  522214.000000  522214.000000   \n",
       "mean        0.000620                 0.009839       0.000686       0.002493   \n",
       "std         0.024901                 0.098702       0.026174       0.049870   \n",
       "min         0.000000                 0.000000       0.000000       0.000000   \n",
       "25%         0.000000                 0.000000       0.000000       0.000000   \n",
       "50%         0.000000                 0.000000       0.000000       0.000000   \n",
       "75%         0.000000                 0.000000       0.000000       0.000000   \n",
       "max         1.000000                 1.000000       1.000000       1.000000   \n",
       "\n",
       "          URL_Length  Http/https_in_Domain   Depth_Of_URL    Redirection  \\\n",
       "count  522214.000000         522214.000000  522214.000000  522214.000000   \n",
       "mean        0.363228              0.000025       3.015838       0.002664   \n",
       "std         0.480930              0.004989       1.611931       0.051542   \n",
       "min         0.000000              0.000000       0.000000       0.000000   \n",
       "25%         0.000000              0.000000       2.000000       0.000000   \n",
       "50%         0.000000              0.000000       3.000000       0.000000   \n",
       "75%         1.000000              0.000000       4.000000       0.000000   \n",
       "max         1.000000              1.000000      38.000000       1.000000   \n",
       "\n",
       "         Num_of_Dots  Num_of_Hyphens  Num_of_Underscore          Label  \n",
       "count  522214.000000   522214.000000      522214.000000  522214.000000  \n",
       "mean        2.036968        1.592230           0.416134       0.180215  \n",
       "std         1.551469        3.091309           1.257731       0.384367  \n",
       "min         0.000000        0.000000           0.000000       0.000000  \n",
       "25%         1.000000        0.000000           0.000000       0.000000  \n",
       "50%         2.000000        0.000000           0.000000       0.000000  \n",
       "75%         2.000000        2.000000           0.000000       0.000000  \n",
       "max        42.000000       87.000000          79.000000       1.000000  "
      ]
     },
     "execution_count": 6,
     "metadata": {},
     "output_type": "execute_result"
    }
   ],
   "source": [
    "df.describe()"
   ]
  },
  {
   "cell_type": "code",
   "execution_count": 9,
   "metadata": {},
   "outputs": [],
   "source": [
    "df1 = df.drop(['Domain'], axis = 1).copy()"
   ]
  },
  {
   "cell_type": "code",
   "execution_count": 10,
   "metadata": {},
   "outputs": [
    {
     "data": {
      "text/plain": [
       "URL                        0\n",
       "IP_Address                 0\n",
       "Prefix/Suffix_in_Domain    0\n",
       "Tiny_URL                   0\n",
       "@_Symbol                   0\n",
       "URL_Length                 0\n",
       "Http/https_in_Domain       0\n",
       "Depth_Of_URL               0\n",
       "Redirection                0\n",
       "Num_of_Dots                0\n",
       "Num_of_Hyphens             0\n",
       "Num_of_Underscore          0\n",
       "Label                      0\n",
       "dtype: int64"
      ]
     },
     "execution_count": 10,
     "metadata": {},
     "output_type": "execute_result"
    }
   ],
   "source": [
    "df1.isna().sum() #Checking if any NaN values exist in any of the columns of df1"
   ]
  },
  {
   "cell_type": "code",
   "execution_count": 11,
   "metadata": {},
   "outputs": [
    {
     "data": {
      "text/plain": [
       "URL                        0\n",
       "IP_Address                 0\n",
       "Prefix/Suffix_in_Domain    0\n",
       "Tiny_URL                   0\n",
       "@_Symbol                   0\n",
       "URL_Length                 0\n",
       "Http/https_in_Domain       0\n",
       "Depth_Of_URL               0\n",
       "Redirection                0\n",
       "Num_of_Dots                0\n",
       "Num_of_Hyphens             0\n",
       "Num_of_Underscore          0\n",
       "Label                      0\n",
       "dtype: int64"
      ]
     },
     "execution_count": 11,
     "metadata": {},
     "output_type": "execute_result"
    }
   ],
   "source": [
    "df1.isnull().sum() #Checking if any null values exist in any of the columns of df1"
   ]
  },
  {
   "cell_type": "code",
   "execution_count": 12,
   "metadata": {},
   "outputs": [],
   "source": [
    "df_shuffled = df1.sample(frac=1).reset_index(drop=True) #Shuffling the entries of df1"
   ]
  },
  {
   "cell_type": "code",
   "execution_count": 13,
   "metadata": {},
   "outputs": [
    {
     "data": {
      "text/html": [
       "<div>\n",
       "<style scoped>\n",
       "    .dataframe tbody tr th:only-of-type {\n",
       "        vertical-align: middle;\n",
       "    }\n",
       "\n",
       "    .dataframe tbody tr th {\n",
       "        vertical-align: top;\n",
       "    }\n",
       "\n",
       "    .dataframe thead th {\n",
       "        text-align: right;\n",
       "    }\n",
       "</style>\n",
       "<table border=\"1\" class=\"dataframe\">\n",
       "  <thead>\n",
       "    <tr style=\"text-align: right;\">\n",
       "      <th></th>\n",
       "      <th>URL</th>\n",
       "      <th>IP_Address</th>\n",
       "      <th>Prefix/Suffix_in_Domain</th>\n",
       "      <th>Tiny_URL</th>\n",
       "      <th>@_Symbol</th>\n",
       "      <th>URL_Length</th>\n",
       "      <th>Http/https_in_Domain</th>\n",
       "      <th>Depth_Of_URL</th>\n",
       "      <th>Redirection</th>\n",
       "      <th>Num_of_Dots</th>\n",
       "      <th>Num_of_Hyphens</th>\n",
       "      <th>Num_of_Underscore</th>\n",
       "      <th>Label</th>\n",
       "    </tr>\n",
       "  </thead>\n",
       "  <tbody>\n",
       "    <tr>\n",
       "      <th>0</th>\n",
       "      <td>jeopardylabs.com/browse/</td>\n",
       "      <td>0</td>\n",
       "      <td>0</td>\n",
       "      <td>0</td>\n",
       "      <td>0</td>\n",
       "      <td>0</td>\n",
       "      <td>0</td>\n",
       "      <td>2</td>\n",
       "      <td>0</td>\n",
       "      <td>1</td>\n",
       "      <td>0</td>\n",
       "      <td>0</td>\n",
       "      <td>0</td>\n",
       "    </tr>\n",
       "    <tr>\n",
       "      <th>1</th>\n",
       "      <td>hobartcorp.com/Contact-Us/</td>\n",
       "      <td>0</td>\n",
       "      <td>0</td>\n",
       "      <td>0</td>\n",
       "      <td>0</td>\n",
       "      <td>0</td>\n",
       "      <td>0</td>\n",
       "      <td>2</td>\n",
       "      <td>0</td>\n",
       "      <td>1</td>\n",
       "      <td>1</td>\n",
       "      <td>0</td>\n",
       "      <td>0</td>\n",
       "    </tr>\n",
       "    <tr>\n",
       "      <th>2</th>\n",
       "      <td>yugioh.wikia.com/wiki/Joey_Wheeler</td>\n",
       "      <td>0</td>\n",
       "      <td>0</td>\n",
       "      <td>0</td>\n",
       "      <td>0</td>\n",
       "      <td>0</td>\n",
       "      <td>0</td>\n",
       "      <td>3</td>\n",
       "      <td>0</td>\n",
       "      <td>2</td>\n",
       "      <td>0</td>\n",
       "      <td>1</td>\n",
       "      <td>0</td>\n",
       "    </tr>\n",
       "    <tr>\n",
       "      <th>3</th>\n",
       "      <td>blogs.orlandosentinel.com/sports_highschool_va...</td>\n",
       "      <td>0</td>\n",
       "      <td>0</td>\n",
       "      <td>0</td>\n",
       "      <td>0</td>\n",
       "      <td>1</td>\n",
       "      <td>0</td>\n",
       "      <td>6</td>\n",
       "      <td>0</td>\n",
       "      <td>2</td>\n",
       "      <td>7</td>\n",
       "      <td>2</td>\n",
       "      <td>0</td>\n",
       "    </tr>\n",
       "    <tr>\n",
       "      <th>4</th>\n",
       "      <td>en.wikipedia.org/wiki/CFCF</td>\n",
       "      <td>0</td>\n",
       "      <td>0</td>\n",
       "      <td>0</td>\n",
       "      <td>0</td>\n",
       "      <td>0</td>\n",
       "      <td>0</td>\n",
       "      <td>3</td>\n",
       "      <td>0</td>\n",
       "      <td>2</td>\n",
       "      <td>0</td>\n",
       "      <td>0</td>\n",
       "      <td>0</td>\n",
       "    </tr>\n",
       "  </tbody>\n",
       "</table>\n",
       "</div>"
      ],
      "text/plain": [
       "                                                 URL  IP_Address  \\\n",
       "0                           jeopardylabs.com/browse/           0   \n",
       "1                         hobartcorp.com/Contact-Us/           0   \n",
       "2                 yugioh.wikia.com/wiki/Joey_Wheeler           0   \n",
       "3  blogs.orlandosentinel.com/sports_highschool_va...           0   \n",
       "4                         en.wikipedia.org/wiki/CFCF           0   \n",
       "\n",
       "   Prefix/Suffix_in_Domain  Tiny_URL  @_Symbol  URL_Length  \\\n",
       "0                        0         0         0           0   \n",
       "1                        0         0         0           0   \n",
       "2                        0         0         0           0   \n",
       "3                        0         0         0           1   \n",
       "4                        0         0         0           0   \n",
       "\n",
       "   Http/https_in_Domain  Depth_Of_URL  Redirection  Num_of_Dots  \\\n",
       "0                     0             2            0            1   \n",
       "1                     0             2            0            1   \n",
       "2                     0             3            0            2   \n",
       "3                     0             6            0            2   \n",
       "4                     0             3            0            2   \n",
       "\n",
       "   Num_of_Hyphens  Num_of_Underscore  Label  \n",
       "0               0                  0      0  \n",
       "1               1                  0      0  \n",
       "2               0                  1      0  \n",
       "3               7                  2      0  \n",
       "4               0                  0      0  "
      ]
     },
     "execution_count": 13,
     "metadata": {},
     "output_type": "execute_result"
    }
   ],
   "source": [
    "df_shuffled.head()"
   ]
  },
  {
   "cell_type": "code",
   "execution_count": 14,
   "metadata": {},
   "outputs": [],
   "source": [
    "y = df_shuffled['Label']\n",
    "X = df_shuffled.drop(['URL', 'Label'], axis = 1)"
   ]
  },
  {
   "cell_type": "code",
   "execution_count": 15,
   "metadata": {},
   "outputs": [],
   "source": [
    "# Trainsing set: 70%\n",
    "# Validating set: 15%\n",
    "# Testing set: 15%\n",
    "\n",
    "\n",
    "X_train, X_test, y_train, y_test = train_test_split(\n",
    "    X, y, \n",
    "    test_size=0.3, \n",
    "    stratify=y,  #Due to the huge imbalance of the two classes(phishing = 1, benign = 0), the ratio of splititng between the classes are maintained\n",
    "    random_state=10\n",
    ")\n"
   ]
  },
  {
   "cell_type": "code",
   "execution_count": 16,
   "metadata": {},
   "outputs": [],
   "source": [
    "X_val, X_test, y_val, y_test = train_test_split(\n",
    "    X_test, y_test, \n",
    "    test_size=0.5, \n",
    "    stratify=y_test, #Due to the huge imbalance of the two classes(phishing = 1, benign = 0), the ratio of splititng between the classes are maintained\n",
    "    random_state=10\n",
    ")"
   ]
  },
  {
   "cell_type": "code",
   "execution_count": 17,
   "metadata": {},
   "outputs": [],
   "source": [
    "undersample = RandomUnderSampler(random_state=42)\n",
    "X_train, y_train = undersample.fit_resample(X_train, y_train)"
   ]
  },
  {
   "cell_type": "code",
   "execution_count": 18,
   "metadata": {},
   "outputs": [
    {
     "data": {
      "text/plain": [
       "(131756, 11)"
      ]
     },
     "execution_count": 18,
     "metadata": {},
     "output_type": "execute_result"
    }
   ],
   "source": [
    "X_train.shape"
   ]
  },
  {
   "cell_type": "code",
   "execution_count": 19,
   "metadata": {},
   "outputs": [
    {
     "data": {
      "text/plain": [
       "(78332, 11)"
      ]
     },
     "execution_count": 19,
     "metadata": {},
     "output_type": "execute_result"
    }
   ],
   "source": [
    "X_val.shape"
   ]
  },
  {
   "cell_type": "code",
   "execution_count": 20,
   "metadata": {},
   "outputs": [
    {
     "data": {
      "text/plain": [
       "(78333, 11)"
      ]
     },
     "execution_count": 20,
     "metadata": {},
     "output_type": "execute_result"
    }
   ],
   "source": [
    "X_test.shape"
   ]
  },
  {
   "cell_type": "code",
   "execution_count": 21,
   "metadata": {},
   "outputs": [],
   "source": [
    "y_train = y_train.reset_index(drop=True)\n",
    "y_val = y_val.reset_index(drop=True)\n",
    "y_test = y_test.reset_index(drop=True)\n",
    "\n"
   ]
  },
  {
   "cell_type": "code",
   "execution_count": 22,
   "metadata": {},
   "outputs": [],
   "source": [
    "X_train.to_csv(\"Training Dataset/X_train (Undersample)#3.csv\")\n",
    "X_val.to_csv(\"Validation Dataset/X_val (Undersample)#3.csv\")\n",
    "X_test.to_csv(\"Testing Dataset/X_test (Undersample)#3.csv\")\n",
    "\n",
    "y_train.to_csv(\"Training Dataset/y_train (Undersample)#3.csv\")\n",
    "y_val.to_csv(\"Validation Dataset/y_val (Undersample)#3.csv\")\n",
    "y_test.to_csv(\"Testing Dataset/y_test (Undersample)#3.csv\")"
   ]
  }
 ],
 "metadata": {
  "language_info": {
   "name": "python"
  }
 },
 "nbformat": 4,
 "nbformat_minor": 2
}
